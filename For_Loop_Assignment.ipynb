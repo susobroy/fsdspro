{
 "cells": [
  {
   "cell_type": "markdown",
   "id": "68267222-c48c-401c-9d32-ecc34c32dc6b",
   "metadata": {},
   "source": [
    "Problem 1: Write a Python program to print the numbers from 1 to 10 using a `for` loop."
   ]
  },
  {
   "cell_type": "code",
   "execution_count": 7,
   "id": "683ca8f8-1778-4bcd-9ded-ff4a1ee294a3",
   "metadata": {},
   "outputs": [
    {
     "name": "stdout",
     "output_type": "stream",
     "text": [
      "1 2 3 4 5 6 7 8 9 10 "
     ]
    }
   ],
   "source": [
    "#Print from 1 to 10 using for loop\n",
    "for i in range(1,11):\n",
    "    print(i,end=' ')"
   ]
  },
  {
   "cell_type": "markdown",
   "id": "b78fc7e9-ece5-4a45-a68e-84fa39683296",
   "metadata": {},
   "source": [
    "Problem 2: Create a program that calculates the sum of all numbers in a list using a `for` loop."
   ]
  },
  {
   "cell_type": "code",
   "execution_count": 8,
   "id": "4103d821-1ab8-491b-9afa-3b89beb17541",
   "metadata": {},
   "outputs": [
    {
     "name": "stdout",
     "output_type": "stream",
     "text": [
      "The sum of the elements of the list:  41\n"
     ]
    }
   ],
   "source": [
    "#declare a list\n",
    "mylist = [9,9,3,2,2,2,1,3,4,6]\n",
    "#initialize the sum variable\n",
    "res = 0\n",
    "#calculate the sum using for loop\n",
    "for element in mylist:\n",
    "    res = res + element\n",
    "#print the sum\n",
    "print('The sum of the elements of the list: ',res)"
   ]
  },
  {
   "cell_type": "markdown",
   "id": "5b777801-8523-4ad6-8012-523d0258dbea",
   "metadata": {},
   "source": [
    "Problem 3: Write a program to print the characters of a string in reverse order using a `for` loop."
   ]
  },
  {
   "cell_type": "code",
   "execution_count": 9,
   "id": "3d043181-3f1d-4aac-a4db-0a2e96a80bea",
   "metadata": {},
   "outputs": [
    {
     "name": "stdout",
     "output_type": "stream",
     "text": [
      "The string in reverse order:  nahbosus\n"
     ]
    }
   ],
   "source": [
    "#declare a string\n",
    "mystr = 'susobhan'\n",
    "#print the string in reverse order\n",
    "print('The string in reverse order: ', mystr[::-1])"
   ]
  },
  {
   "cell_type": "markdown",
   "id": "5e8a260f-e3cf-4e9c-8639-623d46be37fc",
   "metadata": {},
   "source": [
    "Problem 4: Develop a program that finds the factorial of a given number using a `for` loop."
   ]
  },
  {
   "cell_type": "code",
   "execution_count": 15,
   "id": "ccff22fb-03b2-4ea5-9d57-58b2e73a488f",
   "metadata": {},
   "outputs": [
    {
     "name": "stdin",
     "output_type": "stream",
     "text": [
      "Enter a number to find factorial:  5\n"
     ]
    },
    {
     "name": "stdout",
     "output_type": "stream",
     "text": [
      "The factorial of number 5 is: 120\n"
     ]
    }
   ],
   "source": [
    "#define a factorial function\n",
    "def fact(n):\n",
    "    if n==0:\n",
    "        return 1\n",
    "    else:\n",
    "        prod = 1\n",
    "        for i in range (1,n+1):\n",
    "            prod = prod * i\n",
    "        return prod\n",
    "\n",
    "#enter a number\n",
    "num = int(input(\"Enter a number to find factorial: \"))\n",
    "#call the function to find factorial\n",
    "print(\"The factorial of number {0} is: {1}\".format(num,fact(num)))"
   ]
  },
  {
   "cell_type": "markdown",
   "id": "0888bf1f-be25-476c-9041-36445cc1c92f",
   "metadata": {},
   "source": [
    "Problem 5: Create a program to print the multiplication table of a given number using a `for` loop"
   ]
  },
  {
   "cell_type": "code",
   "execution_count": 20,
   "id": "4862589a-fc4b-4da8-90a6-70e4973bd629",
   "metadata": {},
   "outputs": [
    {
     "name": "stdin",
     "output_type": "stream",
     "text": [
      "Enter the number for multiplication table:  7\n"
     ]
    },
    {
     "name": "stdout",
     "output_type": "stream",
     "text": [
      "7 X 1 = 7\n",
      "7 X 2 = 14\n",
      "7 X 3 = 21\n",
      "7 X 4 = 28\n",
      "7 X 5 = 35\n",
      "7 X 6 = 42\n",
      "7 X 7 = 49\n",
      "7 X 8 = 56\n",
      "7 X 9 = 63\n",
      "7 X 10 = 70\n"
     ]
    }
   ],
   "source": [
    "#define a multiplication function\n",
    "def multiply(n):\n",
    "    for i in range (1,11):\n",
    "        print('{0} X {1} = {2}'.format(n,i,n*i))\n",
    "        \n",
    "#Enter the number for multiplication table\n",
    "num = int(input('Enter the number for multiplication table: '))\n",
    "#print the multiplication table\n",
    "multiply(num)"
   ]
  },
  {
   "cell_type": "markdown",
   "id": "e444a1c8-351a-4511-86b0-0a61679d988c",
   "metadata": {},
   "source": [
    "Problem 6: Write a program that counts the number of even and odd numbers in a list using a `for` loop."
   ]
  },
  {
   "cell_type": "code",
   "execution_count": 24,
   "id": "947cd342-e9ab-4f3b-8eb4-99880a1df8b4",
   "metadata": {},
   "outputs": [
    {
     "name": "stdout",
     "output_type": "stream",
     "text": [
      "The number of even numbers in the list are:  5\n",
      "The number of odd numbers in the list are:  5\n"
     ]
    }
   ],
   "source": [
    "#create a list\n",
    "mylist = [9,9,3,2,2,2,1,3,4,6]\n",
    "#declare and initialize the counters\n",
    "even = 0\n",
    "odd = 0\n",
    "for element in mylist:\n",
    "    if element%2==0:\n",
    "        even = even+1 \n",
    "    else:\n",
    "        odd = odd+1\n",
    "print('The number of even numbers in the list are: ',even)\n",
    "print('The number of odd numbers in the list are: ',odd)"
   ]
  },
  {
   "cell_type": "markdown",
   "id": "d1afe4ae-96de-462a-912f-d603914b502e",
   "metadata": {},
   "source": [
    "Problem 7: Develop a program that prints the squares of numbers from 1 to 5 using a `for` loop."
   ]
  },
  {
   "cell_type": "code",
   "execution_count": 27,
   "id": "bdef97b8-d57d-4bea-9ada-6ed3b976d38e",
   "metadata": {},
   "outputs": [
    {
     "name": "stdout",
     "output_type": "stream",
     "text": [
      "1 4 9 16 25 "
     ]
    }
   ],
   "source": [
    "#print square of numbers 1 to 5\n",
    "for i in range (1,6):\n",
    "    print(i**2,end=\" \")"
   ]
  },
  {
   "cell_type": "markdown",
   "id": "60ede4d1-5618-4541-ad0b-49c2dd533875",
   "metadata": {},
   "source": [
    "Problem 8: Create a program to find the length of a string without using the `len()` function."
   ]
  },
  {
   "cell_type": "code",
   "execution_count": 29,
   "id": "b2c32d14-390f-4d43-8c21-67dd9fe8a057",
   "metadata": {},
   "outputs": [
    {
     "name": "stdout",
     "output_type": "stream",
     "text": [
      "The length of the string is: 8\n"
     ]
    }
   ],
   "source": [
    "#create a string\n",
    "mystr = \"Susobhan\"\n",
    "#initialize the len variable\n",
    "len=0\n",
    "for i in mystr:\n",
    "    len = len+1\n",
    "print('The length of the string is:',len)"
   ]
  },
  {
   "cell_type": "markdown",
   "id": "0d32ed72-1ea1-4fa5-9523-3e367a8ae15c",
   "metadata": {},
   "source": [
    "Problem 9: Write a program that calculates the average of a list of numbers using a `for` loop."
   ]
  },
  {
   "cell_type": "code",
   "execution_count": 30,
   "id": "bc91de75-a5e2-4867-b41a-3ba745a4880e",
   "metadata": {},
   "outputs": [
    {
     "name": "stdout",
     "output_type": "stream",
     "text": [
      "The average is:  4.1\n"
     ]
    }
   ],
   "source": [
    "#create a list\n",
    "mylist = [9,9,3,2,2,2,1,3,4,6]\n",
    "#initialize the variable\n",
    "sum = 0\n",
    "count = 0\n",
    "for num in mylist:\n",
    "    sum = sum + num\n",
    "    count = count + 1\n",
    "print('The average is: ',sum/count)"
   ]
  },
  {
   "cell_type": "markdown",
   "id": "977176c0-9e50-4203-ac35-25fb04296c9f",
   "metadata": {},
   "source": [
    "Problem 10: Develop a program that prints the first `n` Fibonacci numbers using a `for` loop."
   ]
  },
  {
   "cell_type": "code",
   "execution_count": 36,
   "id": "83eb5afe-aebe-47c6-bc98-89eaf412299b",
   "metadata": {},
   "outputs": [
    {
     "name": "stdin",
     "output_type": "stream",
     "text": [
      "Enter the number for Fibonacci:  8\n"
     ]
    },
    {
     "name": "stdout",
     "output_type": "stream",
     "text": [
      "0 1 1 2 3 5 8 13 21 None\n"
     ]
    }
   ],
   "source": [
    "#define a fibonaci function\n",
    "def fibo(n):\n",
    "    n1,n2=0,1\n",
    "    if n==1:\n",
    "        print(n1)\n",
    "    else:\n",
    "        print(n1,n2,end=\" \")\n",
    "        for i in range (2,n+1):\n",
    "            n3 = n1 + n2\n",
    "            n1=n2\n",
    "            n2=n3\n",
    "            print (n3,end=\" \")\n",
    "\n",
    "#Enter the number \n",
    "num = int(input('Enter the number for Fibonacci: '))\n",
    "print (fibo(num))"
   ]
  },
  {
   "cell_type": "markdown",
   "id": "0a813ec3-bf68-4228-8b94-99a677826df0",
   "metadata": {},
   "source": [
    "Problem 11: Write a program to check if a given list contains any duplicates using a `for` loop."
   ]
  },
  {
   "cell_type": "code",
   "execution_count": 10,
   "id": "28bb144e-34c4-44de-bc32-e876c66337d7",
   "metadata": {},
   "outputs": [
    {
     "name": "stdout",
     "output_type": "stream",
     "text": [
      "The list 1 is:  [1, 5, 4, 3, 5, 2, 3]\n",
      "The list 2 is:  [7, 9, 8, 6, 1, 5]\n",
      "The list 1 has duplicates:  True\n",
      "The list 1 has duplicates:  False\n"
     ]
    }
   ],
   "source": [
    "#defining function to check duplicates\n",
    "def dup(ls):\n",
    "    #initialize the flag variable\n",
    "    flag=False\n",
    "    #initialize the position variable\n",
    "    pos=1\n",
    "    #using for loop to check for duplicates\n",
    "    for element in ls:\n",
    "        if element in ls[pos:]:\n",
    "            flag = True\n",
    "            break\n",
    "        else:\n",
    "            pos = pos+1\n",
    "    return flag\n",
    "    \n",
    "\n",
    "\n",
    "#create two lists\n",
    "mylist1 = [1,5,4,3,5,2,3]\n",
    "mylist2 = [7,9,8,6,1,5]\n",
    "print('The list 1 is: ',mylist1)\n",
    "print('The list 2 is: ',mylist2)\n",
    "\n",
    "#sort the list\n",
    "mylist1.sort()\n",
    "mylist2.sort()\n",
    "\n",
    "print('The list 1 has duplicates: ', dup(mylist1))\n",
    "print('The list 1 has duplicates: ', dup(mylist2))"
   ]
  },
  {
   "cell_type": "markdown",
   "id": "5ae093ad-fea2-4557-8c16-77c4f0be769d",
   "metadata": {},
   "source": [
    "Problem 12: Create a program that prints the prime numbers in a given range using a `for` loop."
   ]
  },
  {
   "cell_type": "code",
   "execution_count": 16,
   "id": "e86fb475-a7d9-4156-912f-d66dc17f47f4",
   "metadata": {},
   "outputs": [
    {
     "name": "stdin",
     "output_type": "stream",
     "text": [
      "Input the lower limit of the range: 1\n",
      "Input the higher limit of the range:  20\n"
     ]
    },
    {
     "name": "stdout",
     "output_type": "stream",
     "text": [
      "2 3 5 7 11 13 17 19 "
     ]
    }
   ],
   "source": [
    "#import math\n",
    "import math\n",
    "#Get the limits of the range\n",
    "lower = int(input('Input the lower limit of the range:' ))\n",
    "higher = int(input('Input the higher limit of the range: '))\n",
    "\n",
    "#logic for finding the prime numbers\n",
    "for num in range(lower,higher+1):\n",
    "    flag= True\n",
    "    for i in range(2,int(math.sqrt(num))+1):\n",
    "        if num%i==0:\n",
    "            flag=False\n",
    "            break\n",
    "    if flag == True and num!=1:\n",
    "        print(num,end=\" \")\n"
   ]
  },
  {
   "cell_type": "markdown",
   "id": "2d7b33ae-6531-4556-859b-120f2a0c64ef",
   "metadata": {},
   "source": [
    "Problem 13: Develop a program that counts the number of vowels in a string using a `for` loop."
   ]
  },
  {
   "cell_type": "code",
   "execution_count": 1,
   "id": "517eea88-95d5-4f75-b338-7d60408f59c9",
   "metadata": {},
   "outputs": [
    {
     "name": "stdout",
     "output_type": "stream",
     "text": [
      "The number of vowels in the string is:  3\n"
     ]
    }
   ],
   "source": [
    "#declare a string\n",
    "my_str = \"Susobhan\"\n",
    "#get the length of the string\n",
    "str_len =  len(my_str)\n",
    "#convert all the letters to lower string\n",
    "my_str_low = my_str.lower()\n",
    "\n",
    "#decalre a list with the vowels\n",
    "vowels = ['a','e','i','o','u']\n",
    "#initialize a counter variable\n",
    "count = 0\n",
    "\n",
    "i=0\n",
    "for i in range(str_len):\n",
    "    if my_str_low[i] in vowels:\n",
    "        count = count + 1\n",
    "\n",
    "print('The number of vowels in the string is: ',count)"
   ]
  },
  {
   "cell_type": "markdown",
   "id": "3654746a-1868-4a7b-b935-5f040e13d387",
   "metadata": {},
   "source": [
    "Problem 14: Write a program to find the maximum element in a 2D list using a nested `for` loop."
   ]
  },
  {
   "cell_type": "code",
   "execution_count": 2,
   "id": "03f76b50-9216-47ff-825f-a39302bf0da7",
   "metadata": {},
   "outputs": [
    {
     "name": "stdout",
     "output_type": "stream",
     "text": [
      "The original list is:  [[8, 6], [2, 3], [1, 4], [9, 10]]\n",
      "The max element is:  10\n"
     ]
    }
   ],
   "source": [
    "#declare a 2D list\n",
    "my_list = [[8,6],[2,3],[1,4],[9,10]]\n",
    "print('The original list is: ',my_list)\n",
    "\n",
    "#initialize the max element with the first element\n",
    "max_element = my_list[0][0]\n",
    "\n",
    "#logic for maximum\n",
    "for inner in my_list:\n",
    "    for element in inner:\n",
    "        if max_element < element:\n",
    "            max_element = element\n",
    "\n",
    "print('The max element is: ',max_element)"
   ]
  },
  {
   "cell_type": "markdown",
   "id": "e496decf-a2ca-4b71-9ee6-254260667dfc",
   "metadata": {},
   "source": [
    "Problem 15: Create a program that removes all occurrences of a specific element from a list using a `for` loop."
   ]
  },
  {
   "cell_type": "code",
   "execution_count": 8,
   "id": "69e78f57-48c6-42cf-986f-f0489e53fda9",
   "metadata": {},
   "outputs": [
    {
     "name": "stdout",
     "output_type": "stream",
     "text": [
      "The original list is:  [9, 9, 3, 2, 2, 2, 1, 3, 4, 6]\n"
     ]
    },
    {
     "name": "stdin",
     "output_type": "stream",
     "text": [
      "Enter the element you want to del:  2\n"
     ]
    },
    {
     "name": "stdout",
     "output_type": "stream",
     "text": [
      "The list after deletion is:  [9, 9, 3, 1, 3, 4, 6]\n"
     ]
    }
   ],
   "source": [
    "#declare the list\n",
    "my_list = [9,9,3,2,2,2,1,3,4,6]\n",
    "print('The original list is: ',my_list)\n",
    "\n",
    "#get the element to delete\n",
    "del_element = int(input('Enter the element you want to del: '))\n",
    "\n",
    "#decalre a result list \n",
    "res_list = []\n",
    "\n",
    "for element in my_list:\n",
    "    if element != del_element:\n",
    "        res_list.append(element)\n",
    "    \n",
    "print('The list after deletion is: ',res_list)"
   ]
  },
  {
   "cell_type": "markdown",
   "id": "14ef13e5-edbf-4caa-a2e3-e980516c8c9e",
   "metadata": {},
   "source": [
    "Problem 20: Develop a program that generates a multiplication table for numbers from 1 to 5 using a nested `for` loop."
   ]
  },
  {
   "cell_type": "code",
   "execution_count": 10,
   "id": "3e05c633-553b-4d23-9845-4d6567cf9ef0",
   "metadata": {},
   "outputs": [
    {
     "name": "stdout",
     "output_type": "stream",
     "text": [
      "1  X  1  =  1\n",
      "1  X  2  =  2\n",
      "1  X  3  =  3\n",
      "1  X  4  =  4\n",
      "1  X  5  =  5\n",
      "1  X  6  =  6\n",
      "1  X  7  =  7\n",
      "1  X  8  =  8\n",
      "1  X  9  =  9\n",
      "1  X  10  =  10\n",
      "----------------------\n",
      "2  X  1  =  2\n",
      "2  X  2  =  4\n",
      "2  X  3  =  6\n",
      "2  X  4  =  8\n",
      "2  X  5  =  10\n",
      "2  X  6  =  12\n",
      "2  X  7  =  14\n",
      "2  X  8  =  16\n",
      "2  X  9  =  18\n",
      "2  X  10  =  20\n",
      "----------------------\n",
      "3  X  1  =  3\n",
      "3  X  2  =  6\n",
      "3  X  3  =  9\n",
      "3  X  4  =  12\n",
      "3  X  5  =  15\n",
      "3  X  6  =  18\n",
      "3  X  7  =  21\n",
      "3  X  8  =  24\n",
      "3  X  9  =  27\n",
      "3  X  10  =  30\n",
      "----------------------\n",
      "4  X  1  =  4\n",
      "4  X  2  =  8\n",
      "4  X  3  =  12\n",
      "4  X  4  =  16\n",
      "4  X  5  =  20\n",
      "4  X  6  =  24\n",
      "4  X  7  =  28\n",
      "4  X  8  =  32\n",
      "4  X  9  =  36\n",
      "4  X  10  =  40\n",
      "----------------------\n",
      "5  X  1  =  5\n",
      "5  X  2  =  10\n",
      "5  X  3  =  15\n",
      "5  X  4  =  20\n",
      "5  X  5  =  25\n",
      "5  X  6  =  30\n",
      "5  X  7  =  35\n",
      "5  X  8  =  40\n",
      "5  X  9  =  45\n",
      "5  X  10  =  50\n",
      "----------------------\n"
     ]
    }
   ],
   "source": [
    "#logic \n",
    "\n",
    "for i in range(1,6):\n",
    "    for j in range (1,11):\n",
    "        print(i,\" X \",j,\" = \", i*j)\n",
    "    print(\"----------------------\")"
   ]
  },
  {
   "cell_type": "markdown",
   "id": "70f2adda-c3ad-4295-9712-f1eb49bb1ebf",
   "metadata": {},
   "source": [
    "Problem 17: Write a program that converts a list of Fahrenheit temperatures to Celsius using a `for` loop."
   ]
  },
  {
   "cell_type": "code",
   "execution_count": 12,
   "id": "bd5c6e7e-040a-45e3-aac7-feb7714348ac",
   "metadata": {},
   "outputs": [
    {
     "name": "stdout",
     "output_type": "stream",
     "text": [
      "The farenhite temps are:  [32, 100, 105, 110, 120, 125, 130]\n",
      "The celsius temps are:  [0.0, 37.77777777777778, 40.55555555555556, 43.333333333333336, 48.888888888888886, 51.666666666666664, 54.44444444444444]\n"
     ]
    }
   ],
   "source": [
    "#declare the list of Farenhite temps\n",
    "f_list = [32,100,105,110,120,125,130]\n",
    "\n",
    "print('The farenhite temps are: ',f_list)\n",
    "\n",
    "#declare the list of Celsius temps\n",
    "c_list = []\n",
    "\n",
    "#logic to convert\n",
    "for f in f_list:\n",
    "    c_list.append((f-32)*5/9)\n",
    "\n",
    "print('The celsius temps are: ',c_list)"
   ]
  },
  {
   "cell_type": "markdown",
   "id": "80f2785f-e650-422a-a240-522170965ce4",
   "metadata": {},
   "source": [
    "Problem 18: Create a program to print the common elements from two lists using a `for` loop."
   ]
  },
  {
   "cell_type": "code",
   "execution_count": 13,
   "id": "dc9b6c75-56ba-4b4a-834a-40df107806da",
   "metadata": {},
   "outputs": [
    {
     "name": "stdout",
     "output_type": "stream",
     "text": [
      "The first list is:  [9, 9, 3, 2, 2, 2, 1, 3, 4, 6]\n",
      "The second list is:  [8, 6, 1, 7, 7, 1, 6, 8]\n",
      "The list of common elements are:  [1, 6]\n"
     ]
    }
   ],
   "source": [
    "#decalre 1st list\n",
    "my_list1 = [9,9,3,2,2,2,1,3,4,6]\n",
    "print('The first list is: ',my_list1)\n",
    "\n",
    "#declare 2nd ist\n",
    "my_list2 = [8,6,1,7,7,1,6,8]\n",
    "print('The second list is: ',my_list2)\n",
    "\n",
    "#decalre a list to store the common elements\n",
    "common = []\n",
    "\n",
    "for elem1 in my_list1:\n",
    "    for elem2 in my_list2:\n",
    "        if elem1 == elem2 and elem1 not in common:\n",
    "            common.append(elem1)\n",
    "            \n",
    "print('The list of common elements are: ',common)"
   ]
  },
  {
   "cell_type": "markdown",
   "id": "baef864a-d91f-4bec-9120-54adbc30a577",
   "metadata": {},
   "source": [
    "Problem 19: Develop a program that prints the pattern of right-angled triangles using a `for` loop. Use ‘*’ to draw the pattern"
   ]
  },
  {
   "cell_type": "code",
   "execution_count": 16,
   "id": "cda9b52c-2556-4a5a-b2cf-5d9c724e807b",
   "metadata": {},
   "outputs": [
    {
     "name": "stdout",
     "output_type": "stream",
     "text": [
      "\n",
      "* \n",
      "* * \n",
      "* * * \n",
      "* * * * \n",
      "* * * * * \n",
      "* * * * * * \n"
     ]
    }
   ],
   "source": [
    "#logic\n",
    "for i in range(7):\n",
    "    for j in range(i):\n",
    "        print('*',end=\" \")\n",
    "    print()"
   ]
  },
  {
   "cell_type": "markdown",
   "id": "8ff82123-1086-4e3a-aa1d-e0437680014d",
   "metadata": {},
   "source": [
    "Problem 20: Write a program to find the greatest common divisor (GCD) of two numbers using a `for` loop"
   ]
  },
  {
   "cell_type": "code",
   "execution_count": 4,
   "id": "0b86b191-5fa6-4143-9bef-bb64a21cc64d",
   "metadata": {},
   "outputs": [
    {
     "name": "stdin",
     "output_type": "stream",
     "text": [
      "Enter the 1st number:  60\n",
      "Enter the 2nd number:  48\n"
     ]
    },
    {
     "name": "stdout",
     "output_type": "stream",
     "text": [
      "The GCD of 60 and 48 is:  12\n"
     ]
    }
   ],
   "source": [
    "#define the function for finding the GCD\n",
    "def gcd(h,l):\n",
    "    res=0  \n",
    "    div= int(l/2)\n",
    "    for i in range(1,div):\n",
    "        if h%i==0 and l%i==0:\n",
    "            res = i\n",
    "    return res\n",
    "\n",
    "#get the numbers\n",
    "num1 = int(input('Enter the 1st number: '))\n",
    "num2 = int(input('Enter the 2nd number: '))\n",
    "\n",
    "#logic\n",
    "if num1>num2:\n",
    "    res= gcd(num1,num2)\n",
    "else:\n",
    "    res= gcd(num2,num1)\n",
    "    \n",
    "print('The GCD of {0} and {1} is:  {2}'.format(num1,num2,res))\n",
    "    "
   ]
  },
  {
   "cell_type": "markdown",
   "id": "3809161c-8de6-48bb-bdcb-66e7880bd42c",
   "metadata": {},
   "source": [
    "Problem 21: Create a program that calculates the sum of the digits of numbers in a list using a list comprehension"
   ]
  },
  {
   "cell_type": "code",
   "execution_count": 4,
   "id": "5df1bbea-8480-45f9-9029-c2686f0808a9",
   "metadata": {},
   "outputs": [
    {
     "name": "stdout",
     "output_type": "stream",
     "text": [
      "[18, 14, 16, 6, 4, 10]\n"
     ]
    }
   ],
   "source": [
    "#declare a lst\n",
    "my_list = [99,77,88,33,22,55]\n",
    "\n",
    "#logic to calculate the total\n",
    "total =list(map(lambda s: sum(int(el) for el in str(s)),my_list))\n",
    "print(total)"
   ]
  },
  {
   "cell_type": "markdown",
   "id": "b43a455c-002b-4b2d-88f3-cae27a96fd87",
   "metadata": {},
   "source": [
    "Probelm 22: Write a program to find the prime factors of a given number using a `for` loop and list comprehension."
   ]
  },
  {
   "cell_type": "code",
   "execution_count": 11,
   "id": "da8e3f0d-4faf-4559-9198-033407931496",
   "metadata": {},
   "outputs": [
    {
     "name": "stdin",
     "output_type": "stream",
     "text": [
      "Enter a number:  20\n"
     ]
    },
    {
     "name": "stdout",
     "output_type": "stream",
     "text": [
      "The prime factors are:  [2, 5]\n"
     ]
    }
   ],
   "source": [
    "import math\n",
    "\n",
    "#function to check if a number is prime\n",
    "def check_prime(n):\n",
    "    flag=0\n",
    "    if n==2 or n==3:\n",
    "        return True\n",
    "    else:\n",
    "        s = int(math.sqrt(n)) + 1\n",
    "        for i in range (2,s):\n",
    "            if n%i==0:\n",
    "                flag=1\n",
    "                break\n",
    "        if flag==0:\n",
    "            return True\n",
    "        else:\n",
    "            return False\n",
    "\n",
    "        \n",
    "#driver logic        \n",
    "#enter a number\n",
    "num = int(input('Enter a number: '))\n",
    "#list to store the factors\n",
    "factors=[]\n",
    "\n",
    "#get the factors of the number\n",
    "for i in range(2,num):\n",
    "    if num%i==0:\n",
    "        factors.append(i)\n",
    "\n",
    "        \n",
    "#filter the prime factors\n",
    "prime_factors = list(filter(check_prime,factors))\n",
    "print('The prime factors are: ',prime_factors)"
   ]
  },
  {
   "cell_type": "markdown",
   "id": "58e123c2-ad8b-446d-86ba-8aeb4c412806",
   "metadata": {},
   "source": [
    "Problem 23: Develop a program that extracts unique elements from a list and stores them in a new list using a list comprehension."
   ]
  },
  {
   "cell_type": "code",
   "execution_count": 14,
   "id": "56e5ae00-8595-4251-bd8a-2d5f6c2ffb3a",
   "metadata": {},
   "outputs": [
    {
     "name": "stdout",
     "output_type": "stream",
     "text": [
      "The list with unique elements are:  [9, 3, 2, 1, 4, 6]\n"
     ]
    }
   ],
   "source": [
    "#declare a list\n",
    "my_list = [9,9,3,2,2,2,1,3,4,6]\n",
    "\n",
    "#logic to select the unique elements\n",
    "res = [x for i,x in enumerate(my_list) if x not in my_list[:i]]\n",
    "print('The list with unique elements are: ',res)"
   ]
  },
  {
   "cell_type": "markdown",
   "id": "1a50cc5b-8589-4ae4-a3bc-e7481d6725c4",
   "metadata": {},
   "source": [
    "Problem 24: Create a program that generates a list of all palindromic numbers up to a specified limit using a list comprehension."
   ]
  },
  {
   "cell_type": "code",
   "execution_count": 22,
   "id": "6aad5fb3-1a78-473d-bd99-d2b7c12d0bda",
   "metadata": {},
   "outputs": [
    {
     "name": "stdin",
     "output_type": "stream",
     "text": [
      "Enter the limit:  500\n"
     ]
    },
    {
     "name": "stdout",
     "output_type": "stream",
     "text": [
      "The list of palindrome numbers till 500 is : [1, 2, 3, 4, 5, 6, 7, 8, 9, 11, 22, 33, 44, 55, 66, 77, 88, 99, 101, 111, 121, 131, 141, 151, 161, 171, 181, 191, 202, 212, 222, 232, 242, 252, 262, 272, 282, 292, 303, 313, 323, 333, 343, 353, 363, 373, 383, 393, 404, 414, 424, 434, 444, 454, 464, 474, 484, 494]\n"
     ]
    }
   ],
   "source": [
    "#define the function to check for palindrome\n",
    "def isPalindrome(num):\n",
    "        if str(num)==str(num)[::-1]:\n",
    "            return True\n",
    "        else:\n",
    "            return False\n",
    "\n",
    "#enter the limit\n",
    "limit = int(input('Enter the limit: '))\n",
    "\n",
    "#create a list of numbers till the specified limit\n",
    "num_list = [i for i in range(1,limit+1)]\n",
    "\n",
    "#get the list of palindromic numbers\n",
    "palindrome_list = list(filter(isPalindrome,num_list))\n",
    "print('The list of palindrome numbers till {0} is : {1}'.format(limit,palindrome_list))"
   ]
  },
  {
   "cell_type": "markdown",
   "id": "146e2aca-7068-4415-bfc9-fe3352aa1365",
   "metadata": {},
   "source": [
    "Problem 25: Write a program to flatten a nested list using list comprehension."
   ]
  },
  {
   "cell_type": "code",
   "execution_count": 30,
   "id": "07744f93-27bb-4c66-b011-cdd20d3922b4",
   "metadata": {},
   "outputs": [
    {
     "name": "stdout",
     "output_type": "stream",
     "text": [
      "The original list is:  [[9, 9, 3], [2, 2, 2], [1, 3], [4, 6]]\n",
      "The flattened list is:  [9, 9, 3, 2, 2, 2, 1, 3, 4, 6]\n"
     ]
    }
   ],
   "source": [
    "#decare a nested list\n",
    "my_list = [[9,9,3],[2,2,2],[1,3],[4,6]]\n",
    "print('The original list is: ',my_list)\n",
    "\n",
    "#flatte the list\n",
    "flattened = [el for sublist in my_list for el in sublist]\n",
    "print('The flattened list is: ',flattened)"
   ]
  },
  {
   "cell_type": "markdown",
   "id": "61f55e0f-5d96-48b0-9ccc-b945bb3a75ca",
   "metadata": {},
   "source": [
    "Problem 26: Develop a program that computes the sum of even and odd numbers in a list separately using list comprehension."
   ]
  },
  {
   "cell_type": "code",
   "execution_count": 3,
   "id": "9db14909-a112-4d08-b9ba-64690cc8d4de",
   "metadata": {},
   "outputs": [
    {
     "name": "stdout",
     "output_type": "stream",
     "text": [
      "The sum of even numbers in the list is:  16\n",
      "The sum of odd numbers in the lits is:  25\n"
     ]
    }
   ],
   "source": [
    "#declare a list    \n",
    "my_list = [9, 9, 3, 2, 2, 2, 1, 3, 4, 6]\n",
    "\n",
    "#get the even numbers from the list\n",
    "even_list = [i for i in my_list if i%2==0]\n",
    "print(\"The sum of even numbers in the list is: \",sum(even_list))\n",
    "\n",
    "#get the odd numbers from the list\n",
    "odd_list = [i for i in my_list if i%2!=0]\n",
    "print(\"The sum of odd numbers in the lits is: \",sum(odd_list))"
   ]
  },
  {
   "cell_type": "markdown",
   "id": "9447d58d-1ec6-41f7-ad72-18f6c52fe74f",
   "metadata": {},
   "source": [
    "Problem 27: Create a program that generates a list of squares of odd numbers between 1 and 10 using list comprehension."
   ]
  },
  {
   "cell_type": "code",
   "execution_count": 3,
   "id": "24e4af74-7a9a-4d0e-b33b-85bb5511a752",
   "metadata": {},
   "outputs": [
    {
     "name": "stdout",
     "output_type": "stream",
     "text": [
      "The list of squares of odd numbers between 1 and 10:  [1, 9, 25, 49, 81]\n"
     ]
    }
   ],
   "source": [
    "result = [i**2 for i in range(1,10) if i%2!=0]\n",
    "print(\"The list of squares of odd numbers between 1 and 10: \",result)"
   ]
  },
  {
   "cell_type": "markdown",
   "id": "b2036ee1-10a5-4e60-b46b-aecca3eb4779",
   "metadata": {},
   "source": [
    "Problem 28: Write a program that combines two lists into a dictionary using list comprehension."
   ]
  },
  {
   "cell_type": "code",
   "execution_count": 6,
   "id": "1cc70775-7102-4d40-9f10-65c04bd6410c",
   "metadata": {},
   "outputs": [
    {
     "name": "stdout",
     "output_type": "stream",
     "text": [
      "The first list is:  [1, 2, 3, 4, 5, 6]\n",
      "The second list is:  ['a', 'b', 'c', 'd', 'e', 'f']\n",
      "The result dictionary is:  {1: 'a', 2: 'b', 3: 'c', 4: 'd', 5: 'e', 6: 'f'}\n"
     ]
    }
   ],
   "source": [
    "#declare the first list\n",
    "my_list1 = [1,2,3,4,5,6]\n",
    "\n",
    "#declare the second list\n",
    "my_list2 = ['a','b','c','d','e','f']\n",
    "\n",
    "print(\"The first list is: \",my_list1)\n",
    "print(\"The second list is: \",my_list2)\n",
    "\n",
    "res_dict = {my_list1[i] : my_list2[i] for i in range(len(my_list1))}\n",
    "\n",
    "print('The result dictionary is: ',res_dict)\n"
   ]
  },
  {
   "cell_type": "markdown",
   "id": "59fd7093-911f-4d6e-a9ec-66e37d647322",
   "metadata": {},
   "source": [
    "Problem 29 Develop a program that extracts the vowels from a string and stores them in a list using list comprehension."
   ]
  },
  {
   "cell_type": "markdown",
   "id": "e850c5c4-332e-46e8-b8ae-e5c476944c64",
   "metadata": {},
   "source": [
    "#declare a list of vowels\n",
    "vowels = ['a','e','i','o','u']\n",
    "\n",
    "#get the string from input\n",
    "my_str = input('Enter a string: ')\n",
    "#convert the string to lower case\n",
    "my_str_lower = my_str.lower()\n",
    "\n",
    "#extract the vowels and store it in a list\n",
    "res = [c for c in my_str_lower if c in vowels]\n",
    "\n",
    "print('The list of vowels are: ',res)\n"
   ]
  },
  {
   "cell_type": "markdown",
   "id": "c8728702-fbb7-4ade-904d-29338d71b463",
   "metadata": {},
   "source": [
    "Problem 30: Create a program that removes all non-numeric characters from a list of strings using list comprehension."
   ]
  },
  {
   "cell_type": "code",
   "execution_count": 15,
   "id": "92a76dc0-cb22-46e7-87f9-c6c86130c566",
   "metadata": {},
   "outputs": [
    {
     "name": "stdin",
     "output_type": "stream",
     "text": [
      "Enter a string:  Hello123Hello\n"
     ]
    },
    {
     "name": "stdout",
     "output_type": "stream",
     "text": [
      "The new string is:  123\n"
     ]
    }
   ],
   "source": [
    "#get the string from input\n",
    "my_str = input('Enter a string: ')\n",
    "\n",
    "#get all the numeric characters in a list\n",
    "res = [c for c in my_str if c.isdigit()]\n",
    "#make a string using the numberic characters\n",
    "res_str = \"\".join(res)\n",
    "\n",
    "print(\"The new string is: \",res_str)"
   ]
  },
  {
   "cell_type": "markdown",
   "id": "645282d8-46ce-4b4a-85c2-7eeddc676a3b",
   "metadata": {},
   "source": [
    "Problem 31: Write a program to generate a list of prime numbers using the Sieve of Eratosthenes algorithm and list comprehension"
   ]
  },
  {
   "cell_type": "code",
   "execution_count": 4,
   "id": "d35b494d-be30-4c08-ae4a-77f290618675",
   "metadata": {},
   "outputs": [
    {
     "name": "stdin",
     "output_type": "stream",
     "text": [
      "Enter the upper limit:  20\n"
     ]
    },
    {
     "name": "stdout",
     "output_type": "stream",
     "text": [
      "The list of prime numbers is:  [2, 3, 5, 7, 11, 13, 17, 19]\n"
     ]
    }
   ],
   "source": [
    "import math\n",
    "#Get the input of the number\n",
    "n = int(input('Enter the upper limit: '))\n",
    "limit = int(math.sqrt(n))+1\n",
    "\n",
    "#use of Sieve of Erastosthenes \n",
    "non_primes = [j for i in range(2,limit) for j in range(i*2,n,i)]\n",
    "primes = [x for x in range (2,n) if x not in non_primes]\n",
    "\n",
    "print('The list of prime numbers is: ',primes)"
   ]
  },
  {
   "cell_type": "markdown",
   "id": "b5e2c014-7734-48f2-b2dc-e0021d7e7b1a",
   "metadata": {},
   "source": [
    "Problem 32: Create a program that generates a list of all Pythagorean triplets up to a specified limit using list comprehension. "
   ]
  },
  {
   "cell_type": "code",
   "execution_count": 8,
   "id": "2916c468-faa1-4e66-a0ea-4f8c6db13ca5",
   "metadata": {},
   "outputs": [
    {
     "name": "stdin",
     "output_type": "stream",
     "text": [
      "Enter the limit:  20\n"
     ]
    },
    {
     "name": "stdout",
     "output_type": "stream",
     "text": [
      "The list of pythagorean triplets is:  [(3, 4, 5), (5, 12, 13), (6, 8, 10), (8, 15, 17), (9, 12, 15), (12, 16, 20)]\n"
     ]
    }
   ],
   "source": [
    "#Get the input of the number\n",
    "n = int(input('Enter the limit: '))\n",
    "\n",
    "#generate the list\n",
    "pythagorean_list = [(a,b,c) for a in range (1,n+1) for b in range (a,n+1) for c in range (b,n+1) if a**2 + b**2 == c**2]\n",
    "\n",
    "print('The list of pythagorean triplets is: ',pythagorean_list)"
   ]
  },
  {
   "cell_type": "markdown",
   "id": "428236b9-f692-4983-965d-864d46adf360",
   "metadata": {},
   "source": [
    "Problem 33: Develop a program that generates a list of all possible combinations of two lists using list comprehension."
   ]
  },
  {
   "cell_type": "code",
   "execution_count": 11,
   "id": "7c09a9ff-843f-458e-ab1e-9145f418474e",
   "metadata": {},
   "outputs": [
    {
     "name": "stdout",
     "output_type": "stream",
     "text": [
      "The first list is:  [1, 2, 3, 4, 5, 6, 7]\n",
      "The second list is:  ['a', 'b', 'c', 'd', 'e', 'f', 'g']\n",
      "The combination list is:  [(1, 'a'), (1, 'b'), (1, 'c'), (1, 'd'), (1, 'e'), (1, 'f'), (1, 'g'), (2, 'a'), (2, 'b'), (2, 'c'), (2, 'd'), (2, 'e'), (2, 'f'), (2, 'g'), (3, 'a'), (3, 'b'), (3, 'c'), (3, 'd'), (3, 'e'), (3, 'f'), (3, 'g'), (4, 'a'), (4, 'b'), (4, 'c'), (4, 'd'), (4, 'e'), (4, 'f'), (4, 'g'), (5, 'a'), (5, 'b'), (5, 'c'), (5, 'd'), (5, 'e'), (5, 'f'), (5, 'g'), (6, 'a'), (6, 'b'), (6, 'c'), (6, 'd'), (6, 'e'), (6, 'f'), (6, 'g'), (7, 'a'), (7, 'b'), (7, 'c'), (7, 'd'), (7, 'e'), (7, 'f'), (7, 'g')]\n"
     ]
    }
   ],
   "source": [
    "my_list1 = [1,2,3,4,5,6,7]\n",
    "my_list2 = ['a','b','c','d','e','f','g']\n",
    "\n",
    "print('The first list is: ',my_list1)\n",
    "print('The second list is: ',my_list2)\n",
    "\n",
    "#Generate the combinations list\n",
    "res_list = [(x,y) for x in my_list1 for y in my_list2]\n",
    "print('The combination list is: ',res_list)"
   ]
  },
  {
   "cell_type": "markdown",
   "id": "09e1ff63-3325-4350-94d0-ea3030f04ce2",
   "metadata": {},
   "source": [
    "Problem 34: Write a program that calculates the mean, median, and mode of a list of numbers using list comprehension."
   ]
  },
  {
   "cell_type": "code",
   "execution_count": 28,
   "id": "44179aeb-0580-421c-8272-5abd0fe36391",
   "metadata": {},
   "outputs": [
    {
     "name": "stdout",
     "output_type": "stream",
     "text": [
      "The original list is:  [9, 9, 3, 2, 2, 2, 1, 3, 4, 6]\n",
      "The mean is:  [4.1]\n",
      "The median is:  [3.0]\n",
      "The mode is:  [2]\n"
     ]
    }
   ],
   "source": [
    "#declare a list\n",
    "my_list = [9,9,3,2,2,2,1,3,4,6]\n",
    "print('The original list is: ', my_list)\n",
    "\n",
    "#Find the mean: The average of all the numbers\n",
    "mean = [sum([i for i in my_list])/len(my_list)]\n",
    "print('The mean is: ',mean)\n",
    "\n",
    "#get the length of the list\n",
    "l = len(my_list)\n",
    "#sort the list\n",
    "sorted_data = [i for i in sorted(my_list)]\n",
    "#Find the median: The middle number in a group of numbers\n",
    "median = [sorted_data[l//2] if l%2!=0 else ((sorted_data[l//2-1]+sorted_data[l//2])/2)]\n",
    "print('The median is: ',median)\n",
    "\n",
    "#create a dictionary to store the elements and the frequency\n",
    "freq_dict = {i:my_list.count(i) for i in my_list}\n",
    "#Find the mode: The number which occurs most frequently in a set of numbers.\n",
    "mode = [k for k,v in freq_dict.items() if v == max(list(freq_dict.values()))]\n",
    "print(\"The mode is: \",mode)"
   ]
  },
  {
   "cell_type": "markdown",
   "id": "72cd29cd-753d-4ff8-a5d2-a530c0d696e9",
   "metadata": {},
   "source": [
    "Problem 35: Create a program that generates Pascal's triangle up to a specified number of rows using list comprehension."
   ]
  },
  {
   "cell_type": "code",
   "execution_count": 19,
   "id": "02b7247e-85e4-4499-b4a0-f375a5e6677d",
   "metadata": {},
   "outputs": [
    {
     "name": "stdin",
     "output_type": "stream",
     "text": [
      "Enter the number of rows:  5\n"
     ]
    },
    {
     "name": "stdout",
     "output_type": "stream",
     "text": [
      "The Pascal Triangle in List is:  [1, 1, 1, 1, 2, 1, 1, 3, 3, 1, 1, 4, 6, 4, 1]\n"
     ]
    }
   ],
   "source": [
    "from math import factorial as f\n",
    "\n",
    "#Get the number of rows\n",
    "rows = int(input('Enter the number of rows: '))\n",
    "\n",
    "#Generate the pascal's list\n",
    "pas_list = [f(i)//(f(j)*f(i-j)) for i in range(5) for j in range(i+1)]\n",
    "\n",
    "print('The Pascal Triangle in List is: ',pas_list)"
   ]
  },
  {
   "cell_type": "markdown",
   "id": "31e9e445-8fbb-4fe2-8e89-489571d2ce09",
   "metadata": {},
   "source": [
    "Problem 36: Develop a program that calculates the sum of the digits of a factorial of numbers from 1 to 5 using list comprehension."
   ]
  },
  {
   "cell_type": "code",
   "execution_count": 26,
   "id": "d25a8214-61c3-440e-9361-ec2f89dbe691",
   "metadata": {},
   "outputs": [
    {
     "name": "stdout",
     "output_type": "stream",
     "text": [
      "[1, 2, 6, 6, 3]\n"
     ]
    }
   ],
   "source": [
    "#Define the function to caluclate the sum of digits of the factorials\n",
    "def sum_of_factorial(n):\n",
    "    if n<=1:\n",
    "        return 1\n",
    "    else:\n",
    "        sod = 0 \n",
    "        fact = 1\n",
    "        for i in range(2,n+1):\n",
    "            fact *=i\n",
    "        for j in str(fact):\n",
    "            sod += int(j)\n",
    "        return sod\n",
    "\n",
    "#generate the list\n",
    "sod_list = [sum_of_factorial(i) for i in range (1,6)]\n",
    "\n",
    "print('The list of the sum of digits of a factorial of numbers: ',sod_list)"
   ]
  },
  {
   "cell_type": "markdown",
   "id": "ab24730c-e98f-44a3-81fe-f7e324640e0a",
   "metadata": {},
   "source": [
    "Problem 37: Write a program that finds the longest word in a sentence using list comprehension."
   ]
  },
  {
   "cell_type": "code",
   "execution_count": 24,
   "id": "3dac59e0-a863-430f-9f16-2ec0078cb753",
   "metadata": {},
   "outputs": [
    {
     "name": "stdin",
     "output_type": "stream",
     "text": [
      "Enter your string:  The sun rises in the east\n"
     ]
    },
    {
     "name": "stdout",
     "output_type": "stream",
     "text": [
      "The longest word is:  rises\n"
     ]
    }
   ],
   "source": [
    "from functools import reduce\n",
    "#get the input string\n",
    "my_str = input('Enter your string: ')\n",
    "\n",
    "#get the longest word\n",
    "longest_word = reduce(lambda x,y: x if len(x)>len(y) else y, my_str.split(' '))\n",
    "\n",
    "print('The longest word is: ',longest_word)"
   ]
  },
  {
   "cell_type": "markdown",
   "id": "6face797-d68c-4808-9bce-adb9bb007acd",
   "metadata": {},
   "source": [
    "Problem 38: Create a program that filters a list of strings to include only those with more than three vowels using list comprehension."
   ]
  },
  {
   "cell_type": "code",
   "execution_count": 25,
   "id": "ce3ff7f4-f019-46cc-a6cf-ea257163a367",
   "metadata": {},
   "outputs": [
    {
     "name": "stdout",
     "output_type": "stream",
     "text": [
      "The list of strings with more than 3 vowels:  ['guava', 'pineapple', 'mandarin orange']\n"
     ]
    }
   ],
   "source": [
    "import re\n",
    "#declare the list of strings\n",
    "my_str = [\"mango\", \"kiwi\", \"strawberry\", \"guava\", \"pineapple\", \"mandarin orange\"]\n",
    "#get the result list\n",
    "res_list = [i for i in my_str if len(re.sub(r\"[^aeiouAEIOU]\", \"\", i)) > 2]\n",
    "\n",
    "print('The list of strings with more than 3 vowels: ',res_list)"
   ]
  },
  {
   "cell_type": "markdown",
   "id": "d31182da-fafe-4636-9f46-b96295d0b043",
   "metadata": {},
   "source": [
    "Problem 39: Develop a program that calculates the sum of the digits of numbers from 1 to 1000 using list comprehension."
   ]
  },
  {
   "cell_type": "code",
   "execution_count": 36,
   "id": "b1e252bd-6a23-4888-b8b1-fb8922eb6195",
   "metadata": {},
   "outputs": [
    {
     "name": "stdout",
     "output_type": "stream",
     "text": [
      "[1, 2, 3, 4, 5, 6, 7, 8, 9, 1, 2, 3, 4, 5, 6, 7, 8, 9, 10, 2, 3, 4, 5, 6, 7, 8, 9, 10, 11, 3, 4, 5, 6, 7, 8, 9, 10, 11, 12, 4, 5, 6, 7, 8, 9, 10, 11, 12, 13, 5, 6, 7, 8, 9, 10, 11, 12, 13, 14, 6, 7, 8, 9, 10, 11, 12, 13, 14, 15, 7, 8, 9, 10, 11, 12, 13, 14, 15, 16, 8, 9, 10, 11, 12, 13, 14, 15, 16, 17, 9, 10, 11, 12, 13, 14, 15, 16, 17, 18, 1, 2, 3, 4, 5, 6, 7, 8, 9, 10, 2, 3, 4, 5, 6, 7, 8, 9, 10, 11, 3, 4, 5, 6, 7, 8, 9, 10, 11, 12, 4, 5, 6, 7, 8, 9, 10, 11, 12, 13, 5, 6, 7, 8, 9, 10, 11, 12, 13, 14, 6, 7, 8, 9, 10, 11, 12, 13, 14, 15, 7, 8, 9, 10, 11, 12, 13, 14, 15, 16, 8, 9, 10, 11, 12, 13, 14, 15, 16, 17, 9, 10, 11, 12, 13, 14, 15, 16, 17, 18, 10, 11, 12, 13, 14, 15, 16, 17, 18, 19, 2, 3, 4, 5, 6, 7, 8, 9, 10, 11, 3, 4, 5, 6, 7, 8, 9, 10, 11, 12, 4, 5, 6, 7, 8, 9, 10, 11, 12, 13, 5, 6, 7, 8, 9, 10, 11, 12, 13, 14, 6, 7, 8, 9, 10, 11, 12, 13, 14, 15, 7, 8, 9, 10, 11, 12, 13, 14, 15, 16, 8, 9, 10, 11, 12, 13, 14, 15, 16, 17, 9, 10, 11, 12, 13, 14, 15, 16, 17, 18, 10, 11, 12, 13, 14, 15, 16, 17, 18, 19, 11, 12, 13, 14, 15, 16, 17, 18, 19, 20, 3, 4, 5, 6, 7, 8, 9, 10, 11, 12, 4, 5, 6, 7, 8, 9, 10, 11, 12, 13, 5, 6, 7, 8, 9, 10, 11, 12, 13, 14, 6, 7, 8, 9, 10, 11, 12, 13, 14, 15, 7, 8, 9, 10, 11, 12, 13, 14, 15, 16, 8, 9, 10, 11, 12, 13, 14, 15, 16, 17, 9, 10, 11, 12, 13, 14, 15, 16, 17, 18, 10, 11, 12, 13, 14, 15, 16, 17, 18, 19, 11, 12, 13, 14, 15, 16, 17, 18, 19, 20, 12, 13, 14, 15, 16, 17, 18, 19, 20, 21, 4, 5, 6, 7, 8, 9, 10, 11, 12, 13, 5, 6, 7, 8, 9, 10, 11, 12, 13, 14, 6, 7, 8, 9, 10, 11, 12, 13, 14, 15, 7, 8, 9, 10, 11, 12, 13, 14, 15, 16, 8, 9, 10, 11, 12, 13, 14, 15, 16, 17, 9, 10, 11, 12, 13, 14, 15, 16, 17, 18, 10, 11, 12, 13, 14, 15, 16, 17, 18, 19, 11, 12, 13, 14, 15, 16, 17, 18, 19, 20, 12, 13, 14, 15, 16, 17, 18, 19, 20, 21, 13, 14, 15, 16, 17, 18, 19, 20, 21, 22, 5, 6, 7, 8, 9, 10, 11, 12, 13, 14, 6, 7, 8, 9, 10, 11, 12, 13, 14, 15, 7, 8, 9, 10, 11, 12, 13, 14, 15, 16, 8, 9, 10, 11, 12, 13, 14, 15, 16, 17, 9, 10, 11, 12, 13, 14, 15, 16, 17, 18, 10, 11, 12, 13, 14, 15, 16, 17, 18, 19, 11, 12, 13, 14, 15, 16, 17, 18, 19, 20, 12, 13, 14, 15, 16, 17, 18, 19, 20, 21, 13, 14, 15, 16, 17, 18, 19, 20, 21, 22, 14, 15, 16, 17, 18, 19, 20, 21, 22, 23, 6, 7, 8, 9, 10, 11, 12, 13, 14, 15, 7, 8, 9, 10, 11, 12, 13, 14, 15, 16, 8, 9, 10, 11, 12, 13, 14, 15, 16, 17, 9, 10, 11, 12, 13, 14, 15, 16, 17, 18, 10, 11, 12, 13, 14, 15, 16, 17, 18, 19, 11, 12, 13, 14, 15, 16, 17, 18, 19, 20, 12, 13, 14, 15, 16, 17, 18, 19, 20, 21, 13, 14, 15, 16, 17, 18, 19, 20, 21, 22, 14, 15, 16, 17, 18, 19, 20, 21, 22, 23, 15, 16, 17, 18, 19, 20, 21, 22, 23, 24, 7, 8, 9, 10, 11, 12, 13, 14, 15, 16, 8, 9, 10, 11, 12, 13, 14, 15, 16, 17, 9, 10, 11, 12, 13, 14, 15, 16, 17, 18, 10, 11, 12, 13, 14, 15, 16, 17, 18, 19, 11, 12, 13, 14, 15, 16, 17, 18, 19, 20, 12, 13, 14, 15, 16, 17, 18, 19, 20, 21, 13, 14, 15, 16, 17, 18, 19, 20, 21, 22, 14, 15, 16, 17, 18, 19, 20, 21, 22, 23, 15, 16, 17, 18, 19, 20, 21, 22, 23, 24, 16, 17, 18, 19, 20, 21, 22, 23, 24, 25, 8, 9, 10, 11, 12, 13, 14, 15, 16, 17, 9, 10, 11, 12, 13, 14, 15, 16, 17, 18, 10, 11, 12, 13, 14, 15, 16, 17, 18, 19, 11, 12, 13, 14, 15, 16, 17, 18, 19, 20, 12, 13, 14, 15, 16, 17, 18, 19, 20, 21, 13, 14, 15, 16, 17, 18, 19, 20, 21, 22, 14, 15, 16, 17, 18, 19, 20, 21, 22, 23, 15, 16, 17, 18, 19, 20, 21, 22, 23, 24, 16, 17, 18, 19, 20, 21, 22, 23, 24, 25, 17, 18, 19, 20, 21, 22, 23, 24, 25, 26, 9, 10, 11, 12, 13, 14, 15, 16, 17, 18, 10, 11, 12, 13, 14, 15, 16, 17, 18, 19, 11, 12, 13, 14, 15, 16, 17, 18, 19, 20, 12, 13, 14, 15, 16, 17, 18, 19, 20, 21, 13, 14, 15, 16, 17, 18, 19, 20, 21, 22, 14, 15, 16, 17, 18, 19, 20, 21, 22, 23, 15, 16, 17, 18, 19, 20, 21, 22, 23, 24, 16, 17, 18, 19, 20, 21, 22, 23, 24, 25, 17, 18, 19, 20, 21, 22, 23, 24, 25, 26, 18, 19, 20, 21, 22, 23, 24, 25, 26, 27, 1]\n"
     ]
    }
   ],
   "source": [
    "#calculate the sum of the digits\n",
    "res = list(map(lambda el: sum(int(sub) for sub in str(el)), [i for i in range (1,1001)]))\n",
    "print(res)"
   ]
  },
  {
   "cell_type": "markdown",
   "id": "7969dd4f-b3d8-4eec-b078-2e54b71c978b",
   "metadata": {},
   "source": [
    "Problem 40: Write a program that generates a list of prime palindromic numbers using list comprehension."
   ]
  },
  {
   "cell_type": "code",
   "execution_count": 15,
   "id": "90e380c4-23dc-4895-9830-1ec4605958a7",
   "metadata": {},
   "outputs": [
    {
     "name": "stdout",
     "output_type": "stream",
     "text": [
      "The required list is:  [1, 2, 3, 5, 7, 11, 101, 131, 151, 181, 191, 313, 353, 373, 383]\n"
     ]
    }
   ],
   "source": [
    "import math\n",
    "#check for prime\n",
    "def is_prime(n):\n",
    "    flag=0\n",
    "    if n==2 or n==3:\n",
    "        return True\n",
    "    else:\n",
    "        s = int(math.sqrt(n)) + 1\n",
    "        for i in range (2,s):\n",
    "            if n%i==0:\n",
    "                flag=1\n",
    "                break\n",
    "        if flag==0:\n",
    "            return True\n",
    "        else:\n",
    "            return False\n",
    "\n",
    "#check palindrome\n",
    "def is_pali(og):\n",
    "    rev = og[::-1]\n",
    "    if rev == og:\n",
    "        return True\n",
    "    else:\n",
    "        return False\n",
    "    \n",
    "\n",
    "result = [i for i in range(1,500) if is_prime(i) & is_pali(str(i))]\n",
    "        \n",
    "print(\"The required list is: \",result)"
   ]
  }
 ],
 "metadata": {
  "kernelspec": {
   "display_name": "Python 3 (ipykernel)",
   "language": "python",
   "name": "python3"
  },
  "language_info": {
   "codemirror_mode": {
    "name": "ipython",
    "version": 3
   },
   "file_extension": ".py",
   "mimetype": "text/x-python",
   "name": "python",
   "nbconvert_exporter": "python",
   "pygments_lexer": "ipython3",
   "version": "3.10.8"
  }
 },
 "nbformat": 4,
 "nbformat_minor": 5
}
