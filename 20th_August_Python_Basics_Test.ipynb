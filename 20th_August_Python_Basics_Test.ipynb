{
 "cells": [
  {
   "cell_type": "markdown",
   "id": "86291656-6aa5-4d47-b531-1efe7655edd7",
   "metadata": {},
   "source": [
    "TOPIC: String Based Assignment Problem"
   ]
  },
  {
   "cell_type": "markdown",
   "id": "b92deb02-7599-40f0-9b8b-9267894c2cb6",
   "metadata": {},
   "source": [
    "Problem 1: Write a program to reverse a string."
   ]
  },
  {
   "cell_type": "code",
   "execution_count": null,
   "id": "e1eaf2e7-65a1-4d35-b4e5-8d30a468f40b",
   "metadata": {},
   "outputs": [],
   "source": [
    "#Declare a string\n",
    "s = \"Susobhan\"\n",
    "\n",
    "#Reverse the string\n",
    "rev_s= s[::-1]\n",
    "\n",
    "#Print the reverse string\n",
    "print('The reversed string is: ',rev_s)"
   ]
  },
  {
   "cell_type": "markdown",
   "id": "c119872a-93f8-4881-a5bd-df8ba25be8fc",
   "metadata": {},
   "source": [
    "Problem 2: Check if a string is a palindrome."
   ]
  },
  {
   "cell_type": "code",
   "execution_count": null,
   "id": "9d3b3ce6-0364-49f7-8b1e-6197aa6a2892",
   "metadata": {},
   "outputs": [],
   "source": [
    "#Input a string\n",
    "s1 = input('Enter a string:' )\n",
    "\n",
    "#change the string to lower case\n",
    "s1= s1.lower()\n",
    "\n",
    "#reverse the string\n",
    "rev_s1 = s1[::-1]\n",
    "\n",
    "#Logic to check if its a palindrome\n",
    "if(s1 == rev_s1):\n",
    "    print('Palindrome')\n",
    "else:\n",
    "    print('Non-Palindrome')"
   ]
  },
  {
   "cell_type": "markdown",
   "id": "6907add7-3f9d-489a-b135-955dbf72d49d",
   "metadata": {},
   "source": [
    "Problem 3: Convert a string to uppercase."
   ]
  },
  {
   "cell_type": "code",
   "execution_count": null,
   "id": "2d1c1b96-84f3-4bee-be33-59b56c9b753c",
   "metadata": {},
   "outputs": [],
   "source": [
    "#declare a string\n",
    "s2= 'hello world'\n",
    "\n",
    "#print the string in upper case\n",
    "print('String in upper case: ', s2.upper()) "
   ]
  },
  {
   "cell_type": "markdown",
   "id": "17ef038c-04a3-4275-9f56-486876c05fea",
   "metadata": {},
   "source": [
    "Problem 4: Convert a string to lowercase."
   ]
  },
  {
   "cell_type": "code",
   "execution_count": null,
   "id": "2499dae2-6d66-4059-b993-409460181987",
   "metadata": {},
   "outputs": [],
   "source": [
    "#declare a string\n",
    "s2= 'HELLO WORLD'\n",
    "\n",
    "#print the string in upper case\n",
    "print('String in lower case: ', s2.lower()) "
   ]
  },
  {
   "cell_type": "markdown",
   "id": "18760ff7-1daa-4fd2-bdfa-1738771749fe",
   "metadata": {},
   "source": [
    "Problem 5: Count the number of vowels in a string."
   ]
  },
  {
   "cell_type": "code",
   "execution_count": null,
   "id": "55f1359c-c0ef-4e3f-a23c-9a27a88b7aa4",
   "metadata": {},
   "outputs": [],
   "source": [
    "#take the scentence as input\n",
    "sntc = input('Enter your scentence: ')\n",
    "\n",
    "#convert the string into lowercase\n",
    "sntc = sntc.lower()\n",
    "\n",
    "#initialize the iterator\n",
    "i=0\n",
    "\n",
    "#Initialize the vowel counter\n",
    "count=0\n",
    "\n",
    "#main logic\n",
    "for i in range(len(sntc)):\n",
    "    if sntc[i] in ('a','e','i','o','u'):\n",
    "        count +=1\n",
    "\n",
    "#print the number of vowels\n",
    "print('The number of vowels: ',count)"
   ]
  },
  {
   "cell_type": "markdown",
   "id": "cc8b5758-515f-4ad6-bf0a-a86af1c0b876",
   "metadata": {},
   "source": [
    "Problem 6: Count the number of consonants in a string."
   ]
  },
  {
   "cell_type": "code",
   "execution_count": null,
   "id": "8ea15ef5-0c0d-44c5-8382-d2a94b01f623",
   "metadata": {},
   "outputs": [],
   "source": [
    "#take the scentence as input\n",
    "sntc = input('Enter your scentence: ')\n",
    "\n",
    "#convert the string into lowercase\n",
    "sntc = sntc.lower()\n",
    "\n",
    "#initialize the iterator\n",
    "i=0\n",
    "\n",
    "#Initialize the consonants counter\n",
    "count=0\n",
    "\n",
    "#main logic\n",
    "for i in range(len(sntc)):\n",
    "    if sntc[i] not in ('a','e','i','o','u'):\n",
    "        count +=1\n",
    "\n",
    "#print the number of vowels\n",
    "print('The number of vowels: ',count)"
   ]
  },
  {
   "cell_type": "markdown",
   "id": "f99e9a17-5e1c-4fdf-9873-0362079e6c0a",
   "metadata": {},
   "source": [
    "Problem 7: Remove all whitespaces from a string."
   ]
  },
  {
   "cell_type": "code",
   "execution_count": null,
   "id": "26817669-dab8-48f1-a77c-df07d7c96543",
   "metadata": {},
   "outputs": [],
   "source": [
    "#take input of the string\n",
    "str4 = input('Enter the string: ')\n",
    "\n",
    "#remove the spaces\n",
    "str5=str4.replace(\" \",\"\")\n",
    "\n",
    "#print the string without spaces\n",
    "print('The string without spaces: ', str5)"
   ]
  },
  {
   "cell_type": "markdown",
   "id": "e0fb6975-6a06-4be1-8d0f-2d23ca6a63fc",
   "metadata": {},
   "source": [
    "Problem 8: Find the length of a string without using the `len()` function."
   ]
  },
  {
   "cell_type": "code",
   "execution_count": null,
   "id": "2081e120-4c3f-4b73-b9d4-83ac1215b3da",
   "metadata": {},
   "outputs": [],
   "source": [
    "#inpute a string\n",
    "s3 = input(\"Enter a string: \")\n",
    "\n",
    "#initialize the counter\n",
    "length =0\n",
    "\n",
    "#Logic to calculate the length\n",
    "for i in s3:\n",
    "    length+=1\n",
    "\n",
    "#print the lenght of the string\n",
    "print('The length of the string is: ',length)"
   ]
  },
  {
   "cell_type": "markdown",
   "id": "af7f19b7-9cd6-4049-88eb-0fe543d60375",
   "metadata": {},
   "source": [
    "Problem 9: Check if a string contains a specific word"
   ]
  },
  {
   "cell_type": "code",
   "execution_count": null,
   "id": "ef90eb49-56e9-4bb8-a526-1b88de03605d",
   "metadata": {},
   "outputs": [],
   "source": [
    "#Input a string\n",
    "s4= input('Enter a string: ')\n",
    "#convert the string to lower case\n",
    "s4= s4.lower()\n",
    "\n",
    "#Enter the string to search\n",
    "find = input('Enter the string to search: ')\n",
    "#convert the string to lower case\n",
    "find = find.lower()\n",
    "\n",
    "if find in s4:\n",
    "    print('String found!')\n",
    "else:\n",
    "    print('String not found!')\n"
   ]
  },
  {
   "cell_type": "markdown",
   "id": "85c35317-e330-4357-af64-5361a952a637",
   "metadata": {},
   "source": [
    "Problem 10: Replace a word in a string with another word."
   ]
  },
  {
   "cell_type": "code",
   "execution_count": null,
   "id": "1a911763-d66f-457b-bb52-ad1930222b0e",
   "metadata": {},
   "outputs": [],
   "source": [
    "#Enter a string\n",
    "s5 = 'The sun looks beautiful'\n",
    "\n",
    "#Enter the string to replace with\n",
    "word = 'moon'\n",
    "\n",
    "#replace the string\n",
    "final = s5.replace('sun','moon')\n",
    "\n",
    "print(final)"
   ]
  },
  {
   "cell_type": "markdown",
   "id": "6e2a7e56-09ea-4a8f-9d56-ebd5f5b580a3",
   "metadata": {},
   "source": [
    "Problem 11: Count the occurrences of a word in a string."
   ]
  },
  {
   "cell_type": "code",
   "execution_count": null,
   "id": "eec2e047-9e82-4b54-be1e-1c8312bc272f",
   "metadata": {},
   "outputs": [],
   "source": [
    "#Enter a string \n",
    "s6 = 'The quick brown fox jumps over the lazy dog'\n",
    "\n",
    "#change the string to lower case\n",
    "s6=s6.lower()\n",
    "#Enter the string to get the count\n",
    "get_count = s6.count('the')\n",
    "\n",
    "print(get_count)\n"
   ]
  },
  {
   "cell_type": "markdown",
   "id": "5e14026b-2100-424b-bb9a-7ba3c681576e",
   "metadata": {},
   "source": [
    "Problem 12: Find the first occurrence of a word in a string."
   ]
  },
  {
   "cell_type": "code",
   "execution_count": null,
   "id": "f97292df-6ea3-4a03-ac23-5d0b4069d84a",
   "metadata": {},
   "outputs": [],
   "source": [
    "#Enter a string\n",
    "s7 = 'The quick brown fox jumps over the lazy dog'\n",
    "\n",
    "print('The original string is: ', s7)\n",
    "\n",
    "#change the string to lower case\n",
    "s7=s7.lower()\n",
    "\n",
    "#define the word to find\n",
    "to_find = 'the'\n",
    "\n",
    "#print the position of the first occurance of the word\n",
    "print(\"The first occurance of the word is at: \", s7.find(to_find))\n"
   ]
  },
  {
   "cell_type": "markdown",
   "id": "b54c0568-ccff-43ba-873c-f5b19d438418",
   "metadata": {},
   "source": [
    "Problem 13: Find the last occurrence of a word in a string"
   ]
  },
  {
   "cell_type": "code",
   "execution_count": null,
   "id": "6cd6942c-f894-4b1f-a33f-96fd59c0dccb",
   "metadata": {},
   "outputs": [],
   "source": [
    "#Enter a string\n",
    "s8 = 'The quick brown fox jumps over the lazy dog'\n",
    "\n",
    "print('The original string is: ', s7)\n",
    "\n",
    "#change the string to lower case\n",
    "s8=s8.lower()\n",
    "\n",
    "#define the word to find\n",
    "to_find = 'the'\n",
    "\n",
    "#print the last occurance of the word\n",
    "print(\"The last occurance of the word is at: \", s8.rfind(to_find))"
   ]
  },
  {
   "cell_type": "markdown",
   "id": "a96f99da-d46a-4512-b34c-a020f28a26e7",
   "metadata": {},
   "source": [
    "Problem 14: Split a string into a list of words."
   ]
  },
  {
   "cell_type": "code",
   "execution_count": null,
   "id": "fe0e34ef-76a6-4350-8e43-691497b0d488",
   "metadata": {},
   "outputs": [],
   "source": [
    "#Enter a string\n",
    "s9 = \"My name is Roy\"\n",
    "\n",
    "print(\"The original string is: \" , s9)\n",
    "\n",
    "#split the string into a list\n",
    "my_list = s9.split()\n",
    "\n",
    "print(my_list)"
   ]
  },
  {
   "cell_type": "markdown",
   "id": "84a002d5-cea6-414b-8287-f12d5f6fece6",
   "metadata": {},
   "source": [
    "Problem 15: Join a list of words into a string."
   ]
  },
  {
   "cell_type": "code",
   "execution_count": null,
   "id": "67991d6f-2c58-4767-a2c3-5a90451c42b1",
   "metadata": {},
   "outputs": [],
   "source": [
    "#Enter a list\n",
    "my_list= [\"Apples\" , \"are\" , \"red\"]\n",
    "\n",
    "#Join the words into a string\n",
    "my_str = \" \".join(my_list)\n",
    "\n",
    "print(\"The string becomes: \",my_str)\n"
   ]
  },
  {
   "cell_type": "markdown",
   "id": "211c1c02-ce78-487a-a45f-40efc7a6df5e",
   "metadata": {},
   "source": [
    "Problem 16: Convert a string where words are separated by spaces to one where words are separated by underscores."
   ]
  },
  {
   "cell_type": "code",
   "execution_count": null,
   "id": "dc669678-6df7-4c67-8082-082bc1d94375",
   "metadata": {},
   "outputs": [],
   "source": [
    "#Enter a string\n",
    "my_str = \"Today is a bright sunny day\"\n",
    "\n",
    "#replace the space with underscores\n",
    "my_str = my_str.replace(\" \",\"_\")\n",
    "\n",
    "print(my_str)"
   ]
  },
  {
   "cell_type": "markdown",
   "id": "37d31d43-a5e2-46ec-bddd-18fd9dc4aa44",
   "metadata": {},
   "source": [
    "Problem 17: Check if a string starts with a specific word or phrase."
   ]
  },
  {
   "cell_type": "code",
   "execution_count": null,
   "id": "e53dc0b9-ff0d-44aa-8de0-5c4b3a4819bf",
   "metadata": {},
   "outputs": [],
   "source": [
    "#Enter a string\n",
    "my_str = \"Today is a bright sunny day\"\n",
    "\n",
    "#cconvert the string to lowercase\n",
    "my_str = my_str.lower()\n",
    "\n",
    "#word to check\n",
    "my_word = \"today is\"\n",
    "my_word = my_word.lower()\n",
    "\n",
    "#find the postion of  the word\n",
    "pos = my_str.find(my_word)\n",
    "\n",
    "#check if it is the first word/phrase\n",
    "if pos==0:\n",
    "    print(\"The string starts with yor searched word/phrase\")\n",
    "else:\n",
    "    print(\"The string does not start with your searched word/phrase\")"
   ]
  },
  {
   "cell_type": "markdown",
   "id": "02ea1b9a-c179-4493-836f-b45941e27ffb",
   "metadata": {},
   "source": [
    "Problem 18: Check if a string ends with a specific word or phrase."
   ]
  },
  {
   "cell_type": "code",
   "execution_count": null,
   "id": "07edd0a7-2817-45d3-8f4b-490277afc094",
   "metadata": {},
   "outputs": [],
   "source": [
    "#Enter a string\n",
    "my_str = \"Today is a bright sunny day\"\n",
    "\n",
    "#cconvert the string to lowercase\n",
    "my_str = my_str.lower()\n",
    "\n",
    "#reverse the string:\n",
    "rev_str = my_str[::-1]\n",
    "\n",
    "#word to check\n",
    "my_word = \"sunny day\"\n",
    "my_word = my_word.lower()\n",
    "\n",
    "#reverse the word\n",
    "rev_word = my_word[::-1]\n",
    "\n",
    "#find the postion of  the word\n",
    "pos = rev_str.find(rev_word)\n",
    "\n",
    "#check if it is the first word/phrase\n",
    "if pos==0:\n",
    "    print(\"The string ends with yor searched word/phrase\")\n",
    "else:\n",
    "    print(\"The string does not end with your searched word/phrase\")"
   ]
  },
  {
   "cell_type": "markdown",
   "id": "b45d0fad-bc48-487e-90d9-7a19bf7c061d",
   "metadata": {},
   "source": [
    "Problem 19: Convert a string to title case (e.g., \"hello world\" to \"Hello World\")."
   ]
  },
  {
   "cell_type": "code",
   "execution_count": null,
   "id": "03fb2166-a934-404f-a84a-48158c663247",
   "metadata": {},
   "outputs": [],
   "source": [
    "#Enter a string\n",
    "my_str = \"hello world\"\n",
    "\n",
    "#print the string in title case\n",
    "print(my_str.title())"
   ]
  },
  {
   "cell_type": "markdown",
   "id": "cb7e6411-10c1-4e61-9dd5-9155fa139d98",
   "metadata": {},
   "source": [
    "Problem 20: Find the longest word in a string."
   ]
  },
  {
   "cell_type": "code",
   "execution_count": null,
   "id": "03eed09c-b33a-4be8-98c6-415b93999f8a",
   "metadata": {},
   "outputs": [],
   "source": [
    "#Enter a string\n",
    "my_str = input(\"Enter a string: \")\n",
    "\n",
    "#split the string into a list\n",
    "my_list = my_str.split()\n",
    "\n",
    "#remove any duplicate words\n",
    "my_set = set(my_list)\n",
    "\n",
    "#intitialize temp variables\n",
    "len1 = 0\n",
    "lword = \"\"\n",
    "\n",
    "#logic to find the longest word\n",
    "for val in my_set:\n",
    "    if len(val)>len1:\n",
    "        lword = val\n",
    "        len1 = len(val)\n",
    "\n",
    "print(\"The longet word is: \",lword)"
   ]
  },
  {
   "cell_type": "markdown",
   "id": "aac7b248-c338-495b-aaaf-50acda0d0d45",
   "metadata": {},
   "source": [
    "Problem 21: Find the shortest word in a string."
   ]
  },
  {
   "cell_type": "code",
   "execution_count": null,
   "id": "74c05910-afab-4b15-a480-f7e78ed5afa1",
   "metadata": {},
   "outputs": [],
   "source": [
    "#Enter a string\n",
    "my_str = input(\"Enter a string: \")\n",
    "\n",
    "#split the string into a list\n",
    "my_list = my_str.split()\n",
    "\n",
    "#remove any duplicate words\n",
    "my_set = set(my_list)\n",
    "\n",
    "#intitialize temp variables\n",
    "len1 = 999\n",
    "sword = \"\"\n",
    "\n",
    "#logic to find the shortest word\n",
    "for val in my_set:\n",
    "    if len(val)<len1:\n",
    "        sword = val\n",
    "        len1 = len(val)\n",
    "\n",
    "print(\"The longet word is: \",sword)"
   ]
  },
  {
   "cell_type": "markdown",
   "id": "6f4ab932-f5c2-414e-a1ce-6b01e568adfe",
   "metadata": {},
   "source": [
    "Problem 22: Reverse the order of words in a string"
   ]
  },
  {
   "cell_type": "code",
   "execution_count": null,
   "id": "7cbd56a3-c4c5-4a5f-953e-43e276f7ca82",
   "metadata": {},
   "outputs": [],
   "source": [
    "#Enter a string\n",
    "my_str = input(\"Enter the string: \")\n",
    "\n",
    "#split the string\n",
    "my_list = my_str.split()\n",
    "\n",
    "#reverse the list\n",
    "rev_list = my_list[::-1]\n",
    "\n",
    "#join the reverse list\n",
    "rev_str = \" \".join(rev_list)\n",
    "\n",
    "print(\"Reversed String: \", rev_str)"
   ]
  },
  {
   "cell_type": "markdown",
   "id": "eb6c7d16-fece-4448-ae4a-2b61f6b0c03e",
   "metadata": {},
   "source": [
    "Problem 23: Check if a string is alphanumeric."
   ]
  },
  {
   "cell_type": "code",
   "execution_count": null,
   "id": "a8f6afb4-d125-4eb9-a64b-328d73d7287e",
   "metadata": {},
   "outputs": [],
   "source": [
    "#Enter a string \n",
    "my_str = input(\"Enter a string: \")\n",
    "\n",
    "if my_str.isalnum() == True:\n",
    "    print('The string is alphanumeric')\n",
    "else:\n",
    "    print('The string is not alphanumeric')      "
   ]
  },
  {
   "cell_type": "markdown",
   "id": "0968ba72-2cbb-4c6c-a1d0-03eb5f90e6a7",
   "metadata": {},
   "source": [
    "Problem 24: Extract all digits from a string."
   ]
  },
  {
   "cell_type": "code",
   "execution_count": null,
   "id": "a7e16f76-83f8-45f1-87dc-1232f737b9f2",
   "metadata": {},
   "outputs": [],
   "source": [
    "#Enter a string\n",
    "my_str = 'Hello 123'\n",
    "\n",
    "num_list = []\n",
    "\n",
    "#logic to extract the numbers\n",
    "for char in my_str:\n",
    "    if char.isdigit() == True:\n",
    "        num_list.append(char)\n",
    "\n",
    "#print the numbers        \n",
    "print(num_list)"
   ]
  },
  {
   "cell_type": "markdown",
   "id": "6e3e2f51-a898-453a-8726-8b9d9a903860",
   "metadata": {},
   "source": [
    "Problem 25: Extract all alphabets from a string."
   ]
  },
  {
   "cell_type": "code",
   "execution_count": null,
   "id": "65c69eaa-42c1-42e1-9781-475103418751",
   "metadata": {},
   "outputs": [],
   "source": [
    "#Enter a string\n",
    "my_str = 'Hello 123'\n",
    "\n",
    "char_list = []\n",
    "\n",
    "#logic to extract the alphabets\n",
    "for char in my_str:\n",
    "    if char.isdigit() == False and char != ' ':\n",
    "        char_list.append(char)\n",
    "        \n",
    "#print the characters        \n",
    "print(char_list)"
   ]
  },
  {
   "cell_type": "markdown",
   "id": "51e75154-8d0f-4698-874c-02285fa1c72b",
   "metadata": {},
   "source": [
    "Problem 26: Count the number of uppercase letters in a string."
   ]
  },
  {
   "cell_type": "code",
   "execution_count": null,
   "id": "6d2c0126-a5fd-4868-8350-8077e2c981f5",
   "metadata": {},
   "outputs": [],
   "source": [
    "#Enter a string\n",
    "my_str = \"Hello World\"\n",
    "\n",
    "count=0\n",
    "\n",
    "#logic to extract the uppercase letters\n",
    "for char in my_str:\n",
    "    if char.isupper() == True:\n",
    "        count += 1\n",
    "        \n",
    "#print the uppercase letters\n",
    "print(count)"
   ]
  },
  {
   "cell_type": "markdown",
   "id": "69a2e2d8-356b-4ff6-b35a-0e0ed642e3c9",
   "metadata": {},
   "source": [
    "Problem 27: Count the number of lowercase letters in a string."
   ]
  },
  {
   "cell_type": "code",
   "execution_count": null,
   "id": "022913e3-a163-4c9a-8fcc-5197ebecb11a",
   "metadata": {},
   "outputs": [],
   "source": [
    "#Enter a string\n",
    "my_str = \"Hello World\"\n",
    "\n",
    "count=0\n",
    "\n",
    "#logic to extract the lowercase letters\n",
    "for char in my_str:\n",
    "    if char.islower() == True:\n",
    "        count += 1\n",
    "        \n",
    "#print the lowercase letters\n",
    "print(count)"
   ]
  },
  {
   "cell_type": "markdown",
   "id": "e0f17a27-544a-4716-815a-2139b4acdbd9",
   "metadata": {},
   "source": [
    "Problem 28: Swap the case of each character in a string."
   ]
  },
  {
   "cell_type": "code",
   "execution_count": null,
   "id": "e54c38a9-f14e-4c8e-ac1d-65670d02599a",
   "metadata": {},
   "outputs": [],
   "source": [
    "#Enter a string\n",
    "my_str = 'Hello World'\n",
    "\n",
    "#print the swapped case string\n",
    "print(my_str.swapcase())"
   ]
  },
  {
   "cell_type": "markdown",
   "id": "a37bfe88-937e-49ff-a481-f20d06db02d2",
   "metadata": {},
   "source": [
    "Problem 29: Remove a specific word from a string."
   ]
  },
  {
   "cell_type": "code",
   "execution_count": null,
   "id": "b06e7967-f71c-45b8-9fe2-da1103f4ea63",
   "metadata": {},
   "outputs": [],
   "source": [
    "#Input a string\n",
    "my_str = input(\"Enter a string: \")\n",
    "\n",
    "#Enter the word to remove\n",
    "word = input(\"Enter the word to remove: \")\n",
    "\n",
    "my_list = my_str.split()\n",
    "\n",
    "if word in my_list:\n",
    "    my_list.remove(word)\n",
    "\n",
    "final_str = \" \".join(my_list)\n",
    "\n",
    "#print the final string\n",
    "print(final_str)"
   ]
  },
  {
   "cell_type": "markdown",
   "id": "95393800-49b6-44b6-b08b-5fff1623ecfd",
   "metadata": {},
   "source": [
    "Problem 30: Check if a string is a valid email address."
   ]
  },
  {
   "cell_type": "code",
   "execution_count": null,
   "id": "62d6ca0c-a9fd-40c2-a6e0-6deab6261ae1",
   "metadata": {},
   "outputs": [],
   "source": [
    "#import the RegEx module\n",
    "import re\n",
    "\n",
    "#define the email pattern\n",
    "pattern = r'\\b[A-Za-z0-9._%+-]+@[A-Za-z0-9.-]+\\.[A-Z|a-z]{2,7}\\b'\n",
    "\n",
    "#enter the email address\n",
    "email = input(\"Enter an email address: \")\n",
    "\n",
    "#match the pattern and input\n",
    "match = re.fullmatch(pattern,email)\n",
    "\n",
    "#check if match is None\n",
    "if match is not None:\n",
    "    print(\"Valid Email\")\n",
    "else:\n",
    "    print(\"Invalid Email\")\n"
   ]
  },
  {
   "cell_type": "markdown",
   "id": "657d4e6f-6b19-41d9-9800-e27d483ad586",
   "metadata": {},
   "source": [
    "Problem 31: Extract the username from an email address string."
   ]
  },
  {
   "cell_type": "code",
   "execution_count": null,
   "id": "cf98ec2f-e57f-4aa1-a576-df3c01425647",
   "metadata": {},
   "outputs": [],
   "source": [
    "#Enter email address\n",
    "email = 'susobhan.roy99@outlook.com'\n",
    "\n",
    "#extract the username\n",
    "username = email.split(\"@\")[0]\n",
    "\n",
    "#print the username\n",
    "print(username)"
   ]
  },
  {
   "cell_type": "markdown",
   "id": "7a54a200-3eec-46aa-89c6-9220c6da7cba",
   "metadata": {},
   "source": [
    "Problem 32: Extract the domain name from an email address string."
   ]
  },
  {
   "cell_type": "code",
   "execution_count": null,
   "id": "2b14ea92-a939-4c64-8ccf-127eb6763e22",
   "metadata": {},
   "outputs": [],
   "source": [
    "#Enter email address\n",
    "email = 'susobhan.roy99@outlook.com'\n",
    "\n",
    "#extract the domain name\n",
    "domain = my_str.split(\"@\")[1]\n",
    "\n",
    "#print the domain name\n",
    "print(domain)"
   ]
  },
  {
   "cell_type": "markdown",
   "id": "8cb523d4-c0a9-4c69-a715-9778d420484d",
   "metadata": {},
   "source": [
    "Problem 33: Replace multiple spaces in a string with a single space."
   ]
  },
  {
   "cell_type": "code",
   "execution_count": null,
   "id": "bdc0f442-710e-47d7-b233-cd43df1e19be",
   "metadata": {},
   "outputs": [],
   "source": [
    "#Enter a string\n",
    "my_str =\" The    pen is      mightier   than   the sword\"\n",
    "\n",
    "#split the string into a list\n",
    "my_list = my_str.split()\n",
    "\n",
    "new_str = \" \".join(my_list)\n",
    "\n",
    "#final string with single spaces\n",
    "print(new_str)"
   ]
  },
  {
   "cell_type": "markdown",
   "id": "002aa17e-1559-4590-be34-25af053b3e25",
   "metadata": {},
   "source": [
    "Problem 34: Check if a string is a valid URL."
   ]
  },
  {
   "cell_type": "code",
   "execution_count": null,
   "id": "15c9800e-729f-4fc9-8c08-2b4ef573d7d3",
   "metadata": {},
   "outputs": [],
   "source": [
    "#import URLparse\n",
    "from urllib.parse import urlparse\n",
    "\n",
    "#define function to check for Valid Url\n",
    "def valid_url(url):\n",
    "    check = urlparse(url)\n",
    "    if check.scheme and check.netloc:\n",
    "        print(\"Valid url\")\n",
    "    else:\n",
    "        print(\"Invalid url\")\n",
    "\n",
    "#check \n",
    "url = \"HTTPS://www.google.com//\"\n",
    "valid_url(url)"
   ]
  },
  {
   "cell_type": "markdown",
   "id": "a39b33f4-567e-4ff9-97ac-bcf9ef5742da",
   "metadata": {},
   "source": [
    "Problem 35: Extract the protocol (http or https) from a URL string"
   ]
  },
  {
   "cell_type": "code",
   "execution_count": null,
   "id": "64d13e91-45c3-4277-926a-2c021ddf7921",
   "metadata": {},
   "outputs": [],
   "source": [
    "#function to extract the protocol\n",
    "def extract_p(url):\n",
    "    #check the position of '://'\n",
    "    pos = url.find('://')\n",
    "    #confirm the postion is not at the end\n",
    "    if pos != -1:\n",
    "        print(url[:pos])\n",
    "    else:\n",
    "        print(\"Invalid Url\")\n",
    "\n",
    "#Enter an url\n",
    "url = \"HTTPS://www.google.com//\"\n",
    "extract_p(url)\n",
    "\n"
   ]
  },
  {
   "cell_type": "markdown",
   "id": "e2388351-4b3f-4b02-9b15-157dc5500a0d",
   "metadata": {},
   "source": [
    "Problem 36: Find the frequency of each character in a string."
   ]
  },
  {
   "cell_type": "code",
   "execution_count": null,
   "id": "cf3aed34-7533-474f-9c57-71ae28c6ecf8",
   "metadata": {},
   "outputs": [],
   "source": [
    "#define function to calculate the frequency\n",
    "def frequency(my_str):\n",
    "    my_str= my_str.lower()\n",
    "    my_dict={}\n",
    "    for char in my_str:\n",
    "        if char in my_dict:\n",
    "            my_dict[char] += 1\n",
    "        else:\n",
    "            my_dict[char] = 1\n",
    "    print(\"The frequency: \", my_dict)\n",
    "\n",
    "inp_str = input(\"Enter a string: \")\n",
    "frequency(inp_str)"
   ]
  },
  {
   "cell_type": "markdown",
   "id": "de40e066-a1f0-4c00-8a46-b29ef3002abc",
   "metadata": {},
   "source": [
    "Problem 37: Remove all punctuation from a string."
   ]
  },
  {
   "cell_type": "code",
   "execution_count": null,
   "id": "6e25ea6c-4085-40a7-92d5-d4fdb3962680",
   "metadata": {},
   "outputs": [],
   "source": [
    "#function to remove punctuation\n",
    "def remove_punc(my_str):\n",
    "    result = filter(lambda x: x.isdigit() or x.isalpha() or x.isspace(),my_str)\n",
    "    res_str = \" \"\n",
    "    for char in result:\n",
    "        res_str+= char\n",
    "    return res_str\n",
    "\n",
    "#input a string\n",
    "inp_str = input('Enter a string: ')\n",
    "print(\"Original String: \", inp_str)\n",
    "print(\"String without punction: \", remove_punc(inp_str))"
   ]
  },
  {
   "cell_type": "markdown",
   "id": "e06168fc-6711-4605-aaef-d4ca57b155e0",
   "metadata": {},
   "source": [
    "Problem 38: Check if a string contains only digits."
   ]
  },
  {
   "cell_type": "code",
   "execution_count": null,
   "id": "a4cf75b6-c9bf-4bc8-b982-8453d45727d7",
   "metadata": {},
   "outputs": [],
   "source": [
    "#Enter a string\n",
    "inp_str = input('Enter a string: ')\n",
    "\n",
    "if(inp_str.isdigit() == True):\n",
    "    print('All characters are digits!')\n",
    "else:\n",
    "    print('All characters are not digits!')"
   ]
  },
  {
   "cell_type": "markdown",
   "id": "1aca0af9-bfa9-457e-976b-525bcbe5157d",
   "metadata": {},
   "source": [
    "Problem 39: Check if a string contains only alphabets."
   ]
  },
  {
   "cell_type": "code",
   "execution_count": null,
   "id": "1e2ca45a-02ba-4bf8-9f33-e06b6c54f418",
   "metadata": {},
   "outputs": [],
   "source": [
    "#Enter a string\n",
    "inp_str = input('Enter a string: ')\n",
    "\n",
    "if(inp_str.isalpha() == True):\n",
    "    print('All characters are alphabets!')\n",
    "else:\n",
    "    print('All characters are not alphabets!')"
   ]
  },
  {
   "cell_type": "markdown",
   "id": "288cb028-3218-4897-a377-f46596b2bb62",
   "metadata": {},
   "source": [
    "Problem 40: Convert a string to a list of characters"
   ]
  },
  {
   "cell_type": "code",
   "execution_count": null,
   "id": "459e9de2-5f5e-4539-81bf-61b1e66fd247",
   "metadata": {},
   "outputs": [],
   "source": [
    "#Enter a string\n",
    "inp_str = input('Enter a string: ')\n",
    "\n",
    "res_list =[]\n",
    "\n",
    "#convert string to a list of characters\n",
    "for word in inp_str:\n",
    "       res_list.extend(word.split())\n",
    "\n",
    "#result list\n",
    "print(res_list)"
   ]
  },
  {
   "cell_type": "markdown",
   "id": "88e8a65c-c19d-4a56-aa77-556076130443",
   "metadata": {},
   "source": [
    "Problem 41: Check if two strings are anagrams"
   ]
  },
  {
   "cell_type": "code",
   "execution_count": null,
   "id": "ddfb9078-1fc1-410f-91ae-f6db9fcbcd1a",
   "metadata": {},
   "outputs": [],
   "source": [
    "def anagram(str1,str2):\n",
    "    if (sorted(str1) == sorted(str2)):\n",
    "        print('The strings are anagram')\n",
    "    else:\n",
    "        print('The strings are not anagrams')\n",
    "\n",
    "#Enter 1st string\n",
    "inp1= input('Enter 1st string: ')\n",
    "#Enter 2nd string\n",
    "inp2 = input('Enter 2nd string: ')\n",
    "\n",
    "#check for anagram\n",
    "anagram(inp1.lower(),inp2.lower())"
   ]
  },
  {
   "cell_type": "markdown",
   "id": "09393a14-4f60-44d0-8a11-9ed1ab40a2a6",
   "metadata": {},
   "source": [
    "Problem 42: Encode a string using a Caesar cipher."
   ]
  },
  {
   "cell_type": "code",
   "execution_count": null,
   "id": "59e9531d-7316-4516-ab97-5ca1c7f3227a",
   "metadata": {},
   "outputs": [],
   "source": [
    "#ASCII values\n",
    "# A-Z: 65 to 90\n",
    "# a-z: 97 to 122\n",
    "#encrypt function\n",
    "def encrypt(my_str,s):\n",
    "    res_wrod = \"\"\n",
    "    for char in my_str:\n",
    "        if char.isalpha():\n",
    "            if char.isupper():\n",
    "                res_wrod += chr((ord(char) + s-65)%26 + 65)\n",
    "            else:\n",
    "                res_wrod += chr((ord(char) + s-97)%26 + 97)\n",
    "        else:\n",
    "            res_wrod += char\n",
    "    return res_wrod\n",
    "\n",
    "inp_str = input(\"Enter the string in encode: \")\n",
    "step = int(input(\"Enter the step size: \"))\n",
    "\n",
    "print(\"The encoded string is: \",encrypt(inp_str,step))\n"
   ]
  },
  {
   "cell_type": "markdown",
   "id": "5905ec53-f2ab-4c78-b7d9-65c3d3ab6ec3",
   "metadata": {},
   "source": [
    "Problem 43: Decode a Caesar cipher encoded string."
   ]
  },
  {
   "cell_type": "code",
   "execution_count": null,
   "id": "a6bdcbb4-cbf1-4c5c-8789-422554e47a9b",
   "metadata": {},
   "outputs": [],
   "source": [
    "#decode function\n",
    "def decode(my_str,s):\n",
    "    res_wrod = \"\"\n",
    "    for char in my_str:\n",
    "        if char.isalpha():\n",
    "            if char.isupper():\n",
    "                res_wrod += chr((ord(char) - s-65)%26 + 65)\n",
    "            else:\n",
    "                res_wrod += chr((ord(char) - s-97)%26 + 97)\n",
    "        else:\n",
    "            res_wrod += char\n",
    "    return res_wrod\n",
    "\n",
    "inp_str = input(\"Enter the string in decode: \")\n",
    "step = int(input(\"Enter the step size: \"))\n",
    "\n",
    "print(\"The decoded string is: \",decode(inp_str,step))\n"
   ]
  },
  {
   "cell_type": "markdown",
   "id": "91bfc286-4765-4ca1-9d5d-6b375c6d201b",
   "metadata": {},
   "source": [
    "Problem 44: Find the most frequent word in a string."
   ]
  },
  {
   "cell_type": "code",
   "execution_count": null,
   "id": "8b427da3-adbb-4552-ba58-2ae48bafcf30",
   "metadata": {},
   "outputs": [],
   "source": [
    "import re\n",
    "from collections import Counter\n",
    "#highest_word\n",
    "def high_word(my_str):\n",
    "    my_list = my_str.split()\n",
    "    #get the frequency of the words\n",
    "    my_counter = Counter(my_list)\n",
    "    #get the most frequent word\n",
    "    frequent = my_counter.most_common(1)[0][0]\n",
    "    return frequent\n",
    "    \n",
    "#Enter the string:\n",
    "inp_str = input('Enter a string: ')\n",
    "\n",
    "#remove the punctuations\n",
    "res_str = re.sub(r'[^\\w\\s]', '', inp_str).lower()\n",
    "\n",
    "#print the most frequent word\n",
    "print(\"The most frequent word is:\", end=\" \")\n",
    "print(high_word(res_str.lower()))"
   ]
  },
  {
   "cell_type": "markdown",
   "id": "176f4b10-b62d-4d77-86ca-22163e513ff0",
   "metadata": {},
   "source": [
    "Problem 45: Find all unique words in a string."
   ]
  },
  {
   "cell_type": "code",
   "execution_count": null,
   "id": "864d2b4f-de71-42b2-9122-44df87e9e889",
   "metadata": {},
   "outputs": [],
   "source": [
    "#find uniqeue words\n",
    "def unique(my_str):\n",
    "    #remove the punctuations\n",
    "    res_str = re.sub(r'[^\\w\\s]', '', my_str).lower()\n",
    "    #get the unique words\n",
    "    u_words = set(res_str.split())\n",
    "    return u_words\n",
    "    \n",
    "    \n",
    "#input a string\n",
    "inp_str = input(\"Enter a string: \")\n",
    "\n",
    "print(unique(inp_str))"
   ]
  },
  {
   "cell_type": "markdown",
   "id": "20c5d4b8-22eb-4d05-a539-e39d75cac4fc",
   "metadata": {},
   "source": [
    "Problem 46: Count the number of syllables in a string."
   ]
  },
  {
   "cell_type": "code",
   "execution_count": null,
   "id": "d8e639ff-efbc-4eae-8dda-4c0a7ff18726",
   "metadata": {},
   "outputs": [],
   "source": [
    "import re\n",
    "#Count the number of syllables\n",
    "def count_sylbl(word):\n",
    "    #get the list of syllables in the word\n",
    "    list_syllables = re.findall('[aeiou]+',word,re.IGNORECASE)\n",
    "    #return the number of syllables\n",
    "    return len(list_syllables)\n",
    "\n",
    "#input a word\n",
    "inp_str = input(\"Enter a word\")\n",
    "\n",
    "print(\"The number of syllables in your word is: \",count_sylbl(inp_str))"
   ]
  },
  {
   "cell_type": "markdown",
   "id": "ab08c6f1-aab3-44f1-b69c-e559590d499f",
   "metadata": {},
   "source": [
    "Problem 47: Check if a string contains any special characters."
   ]
  },
  {
   "cell_type": "code",
   "execution_count": null,
   "id": "85173522-9c2c-4efa-9ce0-6c7501e94a1e",
   "metadata": {},
   "outputs": [],
   "source": [
    "import re\n",
    "def findsc(word):\n",
    "    #define the special characters\n",
    "    pattern = re.compile('[!@#$%^&*()_+{}\\[\\]:;<>,.?~\\\\/]')\n",
    "    #check for the special characters\n",
    "    match = pattern.search(word)\n",
    "    return bool(match)\n",
    "\n",
    "#input a word\n",
    "inp_str = input(\"Enter a word\")\n",
    "res = findsc(inp_str)\n",
    "if res == True:\n",
    "    print('Your string has special character')\n",
    "else:\n",
    "    print('Your string does not have special character')\n"
   ]
  },
  {
   "cell_type": "markdown",
   "id": "0e509617-72f9-4426-a930-336b3126cc9f",
   "metadata": {},
   "source": [
    "Problem 48: Remove the nth word from a string"
   ]
  },
  {
   "cell_type": "code",
   "execution_count": null,
   "id": "89662e1b-7f39-4d5e-93b2-929e848e7a92",
   "metadata": {},
   "outputs": [],
   "source": [
    "def RemoveNthWord(string,pos):\n",
    "    #split the string into a lits of words\n",
    "    words = string.split()\n",
    "    #remove the word from nth position and get the word\n",
    "    del_word = words.pop(pos-1)\n",
    "    #join the remaining string\n",
    "    rem_string = \" \".join(words)\n",
    "    return (rem_string,del_word)\n",
    "\n",
    "#Enter a string\n",
    "inp_str = input(\"Enter a string: \")\n",
    "#Enter the position of the word to be deleted\n",
    "pos = int(input(\"Enter the delete word position\"))\n",
    "\n",
    "\n",
    "if pos<1 or pos>len(inp_str.split()):\n",
    "    print (\"Invalid Input\")\n",
    "else:\n",
    "    rem_string,del_word =  RemoveNthWord(inp_str,pos)\n",
    "    #Print the remaining string\n",
    "    print(\"The remaining string: \", rem_string)\n",
    "    #Print the word deleted \n",
    "    print(\"The deleted word is: \",del_word)"
   ]
  },
  {
   "cell_type": "markdown",
   "id": "192af98f-4fa3-4447-aa86-4301a4081cbe",
   "metadata": {},
   "source": [
    "Problem 49: Insert a word at the nth position in a string."
   ]
  },
  {
   "cell_type": "code",
   "execution_count": null,
   "id": "eb9eb64f-e6e3-42ba-91ac-a0886521735f",
   "metadata": {},
   "outputs": [],
   "source": [
    "def AddNthWord(string,pos,nword):\n",
    "    #split the string into a lits of words\n",
    "    words = string.split()\n",
    "    #add the new word in the nth position \n",
    "    words.insert(pos-1,nword)\n",
    "    #join the remaining string\n",
    "    new_string = \" \".join(words)\n",
    "    return (new_string)\n",
    "\n",
    "#Enter a string\n",
    "inp_str = input(\"Enter a string: \")\n",
    "#Enter the position of the word to be deleted\n",
    "pos = int(input(\"Enter the new word position\"))\n",
    "#Enter the word deleted \n",
    "nword = input(\"Enter the new word\")    \n",
    "\n",
    "if pos<1 or pos>len(inp_str.split()):\n",
    "    print (\"Invalid Input\")\n",
    "else:\n",
    "    new_string =  AddNthWord(inp_str,pos,nword)\n",
    "    #Print the new string\n",
    "    print(\"The new string: \", new_string)\n",
    "   "
   ]
  },
  {
   "cell_type": "markdown",
   "id": "94232397-3d2e-4d4c-8453-b4cafc26ce50",
   "metadata": {},
   "source": [
    "Prosblem 50: Convert a CSV string to a list of lists."
   ]
  },
  {
   "cell_type": "code",
   "execution_count": null,
   "id": "a5e4c609-b508-40e0-9223-b57742e6da84",
   "metadata": {},
   "outputs": [],
   "source": [
    "csv_data = \"Student,Subject,Marks\\nAmit,Computer,92\\nKalpesh,Physics,88\"\n",
    "\n",
    "def CsvToList(data):\n",
    "    final_list = []\n",
    "    #split the data on new line\n",
    "    meta_data = data.split('\\n')\n",
    "    #split each of meta data into list\n",
    "    for dataset in meta_data:\n",
    "        final_list.append(dataset.split(','))\n",
    "    return final_list\n",
    "\n",
    "CsvToList(csv_data)"
   ]
  },
  {
   "cell_type": "markdown",
   "id": "131f6479-863c-41be-91d9-3bb4393406d0",
   "metadata": {},
   "source": [
    "LIST"
   ]
  },
  {
   "cell_type": "markdown",
   "id": "d02a7646-29fb-4c4f-aa74-139a1443e939",
   "metadata": {},
   "source": [
    "Problem 1: Create a list with integers from 1 to 10"
   ]
  },
  {
   "cell_type": "code",
   "execution_count": null,
   "id": "5c0bd3e7-0c79-4a87-a09b-66a5663df483",
   "metadata": {},
   "outputs": [],
   "source": [
    "l = [i for i in range (1,11)]\n",
    "print(l)"
   ]
  },
  {
   "cell_type": "markdown",
   "id": "23cb9236-c733-40c8-a1d4-347ffc8bc05a",
   "metadata": {},
   "source": [
    "Problem 2: Find the length of a list without using the `len()` function"
   ]
  },
  {
   "cell_type": "code",
   "execution_count": null,
   "id": "405bcacc-14de-470c-a982-334bf9070b11",
   "metadata": {},
   "outputs": [],
   "source": [
    "#create a list\n",
    "l = [i for i in range (1,21)]\n",
    "#initialize the counter\n",
    "count =0\n",
    "#run a loop to count the number of elements which is the length\n",
    "for elements in l:\n",
    "    count = count + 1\n",
    "#print the length\n",
    "print(\"The length of the list is: \",count)\n"
   ]
  },
  {
   "cell_type": "markdown",
   "id": "7adee880-25a1-4ff0-9832-0b910430b106",
   "metadata": {},
   "source": [
    "Problem 3: Append an element to the end of a list"
   ]
  },
  {
   "cell_type": "code",
   "execution_count": null,
   "id": "f654b1f7-8bc4-446e-9fab-15025aa59caf",
   "metadata": {},
   "outputs": [],
   "source": [
    "#create a list\n",
    "mylist = ['rohit','virat','rahul']\n",
    "print('Original list: ',mylist)\n",
    "add_element = 'bumrah'\n",
    "#add the new element at the end\n",
    "mylist.append(add_element)\n",
    "print('Appended list: ',mylist)"
   ]
  },
  {
   "cell_type": "markdown",
   "id": "bc18f5a6-6763-4e46-ab8b-5b6e0b56ca73",
   "metadata": {},
   "source": [
    "Problem 4: Insert an element at a specific index in a list"
   ]
  },
  {
   "cell_type": "code",
   "execution_count": null,
   "id": "5cbf536b-bea5-4484-9bd2-bcc33112af38",
   "metadata": {},
   "outputs": [],
   "source": [
    "#create a list\n",
    "mylist = ['rohit','virat','rahul']\n",
    "print('Original list: ',mylist)\n",
    "#Enter the position and the new element\n",
    "pos = int(input('Enter the position you want to enter the element: '))\n",
    "element = input('Enter the new element: ')\n",
    "if pos-1<=len(mylist):\n",
    "    #insert the element at the specified position\n",
    "    mylist.insert(pos-1,element)\n",
    "else:\n",
    "    print('Invalid Position')\n",
    "print('New List: ',mylist)"
   ]
  },
  {
   "cell_type": "markdown",
   "id": "954f8a58-bec6-405b-a111-2583fc65266c",
   "metadata": {},
   "source": [
    "Problem 5: Remove an element from a list by its value."
   ]
  },
  {
   "cell_type": "code",
   "execution_count": null,
   "id": "caa2a266-8258-423b-b9d8-c8b45a389380",
   "metadata": {},
   "outputs": [],
   "source": [
    "#create a list\n",
    "my_list = ['rohit', 'virat', 'bumrah', 'rahul']\n",
    "print('The current list: ',my_list)\n",
    "\n",
    "#enter the value to be deleted\n",
    "del_element = input('Enter the element to be deleted: ')\n",
    "\n",
    "#check if the element to be deleted is in the list\n",
    "if del_element in my_list:\n",
    "    my_list.remove(del_element)\n",
    "    print('The new list is: ',my_list)\n",
    "else:\n",
    "    print('The element is not on the list')"
   ]
  },
  {
   "cell_type": "markdown",
   "id": "e97a1fc2-2ad7-4075-b816-465050bb3d8d",
   "metadata": {},
   "source": [
    "Problem 6: Remove an element from a list by its index."
   ]
  },
  {
   "cell_type": "code",
   "execution_count": null,
   "id": "49c34e2c-5a8a-4b9d-9fcb-35715cc576f7",
   "metadata": {},
   "outputs": [],
   "source": [
    "#create a list\n",
    "mylist = ['rohit','virat','rahul','bumrah']\n",
    "print('Original list: ',mylist)\n",
    "\n",
    "#Enter the position to be deleted\n",
    "pos = int(input('Enter the position you want to delete: '))\n",
    "\n",
    "if pos-1<=len(mylist):\n",
    "    #delete the element at the specified position\n",
    "    mylist.pop(pos-1)\n",
    "else:\n",
    "    print('Invalid Position')\n",
    "print('New List: ',mylist)"
   ]
  },
  {
   "cell_type": "markdown",
   "id": "c0d16c7f-bb7d-4e4c-8e06-08cb8a7efd1d",
   "metadata": {},
   "source": [
    "Problem 7: Check if an element exists in a list"
   ]
  },
  {
   "cell_type": "code",
   "execution_count": null,
   "id": "3c9ca2e1-bd16-4b08-8652-c2b49479db41",
   "metadata": {},
   "outputs": [],
   "source": [
    "#create a list\n",
    "mylist = ['rohit','virat','rahul','bumrah']\n",
    "print('Original list: ',mylist)\n",
    "\n",
    "#Enter the element to check\n",
    "element = input('Enter the element you want to check: ')\n",
    "\n",
    "if element.lower() in mylist:\n",
    "    print('{0} is in the list {1}'.format(element,mylist))\n",
    "else:\n",
    "    print('Element not found')\n",
    "          "
   ]
  },
  {
   "cell_type": "markdown",
   "id": "e8453de4-a8f4-420b-bc9d-25f4ed535f32",
   "metadata": {},
   "source": [
    "Problem 8: Find the index of the first occurrence of an element in a list"
   ]
  },
  {
   "cell_type": "code",
   "execution_count": null,
   "id": "bf642e8c-0ada-46d6-ade3-3f0f67250744",
   "metadata": {},
   "outputs": [],
   "source": [
    "#create a list\n",
    "mylist = ['rohit','virat','rahul','bumrah','virat']\n",
    "print('Original list: ',mylist)\n",
    "\n",
    "#Enter the element to check\n",
    "element = input('Enter the element you want to check: ')\n",
    "\n",
    "if element.lower() in mylist:\n",
    "    pos = my_list.index(element.lower())\n",
    "    print('The first occurance of the element {0} is {1}'.format(element,pos+1))\n",
    "else:\n",
    "    print('Element not found')"
   ]
  },
  {
   "cell_type": "markdown",
   "id": "0be3f563-c24d-4b93-a9ba-d16eace66777",
   "metadata": {},
   "source": [
    "Problem 9: Count the occurrences of an element in a list"
   ]
  },
  {
   "cell_type": "code",
   "execution_count": null,
   "id": "945a3e4e-d595-40a7-9198-f9542c29e9d0",
   "metadata": {},
   "outputs": [],
   "source": [
    "#create a list\n",
    "mylist = [9,9,3,2,2,2,1,3,4,6]\n",
    "print('Original list: ',mylist)\n",
    "\n",
    "#Enter the element to check\n",
    "element = int(input('Enter the element you want to check: '))\n",
    "\n",
    "if element in mylist:\n",
    "    count = mylist.count(element)\n",
    "    print('The {0} element occurs {1} times'.format(element,count))\n",
    "else:\n",
    "    print('Element not found')   \n"
   ]
  },
  {
   "cell_type": "markdown",
   "id": "b1910f1b-ed8b-4387-9b99-72d82ebe8fbc",
   "metadata": {},
   "source": [
    "Problem 10: Reverse the order of elements in a list"
   ]
  },
  {
   "cell_type": "code",
   "execution_count": null,
   "id": "37ec22ee-5627-4bc1-a1e8-1ed61a1b2ae4",
   "metadata": {},
   "outputs": [],
   "source": [
    "#create a list\n",
    "mylist = [9,9,3,2,2,2,1,3,4,6]\n",
    "print('Original list: ',mylist)\n",
    "\n",
    "#reverse of the list\n",
    "print('The reverse list is: ',mylist[::-1])"
   ]
  },
  {
   "cell_type": "markdown",
   "id": "f0cc53bb-d78c-40df-a3c2-a594e13e9491",
   "metadata": {},
   "source": [
    "Problem 11: Sort a list in ascending order."
   ]
  },
  {
   "cell_type": "code",
   "execution_count": null,
   "id": "0c45891b-a966-43ba-8f12-f8fd9baadcef",
   "metadata": {},
   "outputs": [],
   "source": [
    "#create a list\n",
    "mylist = [9,9,3,2,2,2,1,3,4,6]\n",
    "print('Original list: ',mylist)\n",
    "\n",
    "#sort the list\n",
    "mylist.sort()\n",
    "print('The sorted list is: ', mylist)"
   ]
  },
  {
   "cell_type": "markdown",
   "id": "9a7f7ffa-2c3e-4f20-9a82-f36b90b23682",
   "metadata": {},
   "source": [
    "Problem 12: Sort a list in descending order."
   ]
  },
  {
   "cell_type": "code",
   "execution_count": null,
   "id": "c27dd1d8-cc65-4c4f-a02c-ba232c8e5119",
   "metadata": {},
   "outputs": [],
   "source": [
    "#create a list\n",
    "mylist = [9,9,3,2,2,2,1,3,4,6]\n",
    "print('Original list: ',mylist)\n",
    "\n",
    "#sort the list in descending order\n",
    "mylist.sort(reverse=True)\n",
    "print('The sorted list is: ', mylist)"
   ]
  },
  {
   "cell_type": "markdown",
   "id": "85f1656d-216b-4542-8dad-ffe555ae37bb",
   "metadata": {},
   "source": [
    "Problem 13: Create a list of even numbers from 1 to 20."
   ]
  },
  {
   "cell_type": "code",
   "execution_count": null,
   "id": "025d41c7-f85b-44b8-a4ef-ec35a134d151",
   "metadata": {},
   "outputs": [],
   "source": [
    "even_list = [i for i in range(1,21) if i%2==0]\n",
    "print(\"The list of even numbers: \",even_list)"
   ]
  },
  {
   "cell_type": "markdown",
   "id": "73fdbffe-876b-481f-99f0-489f9e4dc6ef",
   "metadata": {},
   "source": [
    "Problem 14: Create a list of odd numbers from 1 to 20."
   ]
  },
  {
   "cell_type": "code",
   "execution_count": null,
   "id": "030282d1-aa1b-49bc-8b84-d132c09161b8",
   "metadata": {},
   "outputs": [],
   "source": [
    "odd_list = [i for i in range(1,20) if i%2!=0]\n",
    "print(\"The list of even numbers: \",odd_list)"
   ]
  },
  {
   "cell_type": "markdown",
   "id": "8ce06944-2b33-4d9d-8808-070d69822975",
   "metadata": {},
   "source": [
    "Problem 15: Find the sum of all elements in a list."
   ]
  },
  {
   "cell_type": "code",
   "execution_count": null,
   "id": "3d561200-d0e4-41e7-aee8-64fcc92dcd37",
   "metadata": {},
   "outputs": [],
   "source": [
    "#create a list\n",
    "mylist = [9,9,3,2,2,2,1,3,4,6]\n",
    "print('Original list: ',mylist)\n",
    "\n",
    "#sum of the elements in the list\n",
    "sum_list = sum(mylist)\n",
    "print('The sum of the list is: ',sum_list)"
   ]
  },
  {
   "cell_type": "markdown",
   "id": "b5292ce4-e72c-4d67-bbba-fc5846de8170",
   "metadata": {},
   "source": [
    "Problem 16: Find the maximum value in a list."
   ]
  },
  {
   "cell_type": "code",
   "execution_count": null,
   "id": "21e7f187-eb59-4108-af41-e6c0bd3cb0ff",
   "metadata": {},
   "outputs": [],
   "source": [
    "#create a list\n",
    "mylist = [9,9,3,2,2,2,1,3,4,6]\n",
    "print('Original list: ',mylist)\n",
    "\n",
    "#max element\n",
    "max_element = max(mylist)\n",
    "print('The maximum element of my list is: ',max_element)"
   ]
  },
  {
   "cell_type": "markdown",
   "id": "3c55694c-4189-40cc-9125-a58303190e38",
   "metadata": {},
   "source": [
    "Problem 17: Find the minimum value in a list."
   ]
  },
  {
   "cell_type": "code",
   "execution_count": null,
   "id": "4070ac87-6148-4484-8fd6-ef18c493dfe6",
   "metadata": {},
   "outputs": [],
   "source": [
    "#create a list\n",
    "mylist = [9,9,3,2,2,2,1,3,4,6]\n",
    "print('Original list: ',mylist)\n",
    "\n",
    "#min element\n",
    "min_element = min(mylist)\n",
    "print('The maximum element of my list is: ',min_element)"
   ]
  },
  {
   "cell_type": "markdown",
   "id": "41b05eec-02a8-4c22-9a31-74b208a49a02",
   "metadata": {},
   "source": [
    "Problem 18: Create a list of squares of numbers from 1 to 10."
   ]
  },
  {
   "cell_type": "code",
   "execution_count": null,
   "id": "e3f77528-d6e4-4115-95fc-572878947b5e",
   "metadata": {},
   "outputs": [],
   "source": [
    "square_list = [i**2 for i in range (1,11)]\n",
    "print(square_list)"
   ]
  },
  {
   "cell_type": "markdown",
   "id": "e4b4e392-8550-4f4c-a3c3-9b78d2c334b2",
   "metadata": {},
   "source": [
    "Problem 19: Create a list of random numbers."
   ]
  },
  {
   "cell_type": "code",
   "execution_count": null,
   "id": "0098cbab-70b0-459e-b0a5-ce791ed48534",
   "metadata": {},
   "outputs": [],
   "source": [
    "import random\n",
    "random_list = [ random.randrange(1,100) for i in range(10)]\n",
    "print('The list of randomm numbers: ', random_list)"
   ]
  },
  {
   "cell_type": "markdown",
   "id": "ae6de3cc-a2e6-4611-8d4c-a6cabf472c84",
   "metadata": {},
   "source": [
    "Problem 20: Remove duplicates from a list."
   ]
  },
  {
   "cell_type": "code",
   "execution_count": null,
   "id": "d6c0edd7-bc96-4e29-a626-8ab150feae52",
   "metadata": {},
   "outputs": [],
   "source": [
    "#create a list\n",
    "mylist = [9,9,3,2,2,2,1,3,4,6]\n",
    "print('Original list: ',mylist)\n",
    "\n",
    "#Remove duplicates\n",
    "NonDup_list = list(set(mylist))\n",
    "print('The list without duplicates: ', NonDup_list)"
   ]
  },
  {
   "cell_type": "markdown",
   "id": "45e54e61-ab4b-4d42-a1aa-c6a590097fb0",
   "metadata": {},
   "source": [
    "Problem 21: Find the common elements between two lists."
   ]
  },
  {
   "cell_type": "markdown",
   "id": "a9b50c24-7913-4e7e-90c0-a009f593da53",
   "metadata": {},
   "source": [
    "list1 = [9,9,3,2,2,2,1,3,4,6]\n",
    "list2 = [8,6,1,7,6,8,1,7,7,1]\n",
    "print('List 1: ',list1)\n",
    "print('List 2: ',list2)\n",
    "\n",
    "c_list = list(set(list1).intersection(list2))\n",
    "print('The common elements are: ',c_list)"
   ]
  },
  {
   "cell_type": "markdown",
   "id": "d87eb3ac-8639-4ae1-8277-d173d29cb78a",
   "metadata": {},
   "source": [
    "Problem 22: Find the difference between two lists."
   ]
  },
  {
   "cell_type": "code",
   "execution_count": null,
   "id": "152317df-d42b-4b4d-baab-049bea51ac3e",
   "metadata": {},
   "outputs": [],
   "source": [
    "list1 = [9,9,3,2,2,2,1,3,4,6]\n",
    "list2 = [8,6,1,7,6,8,1,7,7,1]\n",
    "print('List 1: ',list1)\n",
    "print('List 2: ',list2)\n",
    "\n",
    "d_list = list(set(list1).difference(list2))\n",
    "print('The difference is: ',d_list)"
   ]
  },
  {
   "cell_type": "markdown",
   "id": "7c216783-307c-4329-8018-0c37ca2e66f9",
   "metadata": {},
   "source": [
    "Problem 23: Merge two lists."
   ]
  },
  {
   "cell_type": "code",
   "execution_count": null,
   "id": "415f8704-8cbf-41e9-9544-5752c23f8bc4",
   "metadata": {},
   "outputs": [],
   "source": [
    "list1 = [9,9,3,2,2,2,1,3,4,6]\n",
    "list2 = [8,6,1,7,6,8,1,7,7,1]\n",
    "print('List 1: ',list1)\n",
    "print('List 2: ',list2)\n",
    "\n",
    "m_list = list1 + list2\n",
    "print('The merged list is: ',m_list)"
   ]
  },
  {
   "cell_type": "markdown",
   "id": "bc5901d0-b0f5-42cb-8448-3ed4d3548c87",
   "metadata": {},
   "source": [
    "Problem 24: Multiply all elements in a list by 2."
   ]
  },
  {
   "cell_type": "code",
   "execution_count": null,
   "id": "dfbd686f-077b-433b-80a4-beece51713ac",
   "metadata": {},
   "outputs": [],
   "source": [
    "#create a list\n",
    "mylist = [9,9,3,2,2,2,1,3,4,6]\n",
    "print('Original list: ',mylist)\n",
    "\n",
    "#multiply by 2\n",
    "multiply_list = [i*2 for i in mylist]\n",
    "print('The elements multiplied by 2: ', multiply_list)"
   ]
  },
  {
   "cell_type": "markdown",
   "id": "0c4bd033-0af4-4508-b2c0-0743f9983bed",
   "metadata": {},
   "source": [
    "Problem 25: Filter out all even numbers from a list."
   ]
  },
  {
   "cell_type": "code",
   "execution_count": null,
   "id": "551c9807-3557-480f-ae31-61885ce574ca",
   "metadata": {},
   "outputs": [],
   "source": [
    "#create a list\n",
    "mylist = [9,9,3,2,2,2,1,3,4,6]\n",
    "print('Original list: ',mylist)\n",
    "\n",
    "#even elements\n",
    "even_list = [i for i in mylist if i%2==0]\n",
    "print('The even elements list: ',even_list)"
   ]
  },
  {
   "cell_type": "markdown",
   "id": "231c589b-3078-4bfc-9839-4a6b146a84d9",
   "metadata": {},
   "source": [
    "Problem 26: Convert a list of strings to a list of integers."
   ]
  },
  {
   "cell_type": "code",
   "execution_count": null,
   "id": "1719b1dc-bd6a-49dd-bb00-3d753f2187ae",
   "metadata": {},
   "outputs": [],
   "source": [
    "#create a list\n",
    "mylist = ['9','9','3','2','2','2','1','3','4','6']\n",
    "print('Original list: ',mylist)\n",
    "\n",
    "#convert list of strings to int\n",
    "int_list = [int(i) for i in mylist]\n",
    "print('The integers list: ',int_list)"
   ]
  },
  {
   "cell_type": "markdown",
   "id": "358f4aa9-2a80-4d00-b852-c0a2312e5224",
   "metadata": {},
   "source": [
    "Problem 27: Convert a list of integers to a list of strings."
   ]
  },
  {
   "cell_type": "code",
   "execution_count": null,
   "id": "0a4c1b3c-d416-4834-b85d-6130fcc87812",
   "metadata": {},
   "outputs": [],
   "source": [
    "#create a list\n",
    "mylist = [9,9,3,2,2,2,1,3,4,6]\n",
    "print('Original list: ',mylist)\n",
    "\n",
    "#convert list of integers into strings\n",
    "str_list = [str(i) for i in mylist]\n",
    "print('The strings list: ',str_list)"
   ]
  },
  {
   "cell_type": "markdown",
   "id": "0d2d2ab9-efb7-4d7d-a76a-f0959fbf78cf",
   "metadata": {},
   "source": [
    "Problem 28: Flatten a nested list."
   ]
  },
  {
   "cell_type": "code",
   "execution_count": null,
   "id": "0ed208d5-ef19-42c6-91aa-94765236ec5e",
   "metadata": {},
   "outputs": [],
   "source": [
    "#create a list\n",
    "mylist = [[9,9,3],[2,2],[2],[1],[3,4,6],7]\n",
    "print('Original list: ',mylist)\n",
    "\n",
    "f_list=[]\n",
    "\n",
    "#flattened list\n",
    "for elements in mylist:\n",
    "    if type(elements) == list:\n",
    "        for x in elements:\n",
    "            f_list.append(x)\n",
    "    else:\n",
    "        f_list.append(elements)\n",
    "print('The falttened list is: ',f_list)"
   ]
  },
  {
   "cell_type": "markdown",
   "id": "06c4a606-01d9-4424-8a78-7eb890b3c1b0",
   "metadata": {},
   "source": [
    "Problem 29: Create a list of the first 10 Fibonacci numbers."
   ]
  },
  {
   "cell_type": "code",
   "execution_count": null,
   "id": "3e505a7a-702e-4134-9ad4-9f49e3652240",
   "metadata": {},
   "outputs": [],
   "source": [
    "#fibonacci series\n",
    "def fibo(n):\n",
    "    if n==0 or n==1:\n",
    "        return n\n",
    "    else:\n",
    "        return fibo(n-1) + fibo (n-2)\n",
    "\n",
    "#fibonacci list\n",
    "fibo_list=[]\n",
    "\n",
    "#populate list\n",
    "for i in range(0,10):\n",
    "        fibo_list.append(fibo(i))\n",
    "\n",
    "print('The fibonacci list is: ',fibo_list)"
   ]
  },
  {
   "cell_type": "markdown",
   "id": "569bea80-4296-4928-ab40-61b435f6dd2b",
   "metadata": {},
   "source": [
    "Problem 30: Check if a list is sorted."
   ]
  },
  {
   "cell_type": "code",
   "execution_count": null,
   "id": "7c2542fa-a0db-4d7f-a0f8-8c077004f45c",
   "metadata": {},
   "outputs": [],
   "source": [
    "def check_sorted(data):\n",
    "    #sort the data in ascending order\n",
    "    asc_sort = sorted(data)\n",
    "    #sort the data in descending order \n",
    "    dsc_sort = sorted(data,reverse=True)\n",
    "    #check the current list is sorted in ascending or descending order\n",
    "    if data==asc_sort or data==dsc_sort:\n",
    "        print('The list is sorted')\n",
    "    else:\n",
    "        print('The list is not sorted')\n",
    "\n",
    "#create a list\n",
    "list1 = [9,9,3,2,2,2,1,3,4,6]\n",
    "list2 = [1, 2, 2, 2, 3, 3, 4, 6, 9, 9]\n",
    "\n",
    "#check if list is sorted\n",
    "print('The list1 is: ',list1)\n",
    "check_sorted(list1)\n",
    "print('The list2 is: ',list2)\n",
    "check_sorted(list2)\n",
    "\n"
   ]
  },
  {
   "cell_type": "markdown",
   "id": "c3d66c9e-53e7-405e-8c6d-d26b46ec1eb1",
   "metadata": {},
   "source": [
    "Problem 31: Rotate a list to the left by `n` positions."
   ]
  },
  {
   "cell_type": "code",
   "execution_count": null,
   "id": "02722b32-74d5-4abe-bd26-8446e59d38ef",
   "metadata": {},
   "outputs": [],
   "source": [
    "#create a list\n",
    "mylist = [9,9,3,2,2,2,1,3,4,6]\n",
    "#mylist = [1, 2, 2, 2, 3, 3, 4, 6, 9, 9]\n",
    "print('Original list: ',mylist)\n",
    "\n",
    "#get the length of the list\n",
    "l = len(mylist)\n",
    "#enter the number of shifts\n",
    "n=int(input('Enter the number of shifts: '))\n",
    "#normalize the shifts \n",
    "n=n%l\n",
    "#result list\n",
    "#print(mylist[n:])\n",
    "#print(mylist[:n])\n",
    "ls_list = mylist[n:]+mylist[:n]\n",
    "print('The shifted list is: ',ls_list)\n",
    "    "
   ]
  },
  {
   "cell_type": "markdown",
   "id": "898bfd4b-7ef7-44d4-95c1-87f583e2136b",
   "metadata": {},
   "source": [
    "Problem 32: Rotate a list to the right by `n` positions."
   ]
  },
  {
   "cell_type": "code",
   "execution_count": null,
   "id": "e990341c-16fd-4977-92c7-f66f0b9c3e76",
   "metadata": {},
   "outputs": [],
   "source": [
    "#create a list\n",
    "mylist = [9,9,3,2,2,2,1,3,4,6]\n",
    "#mylist = [1, 2, 2, 2, 3, 3, 4, 6, 9, 9]\n",
    "print('Original list: ',mylist)\n",
    "\n",
    "#get the length of the list\n",
    "l = len(mylist)\n",
    "#enter the number of shifts\n",
    "n=int(input('Enter the number of shifts: '))\n",
    "#normalize the shifts \n",
    "n=n%l\n",
    "#result list\n",
    "#print(mylist[-n:])\n",
    "#print(mylist[:-n])\n",
    "rs_list = mylist[-n:] + mylist[:-n]\n",
    "print('The shifted list is: ',rs_list)"
   ]
  },
  {
   "cell_type": "markdown",
   "id": "1cebe415-b236-4e42-b17f-a8c72aab4479",
   "metadata": {},
   "source": [
    "Problem 33: Create a list of prime numbers up to 50"
   ]
  },
  {
   "cell_type": "code",
   "execution_count": null,
   "id": "aa162d7a-aa9a-428c-950f-5942958b0e0c",
   "metadata": {},
   "outputs": [],
   "source": [
    "import math\n",
    "\n",
    "#check for prime\n",
    "def check_prime(n):\n",
    "    flag=0\n",
    "    if n==2 or n==3:\n",
    "        return True\n",
    "    else:\n",
    "        s = int(math.sqrt(n)) + 1\n",
    "        for i in range (2,s):\n",
    "            if n%i==0:\n",
    "                flag=1\n",
    "                break\n",
    "        if flag==0:\n",
    "            return True\n",
    "        else:\n",
    "            return False\n",
    "                \n",
    "#check in the range\n",
    "prime_list = [x for x in range(2,50) if check_prime(x)]\n",
    "#Print the list\n",
    "print('The prime number list: ',prime_list)"
   ]
  },
  {
   "cell_type": "markdown",
   "id": "ff08f3d3-5091-48a9-976c-3e648a560540",
   "metadata": {},
   "source": [
    "Problem 34: Split a list into chunks of size `n`."
   ]
  },
  {
   "cell_type": "code",
   "execution_count": null,
   "id": "fc2b5513-1193-441a-8c22-d75bf5d4f055",
   "metadata": {},
   "outputs": [],
   "source": [
    "#create a list\n",
    "mylist = [9,9,3,2,2,2,1,3,4,6]\n",
    "print('Original list: ',mylist)\n",
    "\n",
    "#Enter the size of the chunks\n",
    "n = int(input('Enter the size of the chunks: '))\n",
    "\n",
    "l = len(mylist)\n",
    "i=0\n",
    "flist =[]\n",
    "while i<l:\n",
    "    flist.append(mylist[i:i+n])\n",
    "    i=i+n\n",
    "    \n",
    "print(flist)\n",
    "    "
   ]
  },
  {
   "cell_type": "markdown",
   "id": "cdca8266-3ae3-47fe-bd0f-5989a013e367",
   "metadata": {},
   "source": [
    "Problem 35: Find the second largest number in a list."
   ]
  },
  {
   "cell_type": "code",
   "execution_count": null,
   "id": "3153a078-baef-4119-915c-c6f31e8bf6fc",
   "metadata": {},
   "outputs": [],
   "source": [
    "#create a list\n",
    "mylist = [9,9,3,2,2,2,1,3,4,6]\n",
    "print('Original list: ',mylist)\n",
    "\n",
    "m1=max(mylist)\n",
    "tlist = [i for i in mylist if i!=m1]\n",
    "\n",
    "print(\"The second largest number is:\",max(tlist))"
   ]
  },
  {
   "cell_type": "markdown",
   "id": "28e6b1cb-90b5-483e-bd89-8be0015a53ed",
   "metadata": {},
   "source": [
    "Problem 36: Replace every element in a list with its square."
   ]
  },
  {
   "cell_type": "code",
   "execution_count": null,
   "id": "6d92e14a-16f8-43aa-bcef-24f4022c0dc0",
   "metadata": {},
   "outputs": [],
   "source": [
    "#create a list\n",
    "mylist = [9,9,3,2,2,2,1,3,4,6]\n",
    "print('Original list: ',mylist)\n",
    "slist = [i**2 for i in mylist]\n",
    "print('The squared list is: ',slist)"
   ]
  },
  {
   "cell_type": "markdown",
   "id": "fb5e37d6-23ed-41e2-8112-89fe6e72aa2c",
   "metadata": {},
   "source": [
    "Problem 37: Convert a list to a dictionary where list elements become keys and their indices become values."
   ]
  },
  {
   "cell_type": "code",
   "execution_count": null,
   "id": "3341e2be-f295-429f-a77c-729ed25c71ba",
   "metadata": {},
   "outputs": [],
   "source": [
    "#create a list\n",
    "mylist = ['Rohit','Virat','Rahul','Shami']\n",
    "print('Original list: ',mylist)\n",
    "\n",
    "#create a dict\n",
    "mydict = {key:value for value,key in enumerate(mylist,1)}\n",
    "print('The Dictionary is: ',mydict)\n"
   ]
  },
  {
   "cell_type": "markdown",
   "id": "a055358d-a9b4-49c3-b378-3c7250535b78",
   "metadata": {},
   "source": [
    "Problem 38: Shuffle the elements of a list randomly."
   ]
  },
  {
   "cell_type": "code",
   "execution_count": null,
   "id": "8139005a-3a1d-4b3c-a610-000a05c5ba8e",
   "metadata": {},
   "outputs": [],
   "source": [
    "import random\n",
    "#create a list\n",
    "mylist = [9,9,3,2,2,2,1,3,4,6]\n",
    "print('Original list: ',mylist)\n",
    "\n",
    "#randomize the list\n",
    "random.shuffle(mylist)\n",
    "print(\"The shuffled list is: \",mylist)"
   ]
  },
  {
   "cell_type": "markdown",
   "id": "4f6bd53a-e443-42ba-a526-e311e71e280e",
   "metadata": {},
   "source": [
    "Problem 39: Create a list of the first 10 factorial numbers."
   ]
  },
  {
   "cell_type": "code",
   "execution_count": null,
   "id": "9e2bb96e-a3c6-43f2-9287-5a2ed8479729",
   "metadata": {},
   "outputs": [],
   "source": [
    "#define factorial function\n",
    "def fact(n):\n",
    "    if n<=1:\n",
    "        return 1\n",
    "    else:\n",
    "        return n*fact(n-1)\n",
    "\n",
    "#generate the list\n",
    "mylist=[]\n",
    "for i in range(10):\n",
    "    mylist.append(fact(i))\n",
    "    \n",
    "print('The list of first 10 factorial numbers: ',mylist)"
   ]
  },
  {
   "cell_type": "markdown",
   "id": "5c50f5f6-e245-4e56-8a36-ba8ad34fed2b",
   "metadata": {},
   "source": [
    "Problem 40: Check if two lists have at least one element in common"
   ]
  },
  {
   "cell_type": "code",
   "execution_count": null,
   "id": "4d75227b-e85f-4715-9439-c54ffaf363c8",
   "metadata": {},
   "outputs": [],
   "source": [
    "list1 = [9,9,3,2,2,2,1,3,4,6]\n",
    "list2 = [8,6,1,7,6,8,1,7,7,1]\n",
    "print('List 1: ',list1)\n",
    "print('List 2: ',list2)\n",
    "\n",
    "#Extract the common elements in a list\n",
    "c_list = list(set(list1).intersection(list2))\n",
    "\n",
    "#check if there are any common elements\n",
    "if len(c_list)>0:\n",
    "    print('There are {0} common elements'.format(len(c_list)))\n",
    "else:\n",
    "    print('There are no common elements')\n",
    "        "
   ]
  },
  {
   "cell_type": "markdown",
   "id": "aa6dbbaf-d48d-49ff-be41-d5f55f0a4bbe",
   "metadata": {},
   "source": [
    "Problem 41: Remove all elements from a list."
   ]
  },
  {
   "cell_type": "code",
   "execution_count": null,
   "id": "e9938a1e-9cc5-4358-8d84-819f15d0cbc1",
   "metadata": {},
   "outputs": [],
   "source": [
    "#create a list\n",
    "mylist1 = [9,9,3,2,2,2,1,3,4,6]\n",
    "print('Original list1: ',mylist1)\n",
    "\n",
    "mylist2 = [8,6,1,7,6,8,1,7,7,1]\n",
    "print('Original list2: ',mylist2)\n",
    "\n",
    "#removing all the elements using clear func\n",
    "mylist1.clear()\n",
    "print('List1: ', mylist1)\n",
    "\n",
    "#removing all the elements using del func\n",
    "del(mylist2[::])\n",
    "print('List2: ',mylist2)"
   ]
  },
  {
   "cell_type": "markdown",
   "id": "715b9940-2fd2-479f-a82f-3e6e6d301d4e",
   "metadata": {},
   "source": [
    "Problem 42: Replace negative numbers in a list with 0."
   ]
  },
  {
   "cell_type": "code",
   "execution_count": null,
   "id": "f4641d99-8baa-483b-b182-7bb4fcf286d1",
   "metadata": {},
   "outputs": [],
   "source": [
    "#create a list\n",
    "mylist = [-9,9,3,-2,2,-2,1,3,-4,6]\n",
    "print('Original list: ',mylist)\n",
    "\n",
    "#convert the negative list elements to 0\n",
    "pos_list = list(map(lambda n: 0 if n<0 else n,mylist))\n",
    "print('The converted list is: ',pos_list)"
   ]
  },
  {
   "cell_type": "markdown",
   "id": "6abb5d06-f6a5-4ca7-9011-1d6c799e857b",
   "metadata": {},
   "source": [
    "Problem 43: Convert a string into a list of words."
   ]
  },
  {
   "cell_type": "code",
   "execution_count": null,
   "id": "a2887d0d-d67a-41c1-8d46-8f61966f2b72",
   "metadata": {},
   "outputs": [],
   "source": [
    "#take an input for a string of words\n",
    "inp = input(\"Enter a string of words: \")\n",
    "\n",
    "#convert the string into a list of words\n",
    "out_list = inp.split()\n",
    "print('The converted list is: ',out_list)"
   ]
  },
  {
   "cell_type": "markdown",
   "id": "4c3f15b7-0a17-4bbc-9433-b7d48450f7fa",
   "metadata": {},
   "source": [
    "Problem 44: Convert a list of words into a string."
   ]
  },
  {
   "cell_type": "code",
   "execution_count": null,
   "id": "c5aa7efe-ed93-48fd-9951-79134f642157",
   "metadata": {},
   "outputs": [],
   "source": [
    "#create a list of words\n",
    "mylist = ['the' ,'sun' ,'rises' ,'in' ,'the' ,'east']\n",
    "\n",
    "#convert the list of words into a string\n",
    "string = \" \".join(mylist)\n",
    "print('The converted string is: ',string) "
   ]
  },
  {
   "cell_type": "markdown",
   "id": "7bd443f4-e8f4-48ee-b55f-079aa5722bba",
   "metadata": {},
   "source": [
    "Problem 45: Create a list of the first `n` powers of 2."
   ]
  },
  {
   "cell_type": "code",
   "execution_count": null,
   "id": "9c25ed28-2691-4fd4-b646-0cac4a34fe06",
   "metadata": {},
   "outputs": [],
   "source": [
    "#enter the n poower of 2\n",
    "n = int(input('Enter the power of 2: '))\n",
    "\n",
    "mylist = [2**x for x in range (n)]\n",
    "print(\"The list of first n powers of 2: \",mylist)"
   ]
  },
  {
   "cell_type": "markdown",
   "id": "3478ff4e-99b6-4414-9944-3aa092874d67",
   "metadata": {},
   "source": [
    "Problem 46: Find the longest string in a list of strings."
   ]
  },
  {
   "cell_type": "code",
   "execution_count": null,
   "id": "517fe3b2-aa2a-4ac6-a0af-fe28b68f2b19",
   "metadata": {},
   "outputs": [],
   "source": [
    "#create a list\n",
    "mylist = ['Today', 'is', 'a', 'bright', 'sunny', 'day']\n",
    "#create a list with the length of the strings \n",
    "len_list = [len(i) for i in mylist]\n",
    "#find the position of the max length\n",
    "max_pos = len_list.index(max(len_list))\n",
    "#print the string at the pos with max length\n",
    "print('The longest string in the list is: ',mylist[max_pos])"
   ]
  },
  {
   "cell_type": "markdown",
   "id": "89a5e6de-00f8-46c2-95af-eb4a8c2b510e",
   "metadata": {},
   "source": [
    "Problem 47: Find the shortest string in a list of strings."
   ]
  },
  {
   "cell_type": "code",
   "execution_count": null,
   "id": "970ddc0c-d60d-44f8-a41d-fa10cae5a831",
   "metadata": {},
   "outputs": [],
   "source": [
    "#create a list\n",
    "mylist = ['Today', 'is', 'a', 'bright', 'sunny', 'day']\n",
    "#create a list with the length of the strings\n",
    "len_list = [len(i) for i in mylist]\n",
    "#find the position of the min length\n",
    "min_pos = len_list.index(min(len_list))\n",
    "#print the string at the minimum length position\n",
    "print('The longest string in the list is: ',mylist[min_pos])"
   ]
  },
  {
   "cell_type": "markdown",
   "id": "f1a3f324-033a-4693-b480-80f4f5da9d4a",
   "metadata": {},
   "source": [
    "Problem 48: Create a list of the first `n` triangular numbers."
   ]
  },
  {
   "cell_type": "code",
   "execution_count": null,
   "id": "6d3e676f-cbf0-436d-a496-d1fd862ecbce",
   "metadata": {},
   "outputs": [],
   "source": [
    "#take the input of n\n",
    "n = int(input('Enter the value of n: '))\n",
    "\n",
    "#create a temp list of number upto n\n",
    "temp_list = [i for i in range(1,n+1)]\n",
    "\n",
    "#logic to generate the n triangular numbers\n",
    "mylist = [sum(temp_list[:i+1]) for i in range (n)]\n",
    "\n",
    "print('The list of the first {0} Triangular numbers is: {1}'.format(n,mylist)) "
   ]
  },
  {
   "cell_type": "markdown",
   "id": "dc92ad7f-450a-4cef-87ab-1270ee29ebba",
   "metadata": {},
   "source": [
    "Problem 49: Check if a list contains another list as a subsequence."
   ]
  },
  {
   "cell_type": "code",
   "execution_count": null,
   "id": "39f12e89-9d64-4c77-881a-e6152b900178",
   "metadata": {},
   "outputs": [],
   "source": [
    "#crete list\n",
    "mylist = ['Apple',5,6,7,['Hello','World'],'Banana',10]\n",
    "print('The original list is: ',mylist)\n",
    "\n",
    "#create a temp list with the type of each of element in the list\n",
    "type_list = [type(i) for i in mylist]\n",
    "\n",
    "#check if any of the elements is a list\n",
    "if list in type_list:\n",
    "    print('List is present')\n",
    "else:\n",
    "    print('List is not present')\n"
   ]
  },
  {
   "cell_type": "markdown",
   "id": "7fcb02c3-ff92-449d-a351-74c84f330a4d",
   "metadata": {},
   "source": [
    "Problem 50: Swap two elements in a list by their indices"
   ]
  },
  {
   "cell_type": "code",
   "execution_count": null,
   "id": "b8408639-bb6c-40a8-bea3-f86e7a95fd52",
   "metadata": {},
   "outputs": [],
   "source": [
    "#create a list\n",
    "mylist = [9,9,3,2,2,2,1,3,4,6]\n",
    "print('Original list1: ',mylist)\n",
    "\n",
    "#Enter the positions you want to swap\n",
    "pos1 = int(input('Enter the 1st position to swap:'))\n",
    "pos2 = int(input('Enter the 2nd position to swap:'))\n",
    "\n",
    "#logic to swap the list\n",
    "mylist[pos1],mylist[pos2] = mylist[pos2],mylist[pos1]\n",
    "print('The swapped list is: ',mylist)"
   ]
  },
  {
   "cell_type": "markdown",
   "id": "718f64d3-b0c2-427f-87a7-3e48e9d06e79",
   "metadata": {},
   "source": [
    "Tuple"
   ]
  },
  {
   "cell_type": "markdown",
   "id": "f0310f0e-324f-4e23-941a-5fc1987f336c",
   "metadata": {},
   "source": [
    "Problem 1: Create a tuple with integers from 1 to 5."
   ]
  },
  {
   "cell_type": "code",
   "execution_count": null,
   "id": "ad3cdd79-1946-4554-b187-76bf51b35c06",
   "metadata": {},
   "outputs": [],
   "source": [
    "#generate a list of numbers and type cast into tuples\n",
    "mytuple = tuple(i for i in range (1,6))\n",
    "print('The tuple from 1 to 5 is: ',mytuple)"
   ]
  },
  {
   "cell_type": "markdown",
   "id": "fe730aeb-e2c9-409c-8b38-21d5bb5d7ae8",
   "metadata": {},
   "source": [
    "Problem 2: Access the third element of a tuple."
   ]
  },
  {
   "cell_type": "code",
   "execution_count": null,
   "id": "fee3a76b-37a2-444b-8afe-c69d2166feb4",
   "metadata": {},
   "outputs": [],
   "source": [
    "#create a tuple\n",
    "mytuple = (3,4,8,9,0,2,7)\n",
    "print('The original tuple is: ',mytuple)\n",
    "#accessing the 3rd element of a tuple\n",
    "print('The third elemnt of the tuple is: ',mytuple[2])"
   ]
  },
  {
   "cell_type": "markdown",
   "id": "7a216e5a-c29a-4658-bb34-8a4851e29032",
   "metadata": {},
   "source": [
    "Problem 3: Find the length of a tuple without using the `len()` function."
   ]
  },
  {
   "cell_type": "code",
   "execution_count": null,
   "id": "304039f3-1ee3-4424-b285-4f6f0f948b13",
   "metadata": {},
   "outputs": [],
   "source": [
    "#create a tuple\n",
    "mytuple = (3,4,8,9,0,2,7)\n",
    "print('The original tuple is: ',mytuple)\n",
    "#variable to calulate the length\n",
    "len=0\n",
    "for i in mytuple:\n",
    "    len = len+1\n",
    "#print the length of the tuple\n",
    "print('The length of the tuple is: ',len)"
   ]
  },
  {
   "cell_type": "markdown",
   "id": "cb9f6ac7-946b-4085-b3dd-ce34af1d0fa8",
   "metadata": {},
   "source": [
    "Problem 4: Count the occurrences of an element in a tuple."
   ]
  },
  {
   "cell_type": "code",
   "execution_count": null,
   "id": "a78fc899-e8f3-438d-bb4b-0b39e9605a1e",
   "metadata": {},
   "outputs": [],
   "source": [
    "#create a tuple\n",
    "mytuple = (3,4,8,9,0,2,7,2,2,3)\n",
    "print('The original tuple is: ',mytuple)\n",
    "#take user input\n",
    "n = int(input('Enter the number to find the frequency: '))\n",
    "#find and print the number of occurance of the input number\n",
    "print('The number {0} occurs {1} times in the tuple.'.format(n,mytuple.count(n)))"
   ]
  },
  {
   "cell_type": "markdown",
   "id": "0c1d301c-9ca3-443b-94ab-70ff46e80a51",
   "metadata": {},
   "source": [
    "Problem 5: Find the index of the first occurrence of an element in a tuple."
   ]
  },
  {
   "cell_type": "code",
   "execution_count": null,
   "id": "93c2d3ef-6087-4a79-b2ed-fabb4cf0f968",
   "metadata": {},
   "outputs": [],
   "source": [
    "#create a tuple\n",
    "mytuple = (3,4,8,9,0,2,7,2,2,3)\n",
    "print('The original tuple is: ',mytuple)\n",
    "#take user input\n",
    "n = int(input('Enter the number to find the index: '))\n",
    "#position of the first index of the number is:\n",
    "print('The number {0} has the first occurance in the {1} position.'.format(n,mytuple.index(n)))"
   ]
  },
  {
   "cell_type": "markdown",
   "id": "71cfa9e4-6de0-4438-b080-9e80c1bfd9cf",
   "metadata": {},
   "source": [
    "Problem 6: Check if an element exists in a tuple."
   ]
  },
  {
   "cell_type": "code",
   "execution_count": null,
   "id": "84c5db96-3d02-4202-87ea-878a3ad477d2",
   "metadata": {},
   "outputs": [],
   "source": [
    "#create a tuple\n",
    "mytuple = (3,4,8,9,0,2,7,2,2,3)\n",
    "print('The original tuple is: ',mytuple)\n",
    "#take user input\n",
    "n = int(input('Enter the number to find: '))\n",
    "#logic to find\n",
    "if n in mytuple:\n",
    "    print('Element Found!')\n",
    "else:\n",
    "    print('Element not found!')"
   ]
  },
  {
   "cell_type": "markdown",
   "id": "91985d11-9f6d-4abd-a2d0-b2aee46d8d33",
   "metadata": {},
   "source": [
    "Problem 7:Convert a tuple to a list."
   ]
  },
  {
   "cell_type": "code",
   "execution_count": null,
   "id": "debd0dab-59f2-44db-8aa2-af6e6e9bdda9",
   "metadata": {},
   "outputs": [],
   "source": [
    "#create a tuple\n",
    "mytuple = (3,4,8,9,0,2,7,2,2,3)\n",
    "print('The original tuple is: ',mytuple)\n",
    "#converting and printing the list\n",
    "print('The converted list is: ',list(mytuple))"
   ]
  },
  {
   "cell_type": "markdown",
   "id": "6e8c67b0-350f-453b-9a92-a38363f52856",
   "metadata": {},
   "source": [
    "Problem 8: Convert a list to a tuple."
   ]
  },
  {
   "cell_type": "code",
   "execution_count": null,
   "id": "244e5f0c-9144-41dd-9279-d661df7b0a4a",
   "metadata": {},
   "outputs": [],
   "source": [
    "#create a list\n",
    "mylist = [9,9,3,2,2,2,1,3,4,6]\n",
    "print('Original list: ',mylist)\n",
    "#converting and printing the tuple\n",
    "print('The converted tuple is: ',tuple(mylist))"
   ]
  },
  {
   "cell_type": "markdown",
   "id": "f6635f4f-b262-46f7-b88d-9334d0d0ede3",
   "metadata": {},
   "source": [
    "Problem 9: Unpack the elements of a tuple into variables."
   ]
  },
  {
   "cell_type": "code",
   "execution_count": null,
   "id": "2c82819a-2d63-487b-bff3-0f370cbe292a",
   "metadata": {},
   "outputs": [],
   "source": [
    "#create a tuple\n",
    "mytuple = (3,4,8)\n",
    "print('The original tuple is: ',mytuple)\n",
    "#unpacking the elements in variables\n",
    "x,y,z=mytuple\n",
    "print('The elements of the tuple are: ',x,y,z)"
   ]
  },
  {
   "cell_type": "markdown",
   "id": "0cbc996a-453e-41be-8429-e88a19b4c84e",
   "metadata": {},
   "source": [
    "Problem 10: Create a tuple of even numbers from 1 to 10."
   ]
  },
  {
   "cell_type": "code",
   "execution_count": null,
   "id": "87029ad3-5444-41ee-a637-57a0fec178fe",
   "metadata": {},
   "outputs": [],
   "source": [
    "#create the tuple with even numbers\n",
    "even_tuple = tuple(x for x in range(1,11) if x%2==0)\n",
    "print('The tuple of even numbers from 1 to 10 is: ',even_tuple)"
   ]
  },
  {
   "cell_type": "markdown",
   "id": "19d88cf9-9f9a-4503-8fd5-879391a0c708",
   "metadata": {},
   "source": [
    "Problem 11: Create a tuple of odd numbers from 1 to 10."
   ]
  },
  {
   "cell_type": "code",
   "execution_count": null,
   "id": "b8a336b0-4413-44ec-88ab-918fdcebce29",
   "metadata": {},
   "outputs": [],
   "source": [
    "#create the tuple with odd numbers\n",
    "odd_tuple = tuple(x for x in range(1,11) if x%2!=0)\n",
    "print('The tuple of odd numbers from 1 to 10 is: ',odd_tuple)"
   ]
  },
  {
   "cell_type": "markdown",
   "id": "7deea479-e7d7-4864-9c03-2452efce8485",
   "metadata": {},
   "source": [
    "Problem 12: Concatenate two tuples."
   ]
  },
  {
   "cell_type": "code",
   "execution_count": null,
   "id": "fb338cf5-9931-4af7-bdc9-2effdba62c10",
   "metadata": {},
   "outputs": [],
   "source": [
    "#create first tuple\n",
    "tuple1 = (1,2,3)\n",
    "print('The first tuple is: ',tuple1)\n",
    "#create second tuple\n",
    "tuple2 = (4,5,6)\n",
    "print('The second tuple is: ',tuple2)\n",
    "#concatenate tuple\n",
    "con_tuple = tuple1 + tuple2\n",
    "print('The concatenated tuple is: ',con_tuple)"
   ]
  },
  {
   "cell_type": "markdown",
   "id": "c0ee993e-61b1-4c1f-87d9-657b7d792264",
   "metadata": {},
   "source": [
    "Problem 13: Repeat a tuple three times."
   ]
  },
  {
   "cell_type": "code",
   "execution_count": null,
   "id": "17ac9840-e82a-4ace-9e42-56be84c59f9d",
   "metadata": {},
   "outputs": [],
   "source": [
    "#create a tuple\n",
    "mytuple = (3,4,8,9)\n",
    "print('The original tuple is: ',mytuple)\n",
    "#Repeating the tuple 3 times\n",
    "print('Repeating the tuple 3 times: ',mytuple * 3)\n"
   ]
  },
  {
   "cell_type": "raw",
   "id": "9acb5bf9-baae-4169-830b-3934e74f394e",
   "metadata": {},
   "source": [
    "Problem 14: Check if a tuple is empty."
   ]
  },
  {
   "cell_type": "code",
   "execution_count": null,
   "id": "110d0fe0-cd78-4d54-9ca5-f50228d78826",
   "metadata": {},
   "outputs": [],
   "source": [
    "#create a tuple\n",
    "mytuple = (3,4,8,9)\n",
    "print('The original tuple is: ',mytuple)\n",
    "#logic to check if a tuple is empty\n",
    "if len(mytuple) == 0:\n",
    "    print('Tuple Empty!')\n",
    "else:\n",
    "    print('Tuple not empty!')"
   ]
  },
  {
   "cell_type": "markdown",
   "id": "45e8fddd-6619-43d0-bb34-90952318bd68",
   "metadata": {},
   "source": [
    "Problem 15: Create a nested tuple."
   ]
  },
  {
   "cell_type": "code",
   "execution_count": null,
   "id": "7e022119-f1d8-4355-8f12-1ab878e11537",
   "metadata": {},
   "outputs": [],
   "source": [
    "#Nested Tuple\n",
    "nested_tuple = (1,2,3,('x','y','z'))\n",
    "print('Example of a nested tuple:',nested_tuple)"
   ]
  },
  {
   "cell_type": "markdown",
   "id": "900fae8c-4c8c-4c7b-87c1-4535247406a5",
   "metadata": {},
   "source": [
    "Problem 16: Access the first element of a nested tuple."
   ]
  },
  {
   "cell_type": "code",
   "execution_count": null,
   "id": "1fced714-414b-42ce-a226-80ae2ba14266",
   "metadata": {},
   "outputs": [],
   "source": [
    "#Nested Tuple\n",
    "nested_tuple = ((1,2,3),('x','y','z'))\n",
    "print('Example of a nested tuple:',nested_tuple)\n",
    "#first element\n",
    "print('The first element of the nested tuple is: ',nested_tuple[0][0])"
   ]
  },
  {
   "cell_type": "markdown",
   "id": "00f0a50d-5993-48bd-9dbc-c9fe865b1995",
   "metadata": {},
   "source": [
    "Problem 17: Create a tuple with a single element."
   ]
  },
  {
   "cell_type": "code",
   "execution_count": null,
   "id": "021fdd16-ccb1-4c6f-9804-f34d69b1df7c",
   "metadata": {},
   "outputs": [],
   "source": [
    "#single element tuple\n",
    "single_tuple = (2)\n",
    "print('Example of a single element tuple is: ',single_tuple)"
   ]
  },
  {
   "cell_type": "markdown",
   "id": "7cb690e3-d004-4876-8177-25e3d3839c3a",
   "metadata": {},
   "source": [
    "Problem 18: Compare two tuples."
   ]
  },
  {
   "cell_type": "code",
   "execution_count": null,
   "id": "f26dfd18-f60e-434f-9c62-dd689fe02ac6",
   "metadata": {},
   "outputs": [],
   "source": [
    "#create first tuple\n",
    "tuple1 = (1,2,3)\n",
    "print('The first tuple is: ',tuple1)\n",
    "#create second tuple\n",
    "tuple2 = (4,5,6)\n",
    "print('The second tuple is: ',tuple2)\n",
    "\n",
    "#Comparison Logic\n",
    "# Equality check\n",
    "print(\"tuple1 == tuple2:\", tuple1 == tuple2)  \n",
    "# Inequality check\n",
    "print(\"tuple1 != tuple2:\", tuple1 != tuple2)  \n",
    "# Less than check\n",
    "print(\"tuple1 < tuple2:\", tuple1 < tuple2)    \n",
    "# Less than or equal to check\n",
    "print(\"tuple1 <= tuple2:\", tuple1 <= tuple2)  \n",
    "# Greater than check\n",
    "print(\"tuple1 > tuple2:\", tuple1 > tuple2)   \n",
    "# Greater than or equal to check\n",
    "print(\"tuple1 >= tuple2:\", tuple1 >= tuple2)  "
   ]
  },
  {
   "cell_type": "markdown",
   "id": "c5c76458-2c52-4383-95b0-47262cf9de80",
   "metadata": {},
   "source": [
    "Problem 19: Delete a tuple."
   ]
  },
  {
   "cell_type": "code",
   "execution_count": null,
   "id": "7f7baf70-1705-448a-8a47-181f5d9d3f39",
   "metadata": {},
   "outputs": [],
   "source": [
    "#create a tuple\n",
    "mytuple = (3,4,8,9)\n",
    "print('The original tuple is: ',mytuple)\n",
    "#delete a tuple\n",
    "del(mytuple)\n",
    "print(mytuple)"
   ]
  },
  {
   "cell_type": "markdown",
   "id": "967407f6-c83a-4085-ab71-e41524571477",
   "metadata": {},
   "source": [
    "Problem 20: Slice a tuple."
   ]
  },
  {
   "cell_type": "code",
   "execution_count": null,
   "id": "27578952-234b-4b56-9e45-07afc6f47092",
   "metadata": {},
   "outputs": [],
   "source": [
    "#create a tuple\n",
    "mytuple = (3,4,8,9)\n",
    "print('The original tuple is: ',mytuple)\n",
    "#slice a tuple\n",
    "print('Sliced Tuple: ',mytuple[1:4])"
   ]
  },
  {
   "cell_type": "markdown",
   "id": "1ac76834-6046-4e28-809d-d8e660fbc581",
   "metadata": {},
   "source": [
    "Problem 21:Find the maximum value in a tuple."
   ]
  },
  {
   "cell_type": "code",
   "execution_count": null,
   "id": "2f26f0af-b09d-44cf-a8b0-f140a28b20db",
   "metadata": {},
   "outputs": [],
   "source": [
    "#create a tuple\n",
    "mytuple = (3,4,8,9)\n",
    "print('The original tuple is: ',mytuple)\n",
    "#Max value in a tuple \n",
    "print('The maximum value in the tuple is: ',max(mytuple))"
   ]
  },
  {
   "cell_type": "markdown",
   "id": "ef4c4b4e-820e-48c3-94bd-cec26474446e",
   "metadata": {},
   "source": [
    "Problem 22: Find the minimum value in a tuple."
   ]
  },
  {
   "cell_type": "code",
   "execution_count": null,
   "id": "72995330-4af8-4050-ac77-687169394bee",
   "metadata": {},
   "outputs": [],
   "source": [
    "#create a tuple\n",
    "mytuple = (3,4,8,9)\n",
    "print('The original tuple is: ',mytuple)\n",
    "#Min value in a tuple \n",
    "print('The minimum value in the tuple is: ',min(mytuple))"
   ]
  },
  {
   "cell_type": "markdown",
   "id": "749c3a23-0c54-4c6a-a717-29961927b581",
   "metadata": {},
   "source": [
    "Problem 23: Convert a string to a tuple of characters."
   ]
  },
  {
   "cell_type": "code",
   "execution_count": null,
   "id": "77e19d8b-ac89-4391-a540-8c8e12d9973a",
   "metadata": {},
   "outputs": [],
   "source": [
    "#create a string\n",
    "mystring = \"Hello World\"\n",
    "print('Original string is: ',mystring)\n",
    "#convert the string into tuple of chars\n",
    "print('Tuple of chars: ',tuple(mystring))"
   ]
  },
  {
   "cell_type": "markdown",
   "id": "9b216823-1a78-44be-b7c8-5626bbfd5322",
   "metadata": {},
   "source": [
    "Problem 24: Convert a tuple of characters to a string."
   ]
  },
  {
   "cell_type": "code",
   "execution_count": null,
   "id": "e207c4c4-3031-437b-a771-b33201653021",
   "metadata": {},
   "outputs": [],
   "source": [
    "#create a tuple of chars\n",
    "mytuple = ('S','u','s','o')\n",
    "print('Original tuple is: ',mytuple)\n",
    "#converting tuple to string\n",
    "print('The string is: ',\"\".join(mytuple))"
   ]
  },
  {
   "cell_type": "markdown",
   "id": "f350d843-9b9d-46f4-9214-2e300c144283",
   "metadata": {},
   "source": [
    "Problem 25: Create a tuple from multiple data types."
   ]
  },
  {
   "cell_type": "code",
   "execution_count": null,
   "id": "1423baec-fb15-4ac4-aa79-61def38e4cb3",
   "metadata": {},
   "outputs": [],
   "source": [
    "#create a tuple of multiple data type\n",
    "mytuple = (3,'a',8.0,True)\n",
    "print('The multi data type tuple is: ',mytuple)"
   ]
  },
  {
   "cell_type": "markdown",
   "id": "9563ad33-06ff-4a80-a3ec-60d83636b6bc",
   "metadata": {},
   "source": [
    "Problem 26: Check if two tuples are identical."
   ]
  },
  {
   "cell_type": "code",
   "execution_count": null,
   "id": "eb85698a-ee52-46ba-a50e-16507910e513",
   "metadata": {},
   "outputs": [],
   "source": [
    "tup1 = (1,2,3)\n",
    "print('First Tuple: ',tup1)\n",
    "tup2 = (4,5,6)\n",
    "print('Second Tuple: ',tup2)\n",
    "tup3 = (1,2,3)\n",
    "print('Third Tuple: ',tup3)\n",
    "\n",
    "print('Tuple 1 and Tuple 2 are identical: ', tup1 == tup2)\n",
    "print('Tuple 1 and Tuple 3 are identical: ', tup1 == tup3)\n",
    "print('Tuple 2 and Tuple 3 are identical: ', tup2 == tup3)"
   ]
  },
  {
   "cell_type": "markdown",
   "id": "0be72a7b-3410-4dd2-9b25-f4314e7554c3",
   "metadata": {},
   "source": [
    "Problem 27: Sort the elements of a tuple."
   ]
  },
  {
   "cell_type": "code",
   "execution_count": null,
   "id": "f31a851c-bfde-4d0b-951b-6cb4e83b02f3",
   "metadata": {},
   "outputs": [],
   "source": [
    "#create a tuple\n",
    "mytuple = (3,8,4,9,5,6)\n",
    "print('The original tuple is: ',mytuple)\n",
    "#Sort the tuple\n",
    "res_tuple = sorted(mytuple)\n",
    "print(res_tuple)"
   ]
  },
  {
   "cell_type": "markdown",
   "id": "55e2240d-8d31-40c7-b3bf-c75f531e25a9",
   "metadata": {},
   "source": [
    "Problem 28: Convert a tuple of integers to a tuple of strings."
   ]
  },
  {
   "cell_type": "code",
   "execution_count": null,
   "id": "2b5f2450-f77b-4b71-8b59-d365ce07a106",
   "metadata": {},
   "outputs": [],
   "source": [
    "#integer tuple\n",
    "int_tuple = (3,8,4,9,5,6)\n",
    "print('The tuple of integers is: ',int_tuple)\n",
    "#convert the integers to strings\n",
    "str_tuple = tuple(str(x) for x in int_tuple)\n",
    "print('The tuple of strings: ',str_tuple)"
   ]
  },
  {
   "cell_type": "markdown",
   "id": "4451c1d5-050f-48bd-86af-cfe148abc0ec",
   "metadata": {},
   "source": [
    "Problem 29: Convert a tuple of strings to a tuple of integers."
   ]
  },
  {
   "cell_type": "code",
   "execution_count": null,
   "id": "d3c09fec-4c26-42d9-b681-923c693210e1",
   "metadata": {},
   "outputs": [],
   "source": [
    "#string tuple\n",
    "str_tuple = ('9','9','1','3')\n",
    "print('The string tuple is: ',str_tuple)\n",
    "#convert the strings to integers\n",
    "int_tuple =  tuple(int(x) for x in str_tuple)\n",
    "print('The tuple of integers is: ',int_tuple)"
   ]
  },
  {
   "cell_type": "markdown",
   "id": "8be6e5de-2478-4a0d-af29-dea55357715a",
   "metadata": {},
   "source": [
    "Problem 30: Merge two tuples."
   ]
  },
  {
   "cell_type": "code",
   "execution_count": null,
   "id": "6899086a-31dd-4f81-a040-5ffeb97b1fe3",
   "metadata": {},
   "outputs": [],
   "source": [
    "tup1 = (1,2,3)\n",
    "print('First Tuple: ',tup1)\n",
    "tup2 = (4,5,6)\n",
    "print('Second Tuple: ',tup2)\n",
    "\n",
    "#merge tuple\n",
    "merged_tuple = tup1 + tup2\n",
    "print('The merged tuple is: ',merged_tuple)"
   ]
  },
  {
   "cell_type": "markdown",
   "id": "59d1af74-0b75-4e77-9888-3f40e9ad4852",
   "metadata": {},
   "source": [
    "Problem 31: Flatten a nested tuple."
   ]
  },
  {
   "cell_type": "code",
   "execution_count": null,
   "id": "f04d34ad-aca2-4e34-9b34-035db3886ba4",
   "metadata": {},
   "outputs": [],
   "source": [
    "#create a tuple\n",
    "mytuple = (3,8,(4,9),5,6,(True,False))\n",
    "print('The original tuple is: ',mytuple)\n",
    "\n",
    "#Logic to flatten the tulple\n",
    "temp_list = [] #create a temporary list\n",
    "for element in mytuple:\n",
    "    if type(element) == tuple:\n",
    "        for i in element:\n",
    "            temp_list.append(i)\n",
    "    else:\n",
    "        temp_list.append(element)\n",
    "\n",
    "#print the flattened tuple\n",
    "print('The flattened tuple is: ',tuple(temp_list))"
   ]
  },
  {
   "cell_type": "markdown",
   "id": "9f54932f-943f-454d-8b9f-972482a07c34",
   "metadata": {},
   "source": [
    "Problem 32: Create a tuple of the first 5 prime numbers."
   ]
  },
  {
   "cell_type": "code",
   "execution_count": null,
   "id": "a4827fff-ecd7-4061-af61-3e87a5fb5e61",
   "metadata": {},
   "outputs": [],
   "source": [
    "import math\n",
    "#check for prime\n",
    "def check_prime(n):\n",
    "    flag=0\n",
    "    if n==2 or n==3:\n",
    "        return True\n",
    "    else:\n",
    "        s = int(math.sqrt(n)) + 1\n",
    "        for i in range (2,s):\n",
    "            if n%i==0:\n",
    "                flag=1\n",
    "                break\n",
    "        if flag==0:\n",
    "            return True\n",
    "        else:\n",
    "            return False\n",
    "\n",
    "#create a temp list\n",
    "temp_list = []\n",
    "num=2\n",
    "#check till the length of the list is 5\n",
    "while len(temp_list) <5:\n",
    "    if check_prime(num):\n",
    "        temp_list.append(num)\n",
    "    num = num+1\n",
    "\n",
    "#print the tuple of first \n",
    "print('The tuple of first 5 prime numbers: ',tuple(temp_list))"
   ]
  },
  {
   "cell_type": "markdown",
   "id": "4d29aae1-bfc0-4bef-8b9a-1dfd2a1b5485",
   "metadata": {},
   "source": [
    "Problem 33: Check if a tuple is a palindrome."
   ]
  },
  {
   "cell_type": "code",
   "execution_count": null,
   "id": "61ae0551-42b9-4638-a8e8-2f2a481deb5d",
   "metadata": {},
   "outputs": [],
   "source": [
    "#check for Palindrome\n",
    "def check_palindrome(tuplex):\n",
    "    temp = tuplex[::-1]\n",
    "    if temp == tuplex:\n",
    "        print('The Tuple {0} is Palindrome'.format(tuplex))\n",
    "    else:\n",
    "        print('The Tuple {0} is not Palindrome'.format(tuplex))\n",
    "\n",
    "#Tuple1\n",
    "tuple1 = (3,8,4,9,5,6)\n",
    "print('The first tuple is: ',tuple1)\n",
    "check_palindrome(tuple1)\n",
    "#Tuple2\n",
    "tuple2 = (1,2,3,2,1)\n",
    "print('The second tuple is: ',tuple2)\n",
    "check_palindrome(tuple2)\n"
   ]
  },
  {
   "cell_type": "markdown",
   "id": "8561c6b9-150c-4715-b19c-1e24c234b5b0",
   "metadata": {},
   "source": [
    "Problem 34: Create a tuple of squares of numbers from 1 to 5."
   ]
  },
  {
   "cell_type": "code",
   "execution_count": null,
   "id": "133b5ceb-65da-49bb-aad4-0f0f77b8cc8b",
   "metadata": {},
   "outputs": [],
   "source": [
    "#create the tuple of squares\n",
    "mytuple = tuple(x**2 for x in range(1,6))\n",
    "print(mytuple)"
   ]
  },
  {
   "cell_type": "markdown",
   "id": "ebf4667f-d385-43cd-b6ba-68ae4043553b",
   "metadata": {},
   "source": [
    "Problem 35: Filter out all even numbers from a tuple."
   ]
  },
  {
   "cell_type": "code",
   "execution_count": null,
   "id": "883b1e94-36b5-4a1c-9293-77f19ccd5830",
   "metadata": {},
   "outputs": [],
   "source": [
    "#create a tuple with number from 1 to 10\n",
    "mytuple = tuple(x for x in range(1,11))\n",
    "print('The original tuple is: ',mytuple)\n",
    "\n",
    "#even tuples\n",
    "even_tuples = tuple(filter(lambda x:x%2==0,mytuple))\n",
    "print('The even numbers in tuple: ',even_tuples)"
   ]
  },
  {
   "cell_type": "code",
   "execution_count": null,
   "id": "ad4b0a3d-fce3-4016-a9e0-ace1a7f2b597",
   "metadata": {},
   "outputs": [],
   "source": [
    "#create a tuple with number from 1 to 10\n",
    "mytuple = tuple(x for x in range(1,11))\n",
    "print('The original tuple is: ',mytuple)\n",
    "\n",
    "#odd tuples\n",
    "odd_tuples = tuple(filter(lambda x:x%2!=0,mytuple))\n",
    "print('The odd numbers in tuple: ',odd_tuples)"
   ]
  },
  {
   "cell_type": "markdown",
   "id": "17329b74-b252-49dc-b100-2c2d4cd1c49c",
   "metadata": {},
   "source": [
    "Problem 36: Multiply all elements in a tuple by 2."
   ]
  },
  {
   "cell_type": "code",
   "execution_count": null,
   "id": "1ffe1934-0a9a-42da-8dff-3d949b63aeed",
   "metadata": {},
   "outputs": [],
   "source": [
    "#create a tuple with number from 1 to 10\n",
    "mytuple = tuple(x for x in range(1,11))\n",
    "print('The original tuple is: ',mytuple)\n",
    "\n",
    "#Multiply by all elemets by 2\n",
    "res_tuple = tuple(x*2 for x in mytuple)\n",
    "\n",
    "print('The result tuple: ',res_tuple)"
   ]
  },
  {
   "cell_type": "markdown",
   "id": "cff8d743-e3b5-44d6-bd15-4861e6311462",
   "metadata": {},
   "source": [
    "Problem 37: Create a tuple of random numbers. "
   ]
  },
  {
   "cell_type": "code",
   "execution_count": null,
   "id": "a9d8d990-2ca2-46a5-bb6f-916b84098b0f",
   "metadata": {},
   "outputs": [],
   "source": [
    "import random \n",
    "random_tuple = tuple(random.randrange(10,100) for i in range(10))\n",
    "print(random_tuple)"
   ]
  },
  {
   "cell_type": "markdown",
   "id": "3b9ca495-db22-49cd-a92a-5d7b4c882b08",
   "metadata": {},
   "source": [
    "Problem 38: Check if a tuple is sorted."
   ]
  },
  {
   "cell_type": "code",
   "execution_count": null,
   "id": "87c7f895-c15c-4171-b84a-537fd1cd12f8",
   "metadata": {},
   "outputs": [],
   "source": [
    "def check_sorted(data):\n",
    "    #sort the data in ascending order\n",
    "    asc_sort = sorted(data)\n",
    "    #sort the data in descending order \n",
    "    dsc_sort = sorted(data,reverse=True)\n",
    "    #check the current tuple is sorted in ascending or descending order\n",
    "    if data==asc_sort or data==dsc_sort:\n",
    "        print('The tuple is sorted')\n",
    "    else:\n",
    "        print('The tuple is not sorted')\n",
    "\n",
    "#create tuples \n",
    "tup1 = (4,3,2,1)\n",
    "tup2 = (1,4,2,3)\n",
    "\n",
    "#check if tuples are sorted \n",
    "print('The tuple 1 is: ',tup1)\n",
    "check_sorted(tup1)\n",
    "print('The tuple 2 is: ',tup2)\n",
    "check_sorted(tup2)\n"
   ]
  },
  {
   "cell_type": "markdown",
   "id": "307e3fd3-3114-476e-b105-a10a3bc7f1e9",
   "metadata": {},
   "source": [
    "Problem 39: Rotate a tuple to the left by `n` positions."
   ]
  },
  {
   "cell_type": "code",
   "execution_count": null,
   "id": "befc62f6-cc5d-4b7d-815d-e409f2006308",
   "metadata": {},
   "outputs": [],
   "source": [
    "#create a tuple\n",
    "mytuple = (1,2,3,4,5,6,7,8,9)\n",
    "print('The original tuple is: ',mytuple)\n",
    "\n",
    "#enter the number of positions to rotate\n",
    "n = int(input('Enter the number of positions to rotate: '))\n",
    "#find the net rotation\n",
    "n = n%len(mytuple)\n",
    "#perform the rotation\n",
    "left_tuple = mytuple[n:] + mytuple[:n]\n",
    "print('The tuple after rotation is: ',left_tuple)"
   ]
  },
  {
   "cell_type": "markdown",
   "id": "3ff2c7f1-5383-4895-9287-936b7b1c4be7",
   "metadata": {},
   "source": [
    "Problem 40: Rotate a tuple to the right by `n` positions."
   ]
  },
  {
   "cell_type": "code",
   "execution_count": null,
   "id": "5c2ecb41-37a8-4f1d-88c0-23cd448f113a",
   "metadata": {},
   "outputs": [],
   "source": [
    "#create a tuple\n",
    "mytuple = (1,2,3,4,5,6,7,8,9)\n",
    "print('The original tuple is: ',mytuple)\n",
    "\n",
    "#enter the number of positions to rotate\n",
    "n = int(input('Enter the number of positions to rotate: '))\n",
    "#find the net rotation\n",
    "n = n%len(mytuple)\n",
    "#perform the rotation\n",
    "right_tuple = mytuple[-n:] + mytuple[:-n]\n",
    "print('The tuple after rotation is: ',right_tuple)"
   ]
  },
  {
   "cell_type": "markdown",
   "id": "e788a8b8-f6b3-4014-9516-246df77b9dfa",
   "metadata": {},
   "source": [
    "Problem 41: Create a tuple of the first 5 Fibonacci numbers."
   ]
  },
  {
   "cell_type": "code",
   "execution_count": null,
   "id": "b7f8c9ee-452f-4863-9133-9d90c0edf05e",
   "metadata": {},
   "outputs": [],
   "source": [
    "#fibonacci function\n",
    "def fibo(n):\n",
    "    if n<=1:\n",
    "        return n\n",
    "    else:\n",
    "        return fibo(n-1)+fibo(n-2)\n",
    "#create the tuple with first 5 tuples\n",
    "mytuple = tuple(fibo(i) for i in range(5))\n",
    "print('The tuple with first 5 fibonacci numbers: ',mytuple)"
   ]
  },
  {
   "cell_type": "markdown",
   "id": "f7551b77-0f26-4b6f-a72f-3f5d6facdc60",
   "metadata": {},
   "source": [
    "Problem 42:Create a tuple from user input."
   ]
  },
  {
   "cell_type": "code",
   "execution_count": null,
   "id": "ddab4e88-1707-4cfb-8e2e-e390aa4f8887",
   "metadata": {},
   "outputs": [],
   "source": [
    "#Input on the length of the tuple\n",
    "l =int(input('Enter the length of the tuple: '))\n",
    "#define a blank list\n",
    "temp_list = []\n",
    "while l:\n",
    "    #Get the elements from the user\n",
    "    element = input('Enter the element: ')\n",
    "    temp_list.append(element)\n",
    "    l=l-1\n",
    "#print the tuple\n",
    "print('Your tuple is: ',tuple(temp_list))"
   ]
  },
  {
   "cell_type": "markdown",
   "id": "1b968055-8124-4c0e-9404-b6a0b03fe471",
   "metadata": {},
   "source": [
    "Problem 43: Swap two elements in a tuple."
   ]
  },
  {
   "cell_type": "code",
   "execution_count": null,
   "id": "6520593a-c67e-46d9-8439-645a93686e11",
   "metadata": {},
   "outputs": [],
   "source": [
    "#create a tuple\n",
    "mytuple = (1,2,3,4,5,6,7,8,9)\n",
    "print('The original tuple is: ',mytuple)\n",
    "\n",
    "pos1 = int(input('Enter the first pos: ')) -1\n",
    "pos2 = int(input('Enter the second pos: ')) -1\n",
    "\n",
    "#convert the tuple to list\n",
    "mylist = list(mytuple)\n",
    "#swap the elements\n",
    "mylist[pos1],mylist[pos2] = mylist[pos2],mylist[pos1]\n",
    "#convert the list to tuple\n",
    "conv_tuple = tuple(mylist)\n",
    "\n",
    "print('The swappped tuple is: ',conv_tuple)\n"
   ]
  },
  {
   "cell_type": "markdown",
   "id": "4fcf4a93-0d28-4642-b754-36eaf7aee3dd",
   "metadata": {},
   "source": [
    "Problem 44: Reverse the elements of a tuple."
   ]
  },
  {
   "cell_type": "code",
   "execution_count": null,
   "id": "cbe291ee-1762-4f1b-acaa-19279f570bbf",
   "metadata": {},
   "outputs": [],
   "source": [
    "#create a tuple\n",
    "mytuple = (1,2,3,4,5,6,7,8,9)\n",
    "print('The original tuple is: ',mytuple)\n",
    "\n",
    "#reverse the tuple\n",
    "print('The reveresed tuple is: ',mytuple[::-1])"
   ]
  },
  {
   "cell_type": "markdown",
   "id": "4cb76d25-3034-4966-9819-58e40d221887",
   "metadata": {},
   "source": [
    "Problem 45: Create a tuple of the first `n` powers of 2."
   ]
  },
  {
   "cell_type": "code",
   "execution_count": null,
   "id": "ea8ffb5d-a014-4ee7-a3c7-18a8d9a1b018",
   "metadata": {},
   "outputs": [],
   "source": [
    "#Enter the number\n",
    "n = int(input('Enter the value of n: '))\n",
    "#populate the tuple\n",
    "mytuple = tuple(2**i for i in range(n))\n",
    "print('The tuple with first {0} powers of 2: {1}'.format(n,mytuple))"
   ]
  },
  {
   "cell_type": "markdown",
   "id": "b5ce9d57-34b7-438f-962f-b6c6549b6283",
   "metadata": {},
   "source": [
    "Problem 46: Find the longest string in a tuple of strings."
   ]
  },
  {
   "cell_type": "code",
   "execution_count": null,
   "id": "7b02ad33-0010-49b4-a8cc-8140bb328982",
   "metadata": {},
   "outputs": [],
   "source": [
    "#create a tuple\n",
    "mytuple = ('Today', 'is', 'a', 'bright', 'sunny', 'day')\n",
    "print('The original tuple is: ',mytuple)\n",
    "#create a tuple with the length of the strings \n",
    "len_tuple = tuple(len(i) for i in mytuple)\n",
    "#find the position of the max length\n",
    "max_pos = len_tuple.index(max(len_tuple))\n",
    "#print the string at the pos with max length\n",
    "print('The longest string in the tuple is: ',mytuple[max_pos])"
   ]
  },
  {
   "cell_type": "markdown",
   "id": "b7e12268-dde3-4f76-82a1-3712b28bf1cd",
   "metadata": {},
   "source": [
    "Prosblem 47: Find the shortest string in a tuple of strings."
   ]
  },
  {
   "cell_type": "code",
   "execution_count": null,
   "id": "fd1c0f10-1685-4a3e-959c-40b32648cf1c",
   "metadata": {},
   "outputs": [],
   "source": [
    "#create a tuple\n",
    "mytuple = ('Today', 'is', 'a', 'bright', 'sunny', 'day')\n",
    "print('The original tuple is: ',mytuple)\n",
    "#create a tuple with the length of the strings \n",
    "len_tuple = tuple(len(i) for i in mytuple)\n",
    "#find the position of the min length\n",
    "min_pos = len_tuple.index(min(len_tuple))\n",
    "#print the string at the pos with max length\n",
    "print('The longest string in the tuple is: ',mytuple[min_pos])"
   ]
  },
  {
   "cell_type": "markdown",
   "id": "ab7c644d-0db6-4b09-85e2-60921f5cab00",
   "metadata": {},
   "source": [
    "Problem 48: Create a tuple of the first `n` triangular numbers."
   ]
  },
  {
   "cell_type": "code",
   "execution_count": null,
   "id": "882959b9-66e6-4cac-92e0-fb929643d257",
   "metadata": {},
   "outputs": [],
   "source": [
    "#take the input of n\n",
    "n = int(input('Enter the value of n: '))\n",
    "\n",
    "#create a temp tuple of number upto n\n",
    "temp_tuple = tuple(i for i in range(1,n+1))\n",
    "\n",
    "#logic to generate the n triangular numbers\n",
    "mytuple = tuple(sum(temp_tuple[:i+1]) for i in range (n))\n",
    "\n",
    "print('The tuple of the first {0} Triangular numbers is: {1}'.format(n,mytuple)) "
   ]
  },
  {
   "cell_type": "markdown",
   "id": "367315c5-6b2e-43e9-9a47-cfefd4da5c2f",
   "metadata": {},
   "source": [
    "Problem 49: Check if a tuple contains another tuple as a subsequence."
   ]
  },
  {
   "cell_type": "code",
   "execution_count": null,
   "id": "72a40b7c-770b-4afb-9cea-3a842cbf6e44",
   "metadata": {},
   "outputs": [],
   "source": [
    "#crete tuple\n",
    "mytuple = ('Apple',5,6,7,['Hello','World'],'Banana',10,(True,False))\n",
    "print('The original list is: ',mytuple)\n",
    "\n",
    "#create a temp tuple with the type of each of element in the tuple\n",
    "type_tuple = [type(i) for i in mytuple]\n",
    "\n",
    "#check if any of the elements is a tuple\n",
    "if tuple in type_tuple:\n",
    "    print('Tuple is present')\n",
    "else:\n",
    "    print('Tuple is not present')"
   ]
  },
  {
   "cell_type": "markdown",
   "id": "6c2cd4a7-02ac-46af-a576-012fc7bc2ea1",
   "metadata": {},
   "source": [
    "Problem 50: Create a tuple of alternating 1s and 0s of length `n`."
   ]
  },
  {
   "cell_type": "code",
   "execution_count": null,
   "id": "6acf7a5f-a353-44f2-ac5b-97a6ff905ce0",
   "metadata": {},
   "outputs": [],
   "source": [
    "#take the input of n\n",
    "n = int(input('Enter the length of tuple: '))\n",
    "\n",
    "#generate the tuple with alternate 1's and 0's\n",
    "mytuple= tuple(1-(i%2) for i in range(n))\n",
    "print(mytuple)"
   ]
  },
  {
   "cell_type": "markdown",
   "id": "d7cadf0f-8ba4-47b8-9028-497efcac3a66",
   "metadata": {},
   "source": [
    "Topic: Set Based Practice Problem"
   ]
  },
  {
   "cell_type": "markdown",
   "id": "77368f58-4a3c-4ac3-90b7-75f0b21562d3",
   "metadata": {},
   "source": [
    "Problem 1: Create a set with integers from 1 to 5."
   ]
  },
  {
   "cell_type": "code",
   "execution_count": null,
   "id": "41c8076a-b39d-4a5d-9260-70fe9e7617c6",
   "metadata": {},
   "outputs": [],
   "source": [
    "#set with integers from 1 to 5\n",
    "myset = set(i for i in range (1,6))\n",
    "print('The set of integers from 1 to 5 is: ',myset)"
   ]
  },
  {
   "cell_type": "markdown",
   "id": "e22fffba-cb83-4ac3-9078-e5bf2dd2a10e",
   "metadata": {},
   "source": [
    "Problem 2: Add an element to a set."
   ]
  },
  {
   "cell_type": "code",
   "execution_count": null,
   "id": "605f703b-507a-4aa4-a75c-4a60d4ab458d",
   "metadata": {},
   "outputs": [],
   "source": [
    "#create a set\n",
    "myset = {1, 2, 3, 4, 5}\n",
    "print('The original set is: ',myset)\n",
    "#enter the element to inset\n",
    "n = int(input('Enter the element to insert: '))\n",
    "#insert the element if not present already\n",
    "if n not in myset:\n",
    "    myset.add(n)\n",
    "    print('The new set is: ',myset)\n",
    "else:\n",
    "    print('The element to be inserted is already present in the set')"
   ]
  },
  {
   "cell_type": "markdown",
   "id": "e93a2e1d-7f01-415f-933c-7e4a69066c93",
   "metadata": {},
   "source": [
    "Problem 3: Remove an element from a set."
   ]
  },
  {
   "cell_type": "code",
   "execution_count": null,
   "id": "68736a06-e9e2-4262-9a24-13aa94639f4c",
   "metadata": {},
   "outputs": [],
   "source": [
    "#create a set\n",
    "myset = {1, 2, 3, 4, 5}\n",
    "print('The original set is: ',myset)\n",
    "#enter the element to inset\n",
    "n = int(input('Enter the element to remove: '))\n",
    "#remove the element if present\n",
    "if n in myset:\n",
    "    myset.remove(n)\n",
    "    print('The new set is: ',myset)\n",
    "else:\n",
    "    print('The element to delete is not present in the set.')"
   ]
  },
  {
   "cell_type": "markdown",
   "id": "443c2a14-9189-4c3d-a634-b34f95f52547",
   "metadata": {},
   "source": [
    "Problem 4: Check if an element exists in a set."
   ]
  },
  {
   "cell_type": "code",
   "execution_count": null,
   "id": "41de5c34-9d3b-46e8-b02b-0e6cba1276cc",
   "metadata": {},
   "outputs": [],
   "source": [
    "#create a set\n",
    "myset = {1, 2, 3, 4, 5}\n",
    "print('The original set is: ',myset)\n",
    "#enter the element to inset\n",
    "n = int(input('Enter the element to check: '))\n",
    "#logic to check\n",
    "if n in myset:\n",
    "    print('The element is present in the set!')\n",
    "else:\n",
    "    print('The element is not present in the set!')\n"
   ]
  },
  {
   "cell_type": "markdown",
   "id": "4fb3792a-1e3f-4338-ba5e-66f6055efe53",
   "metadata": {},
   "source": [
    "Problem 5: Find the length of a set without using the `len()` function."
   ]
  },
  {
   "cell_type": "code",
   "execution_count": null,
   "id": "6b510628-638b-4d34-9400-4d426ad80c2a",
   "metadata": {},
   "outputs": [],
   "source": [
    "#create a set\n",
    "myset = {1, 2, 3, 4, 5}\n",
    "print('The original set is: ',myset)\n",
    "#declare a variable to store the length\n",
    "l=0\n",
    "#logic to calculate the length\n",
    "for i in myset:\n",
    "    l=l+1\n",
    "print('The length of the set is:',l)"
   ]
  },
  {
   "cell_type": "markdown",
   "id": "0e755991-213e-4433-b760-cd5797759669",
   "metadata": {},
   "source": [
    "Problem 6: Clear all elements from a set."
   ]
  },
  {
   "cell_type": "code",
   "execution_count": null,
   "id": "e4550a57-6a06-4d89-94f2-ceba234317d4",
   "metadata": {},
   "outputs": [],
   "source": [
    "#create a set\n",
    "myset = {1, 2, 3, 4, 5}\n",
    "print('The original set is: ',myset)\n",
    "\n",
    "#clear the set\n",
    "myset.clear()\n",
    "print('The current set is: ',myset)"
   ]
  },
  {
   "cell_type": "markdown",
   "id": "42f9abec-9bdd-4365-996e-2fa44fdf5f71",
   "metadata": {},
   "source": [
    "Probelm 7: Create a set of even numbers from 1 to 10."
   ]
  },
  {
   "cell_type": "code",
   "execution_count": null,
   "id": "59cfb173-cae4-41b4-89db-7bf8d0b7a36e",
   "metadata": {},
   "outputs": [],
   "source": [
    "#create a set of even numbers\n",
    "even_set = set(i for i in range(1,11) if i%2==0)\n",
    "print('The even set is: ',even_set)"
   ]
  },
  {
   "cell_type": "markdown",
   "id": "18f65fec-0d96-4832-b9ef-7b21902f458e",
   "metadata": {},
   "source": [
    "Problem 8: Create a set of odd numbers from 1 to 10."
   ]
  },
  {
   "cell_type": "code",
   "execution_count": null,
   "id": "ea068afd-f647-49d2-b42f-ec37647d21ce",
   "metadata": {},
   "outputs": [],
   "source": [
    "#create a set of odd numbers\n",
    "odd_set = set(i for i in range(1,10) if i%2!=0)\n",
    "print('The odd set is: ',odd_set)"
   ]
  },
  {
   "cell_type": "markdown",
   "id": "fe551f6c-208f-432c-b7d5-b9cf768b9da6",
   "metadata": {},
   "source": [
    "Problem 9: Find the union of two sets."
   ]
  },
  {
   "cell_type": "code",
   "execution_count": null,
   "id": "1c1b8fc1-c513-4b50-bc7f-57131a2ddeb9",
   "metadata": {},
   "outputs": [],
   "source": [
    "#set1\n",
    "set1 = {1,2,3,4,5}\n",
    "print('The first set is: ',set1)\n",
    "#set2\n",
    "set2 = {4,5,6,7,8}\n",
    "print('The second set is: ',set2)\n",
    "\n",
    "#the union of the two sets is\n",
    "print('The Union of the two sets is: ',set1.union(set2))"
   ]
  },
  {
   "cell_type": "markdown",
   "id": "2dadbf07-914d-4cb0-8a7f-b145b36112a4",
   "metadata": {},
   "source": [
    "Problem 10: Find the intersection of two sets."
   ]
  },
  {
   "cell_type": "code",
   "execution_count": null,
   "id": "c8a6ea8d-9601-4167-a41a-ae61a0314bf1",
   "metadata": {},
   "outputs": [],
   "source": [
    "#set1\n",
    "set1 = {1,2,3,4,5}\n",
    "print('The first set is: ',set1)\n",
    "#set2\n",
    "set2 = {4,5,6,7,8}\n",
    "print('The second set is: ',set2)\n",
    "\n",
    "#the intersection of the two sets is\n",
    "print('The intersection of the two sets is: ',set1.intersection(set2))"
   ]
  },
  {
   "cell_type": "markdown",
   "id": "51d22ffa-181d-4de0-bad1-29bee21ab9ff",
   "metadata": {},
   "source": [
    "Problem 11: Find the difference between two sets."
   ]
  },
  {
   "cell_type": "code",
   "execution_count": null,
   "id": "ee15f2c0-5594-436f-b0e0-91559c81703e",
   "metadata": {},
   "outputs": [],
   "source": [
    "#set1\n",
    "set1 = {1,2,3,4,5}\n",
    "print('The first set is: ',set1)\n",
    "#set2\n",
    "set2 = {4,5,6,7,8}\n",
    "print('The second set is: ',set2)\n",
    "\n",
    "#the difference of the two sets is\n",
    "print('The difference of the two sets is: ',set1.difference(set2))"
   ]
  },
  {
   "cell_type": "markdown",
   "id": "8cf55584-b712-4e95-ace1-0de298ef7021",
   "metadata": {},
   "source": [
    "Problem 12: Check if a set is a subset of another set."
   ]
  },
  {
   "cell_type": "code",
   "execution_count": null,
   "id": "84764f80-15f8-4896-95f2-d78abc865912",
   "metadata": {},
   "outputs": [],
   "source": [
    "#set1\n",
    "set1 = {1,2,3,4,5}\n",
    "print('The first set is: ',set1)\n",
    "#set2\n",
    "set2 = {4,5,6,7,8}\n",
    "print('The second set is: ',set2)\n",
    "#set3\n",
    "set3 = {3,4,5}\n",
    "print('The third set is: ',set3)\n",
    "#check for subset\n",
    "print('Set2 is a subset of Set1: ', set2.issubset(set1))\n",
    "print('Set3 is a subset of Set2: ', set3.issubset(set2))\n",
    "print('Set3 is a subset of Set1: ', set3.issubset(set1))"
   ]
  },
  {
   "cell_type": "markdown",
   "id": "962eb112-2dcb-4011-a4b5-ced6e90f2ed0",
   "metadata": {},
   "source": [
    "Problem 13: Check if a set is a superset of another set."
   ]
  },
  {
   "cell_type": "code",
   "execution_count": null,
   "id": "d413bfa5-5f5b-4f75-a609-2d5185c8109a",
   "metadata": {},
   "outputs": [],
   "source": [
    "#set1\n",
    "set1 = {1,2,3,4,5}\n",
    "print('The first set is: ',set1)\n",
    "#set2\n",
    "set2 = {4,5,6,7,8}\n",
    "print('The second set is: ',set2)\n",
    "#set3\n",
    "set3 = {3,4,5}\n",
    "print('The third set is: ',set3)\n",
    "#check for superset\n",
    "print('Set1 is a superset of Set2: ', set1.issuperset(set2))\n",
    "print('Set2 is a superset of Set3: ', set2.issuperset(set3))\n",
    "print('Set1 is a superset of Set3: ', set1.issuperset(set3))"
   ]
  },
  {
   "cell_type": "markdown",
   "id": "6504e028-3f60-48b7-8938-2f16ded37ce5",
   "metadata": {},
   "source": [
    "Problem 14: Create a set from a list."
   ]
  },
  {
   "cell_type": "code",
   "execution_count": null,
   "id": "1a2349e8-4eaf-4a85-9218-7f09eb0ce785",
   "metadata": {},
   "outputs": [],
   "source": [
    "#create a list\n",
    "mylist = [4,5,8,9,2,4]\n",
    "print('The original list is: ',mylist)\n",
    "#convert the list to set\n",
    "myset = set(mylist)\n",
    "print('The converted set is: ',myset)"
   ]
  },
  {
   "cell_type": "markdown",
   "id": "e16331bc-6763-41a0-ac97-c3d12723d7a7",
   "metadata": {},
   "source": [
    "Problem 15: Convert a set to a list."
   ]
  },
  {
   "cell_type": "code",
   "execution_count": null,
   "id": "213d7dce-7187-4250-96e6-de6e2b72d78b",
   "metadata": {},
   "outputs": [],
   "source": [
    "#create a set\n",
    "myset = {1, 2, 3, 4, 5}\n",
    "print('The original set is: ',myset)\n",
    "#convert the set to list\n",
    "mylist = list(myset)\n",
    "print('The converted list is: ',mylist)"
   ]
  },
  {
   "cell_type": "markdown",
   "id": "9d0ba62b-aaaa-4236-b552-b2ab9e172bac",
   "metadata": {},
   "source": [
    "Problem 16: Remove a random element from a set."
   ]
  },
  {
   "cell_type": "code",
   "execution_count": null,
   "id": "e280ba8c-c2ae-4f22-834d-3e681c884fcb",
   "metadata": {},
   "outputs": [],
   "source": [
    "import random\n",
    "#create a set\n",
    "myset = {1, 2, 3, 4, 5}\n",
    "print('The original set is: ',myset)\n",
    "#select the random number to remove\n",
    "element= random.choice(list(myset))\n",
    "#remove the element\n",
    "myset.remove(element)\n",
    "print('The element removed from the set is: ',element)\n",
    "print('The current set is: ',myset)\n"
   ]
  },
  {
   "cell_type": "markdown",
   "id": "60211d34-57e6-4659-af1f-5eba14f21a76",
   "metadata": {},
   "source": [
    "Problem 17: Pop an element from a set."
   ]
  },
  {
   "cell_type": "code",
   "execution_count": null,
   "id": "93d1cab7-60be-42d7-8733-c55c353ac9b8",
   "metadata": {},
   "outputs": [],
   "source": [
    "#create a set\n",
    "myset = {1, 2, 3, 4, 5}\n",
    "print('The original set is: ',myset)\n",
    "#pop an element from the set\n",
    "print('The element popped from the set is: ',myset.pop())\n",
    "print('The current is set is: ',myset)"
   ]
  },
  {
   "cell_type": "markdown",
   "id": "0354a0cb-8d5d-4642-b22c-6542bf6047b2",
   "metadata": {},
   "source": [
    "Problem 18: Check if two sets have no elements in common."
   ]
  },
  {
   "cell_type": "code",
   "execution_count": null,
   "id": "2d5f7876-c158-4793-82ff-67a847a1780b",
   "metadata": {},
   "outputs": [],
   "source": [
    "#set1\n",
    "set1 = {1,2,3,4,5}\n",
    "print('The first set is: ',set1)\n",
    "#set2\n",
    "set2 = {4,5,6,7,8}\n",
    "print('The second set is: ',set2)\n",
    "#check for common elements\n",
    "c_elements = set1.intersection(set2)\n",
    "if len(c_elements)!=0:\n",
    "    print('The common elements of the set are: ',c_elements)\n",
    "else:\n",
    "    print('There are no common elements')"
   ]
  },
  {
   "cell_type": "markdown",
   "id": "2c0db84b-a907-424e-bddc-cca717d4183b",
   "metadata": {},
   "source": [
    "Problem 19: Find the symmetric difference between two sets."
   ]
  },
  {
   "cell_type": "code",
   "execution_count": null,
   "id": "5271496e-1161-417f-aaea-7a30e9eb7cc3",
   "metadata": {},
   "outputs": [],
   "source": [
    "#set1\n",
    "set1 = {1,2,3,4,5}\n",
    "print('The first set is: ',set1)\n",
    "#set2\n",
    "set2 = {4,5,6,7,8}\n",
    "print('The second set is: ',set2)\n",
    "#systematic difference\n",
    "print('The systematic difference of the two sets is: ', set1.symmetric_difference(set2))"
   ]
  },
  {
   "cell_type": "markdown",
   "id": "42a0459d-2195-4da5-8048-014b7de2e471",
   "metadata": {},
   "source": [
    "Problem 20: Update a set with elements from another set."
   ]
  },
  {
   "cell_type": "code",
   "execution_count": null,
   "id": "70bcb84a-6df4-4e45-9cda-19d7a8b3d259",
   "metadata": {},
   "outputs": [],
   "source": [
    "#set1\n",
    "set1 = {1,2,3,4,5}\n",
    "print('The first set is: ',set1)\n",
    "#set2\n",
    "set2 = {4,5,6,7,8}\n",
    "print('The second set is: ',set2)\n",
    "#update set1 with the elements of set 2\n",
    "set1.update(set2)\n",
    "print('The updated set1 is: ',set1)"
   ]
  },
  {
   "cell_type": "markdown",
   "id": "c654b55e-b1d1-4d04-8757-5551465be09d",
   "metadata": {},
   "source": [
    "Problem 21: Create a set of the first 5 prime numbers."
   ]
  },
  {
   "cell_type": "code",
   "execution_count": null,
   "id": "4269b5ed-9130-4df4-9050-c109e105b82f",
   "metadata": {},
   "outputs": [],
   "source": [
    "import math\n",
    "#check for prime\n",
    "def check_prime(n):\n",
    "    flag=0\n",
    "    if n==2 or n==3:\n",
    "        return True\n",
    "    else:\n",
    "        s = int(math.sqrt(n)) + 1\n",
    "        for i in range (2,s):\n",
    "            if n%i==0:\n",
    "                flag=1\n",
    "                break\n",
    "        if flag==0:\n",
    "            return True\n",
    "        else:\n",
    "            return False\n",
    "\n",
    "#create a temp set\n",
    "temp_set = set()\n",
    "num=2\n",
    "#check till the length of the set is 5\n",
    "while len(temp_set) <5:\n",
    "    if check_prime(num):\n",
    "        temp_set.add(num)\n",
    "    num = num+1\n",
    "\n",
    "#print the set of first \n",
    "print('The set of first 5 prime numbers: ',temp_set)"
   ]
  },
  {
   "cell_type": "markdown",
   "id": "f24d4fdd-6eaa-47c2-addc-46c3986fc0f0",
   "metadata": {},
   "source": [
    "Problem 22: Check if two sets are identical."
   ]
  },
  {
   "cell_type": "code",
   "execution_count": null,
   "id": "8fb6f9d8-1127-4b28-9452-b2175bbf6423",
   "metadata": {},
   "outputs": [],
   "source": [
    "#set1\n",
    "set1 = {1,2,3,4,5}\n",
    "print('The first set is: ',set1)\n",
    "#set2\n",
    "set2 = {4,5,6,7,8}\n",
    "print('The second set is: ',set2)\n",
    "#set3\n",
    "set3 = {1,2,3,4,5}\n",
    "print('The third set is: ',set3)\n",
    "\n",
    "print('Set1 is identical to Set2: ',(set1==set2))\n",
    "print('Set2 is identical to Set3: ',(set2==set3))\n",
    "print('Set3 is identical to Set1: ',(set3==set1))"
   ]
  },
  {
   "cell_type": "raw",
   "id": "162bc2c9-35ff-441b-b887-76f965fdfc9b",
   "metadata": {},
   "source": [
    "Problem 23: Create a frozen set."
   ]
  },
  {
   "cell_type": "code",
   "execution_count": null,
   "id": "9ed596a1-a4f1-4ee7-ae87-3774680aa3b9",
   "metadata": {},
   "outputs": [],
   "source": [
    "#create a set\n",
    "myset = {1,2,3,4,5}\n",
    "print('The original set is: ',myset)\n",
    "#create a frozen set\n",
    "fset = frozenset(myset)\n",
    "print('The frozen set is: ',fset)"
   ]
  },
  {
   "cell_type": "markdown",
   "id": "86f020d8-dec8-4fed-9d76-9a9dea090cd9",
   "metadata": {},
   "source": [
    "Problem 24: Check if a set is disjoint with another set."
   ]
  },
  {
   "cell_type": "code",
   "execution_count": null,
   "id": "93b1024b-7511-4eb5-b56a-323b969a6cee",
   "metadata": {},
   "outputs": [],
   "source": [
    "#set1\n",
    "set1 = {1,2,3,4,5}\n",
    "print('The first set is: ',set1)\n",
    "#set2\n",
    "set2 = {4,5,6,7,8}\n",
    "print('The second set is: ',set2)\n",
    "\n",
    "print('Set1 is a disjoint of set2: ',set1.isdisjoint(set2))"
   ]
  },
  {
   "cell_type": "markdown",
   "id": "1ee16270-8ae1-43e5-acef-0fd44bf54921",
   "metadata": {},
   "source": [
    "Problem 25: Create a set of squares of numbers from 1 to 5."
   ]
  },
  {
   "cell_type": "code",
   "execution_count": null,
   "id": "057a49da-47b8-40cd-b98f-f72cf6eb7783",
   "metadata": {},
   "outputs": [],
   "source": [
    "#create a set with squares\n",
    "square_set = set(x**2 for x in range (1,6))\n",
    "print('The square set is: ', square_set)"
   ]
  },
  {
   "cell_type": "markdown",
   "id": "9ecb4bb9-3714-4a37-94ec-b508e2862a67",
   "metadata": {},
   "source": [
    "Problem 26: Filter out all even numbers from a set."
   ]
  },
  {
   "cell_type": "code",
   "execution_count": null,
   "id": "950147ed-d46e-4146-a497-6e93deef13b6",
   "metadata": {},
   "outputs": [],
   "source": [
    "#create a tuple with number from 1 to 10\n",
    "myset = set(x for x in range(1,11))\n",
    "print('The original tuple is: ',myset)\n",
    "\n",
    "#even tuples\n",
    "even_set = set(filter(lambda x:x%2==0,myset))\n",
    "print('The even numbers in tuple: ',even_set)"
   ]
  },
  {
   "cell_type": "markdown",
   "id": "1b483eac-54bc-4888-ade6-930151a889ea",
   "metadata": {},
   "source": [
    "Problem 27: Multiply all elements in a set by 2."
   ]
  },
  {
   "cell_type": "code",
   "execution_count": null,
   "id": "4a41dce2-52c5-4a48-a852-afd03ad6d80f",
   "metadata": {},
   "outputs": [],
   "source": [
    "#create a set\n",
    "myset = {1,2,3,4,5}\n",
    "print('The original set is: ',myset)\n",
    "\n",
    "#Multiply all the elements of the set by 2\n",
    "res_set = set(x*2 for x in myset)\n",
    "print('The multiplied set is: ',res_set)"
   ]
  },
  {
   "cell_type": "markdown",
   "id": "c3291fcc-01bd-4087-ac6b-2bf86990f68d",
   "metadata": {},
   "source": [
    "Problem 28: Create a set of random numbers."
   ]
  },
  {
   "cell_type": "code",
   "execution_count": null,
   "id": "756f7584-3e42-4abd-9666-9baa84c7622a",
   "metadata": {},
   "outputs": [],
   "source": [
    "import random\n",
    "#create the set of random numbers\n",
    "random_set = set(random.randrange(1,100) for i in range(1,10))\n",
    "print('The set of random range is: ',random_set)"
   ]
  },
  {
   "cell_type": "markdown",
   "id": "bbdbfdef-abd4-44bf-a42f-7b1043c75947",
   "metadata": {},
   "source": [
    "Problem 29: Check if a set is empty."
   ]
  },
  {
   "cell_type": "code",
   "execution_count": null,
   "id": "3aa213b2-5c24-449e-9311-57414be5aeaa",
   "metadata": {},
   "outputs": [],
   "source": [
    "#create a set\n",
    "myset1 = {1,2,3,4,5}\n",
    "myset2 = set()\n",
    "print('The original set1 is: ',myset1)\n",
    "print('The original set1 is: ',myset2)\n",
    "\n",
    "#check if the set is empty\n",
    "print('The set1 is blank: ', not bool(myset1))\n",
    "print('The set2 is blank: ', not bool(myset2))\n"
   ]
  },
  {
   "cell_type": "markdown",
   "id": "9b2bdc85-6426-4603-8e73-fe785198d9d5",
   "metadata": {},
   "source": [
    "Problem 30: Create a nested set"
   ]
  },
  {
   "cell_type": "code",
   "execution_count": null,
   "id": "09f9069a-2a84-4333-b001-d2627772292d",
   "metadata": {},
   "outputs": [],
   "source": [
    "#create two sets\n",
    "#set1\n",
    "set1 = {1,2,3,4,5}\n",
    "print('The first set is: ',set1)\n",
    "#set2\n",
    "set2 = {4,5,6,7,8}\n",
    "print('The second set is: ',set2)\n",
    "#create frozensets\n",
    "fset1 = frozenset(set1)\n",
    "fset2 = frozenset(set2)\n",
    "#create a nested set\n",
    "nested_set = {fset1,fset2}\n",
    "print('The nested set is: ',nested_set)"
   ]
  },
  {
   "cell_type": "markdown",
   "id": "f5a28ca2-4d31-466a-8b68-8e7f7812d939",
   "metadata": {},
   "source": [
    "Problem 31: Remove an element from a set using the discard method."
   ]
  },
  {
   "cell_type": "code",
   "execution_count": null,
   "id": "0e094890-b109-4698-b1ea-e6a575f2feb6",
   "metadata": {},
   "outputs": [],
   "source": [
    "#create a set\n",
    "myset = {1, 2, 3, 4, 5}\n",
    "print('The original set is: ',myset)\n",
    "#get the element to remove\n",
    "element = int(input('Enter the element to remove: '))\n",
    "#check if the element is in the set\n",
    "if element in myset:\n",
    "    myset.discard(element)\n",
    "    print('The new set is: ',myset)\n",
    "else:\n",
    "    print('The element is not in the set.')"
   ]
  },
  {
   "cell_type": "markdown",
   "id": "48783efe-e222-43ce-abc8-16c55004315c",
   "metadata": {},
   "source": [
    "Problem 32: Compare two sets"
   ]
  },
  {
   "cell_type": "code",
   "execution_count": null,
   "id": "f175b1a4-f53f-4bc0-b865-f600b1459fd9",
   "metadata": {},
   "outputs": [],
   "source": [
    "#create two sets\n",
    "#set1\n",
    "set1 = {1,2,3,4,5}\n",
    "print('The first set is: ',set1)\n",
    "#set2\n",
    "set2 = {4,5,6,7,8}\n",
    "print('The second set is: ',set2)\n",
    "\n",
    "#check if set1 is a subset of set2\n",
    "print('set1 is a subset of set2: ', set1.issubset(set2))\n",
    "\n",
    "#check if set1 is a superset of set2\n",
    "print('set1 is a superset of set2: ', set1.issuperset(set2))\n",
    "\n",
    "#check the intersection of two sets\n",
    "print('set1 intersection set2: ',set1.intersection(set2))\n",
    "\n",
    "#check the union of two sets\n",
    "print('set1 union set2: ',set1.union(set2))\n",
    "\n",
    "#check the elements in set1 different from set2\n",
    "print('Elements in set1 different from set2: ',set1.difference(set2))\n",
    "\n",
    "#check the elements in set2 different from set1\n",
    "print('Elements in set1 different from set2: ',set2.difference(set1))"
   ]
  },
  {
   "cell_type": "markdown",
   "id": "25868161-2338-4ff1-908a-bdfa4817f54c",
   "metadata": {},
   "source": [
    "Problem 33: Create a set from a string. "
   ]
  },
  {
   "cell_type": "code",
   "execution_count": null,
   "id": "5544c18f-095f-4847-a4ae-2b6505b2319b",
   "metadata": {},
   "outputs": [],
   "source": [
    "#create a string\n",
    "mystr = 'Susobhan'\n",
    "#convert the string into a set\n",
    "str_set = set(mystr)\n",
    "print('The set of the string is: ',str_set)"
   ]
  },
  {
   "cell_type": "markdown",
   "id": "dd513da0-d082-4a65-881c-9ae2c46c1237",
   "metadata": {},
   "source": [
    "Problem 34: Convert a set of strings to a set of integers."
   ]
  },
  {
   "cell_type": "code",
   "execution_count": null,
   "id": "a978909f-f718-4de0-b5a4-38ec40a5232b",
   "metadata": {},
   "outputs": [],
   "source": [
    "#cretae a string set \n",
    "str_set = {\"11\",\"22\",\"33\",\"44\",\"55\"}\n",
    "print('The original set of string is: ',str_set)\n",
    "\n",
    "#declare a blank set\n",
    "int_set= set()\n",
    "\n",
    "#convert each string element to an integer and add to the set\n",
    "for element in str_set:\n",
    "    int_set.add(int(element))\n",
    "    \n",
    "print('The set of integers is: ',int_set)"
   ]
  },
  {
   "cell_type": "markdown",
   "id": "4e5fb9de-d9b2-48c9-acbc-856ea04a18ee",
   "metadata": {},
   "source": [
    "Problem 35: Convert a set of integers to a set of strings."
   ]
  },
  {
   "cell_type": "code",
   "execution_count": null,
   "id": "03f0e073-f0d7-4142-a17b-dd38255f64e5",
   "metadata": {},
   "outputs": [],
   "source": [
    "#create a set of integers\n",
    "int_set = {1,2,3,4,5}\n",
    "print('The original set of integers is: ',int_set)\n",
    "\n",
    "#decalre a blank set\n",
    "str_set = set()\n",
    "\n",
    "#conver each integer element to a string and add to the set\n",
    "for element in int_set:\n",
    "    str_set.add(str(element))\n",
    "\n",
    "print('The set of string is: ',str_set)"
   ]
  },
  {
   "cell_type": "markdown",
   "id": "c51b4365-2300-4127-b48e-ab4af9b15702",
   "metadata": {},
   "source": [
    "Problem 36: Create a set from a tuple."
   ]
  },
  {
   "cell_type": "code",
   "execution_count": null,
   "id": "326dfddc-8f90-4d89-8795-3642f08d3ba9",
   "metadata": {},
   "outputs": [],
   "source": [
    "#create a tuple\n",
    "mytuple = (1,2,3,4,5,1)\n",
    "print('The tuple is: ',mytuple)\n",
    "#create a set from tuple\n",
    "myset = set(mytuple)\n",
    "print('The set is: ',myset)"
   ]
  },
  {
   "cell_type": "markdown",
   "id": "065bb816-699f-4626-9e44-a92fe2335afe",
   "metadata": {},
   "source": [
    "Problem 37: Convert a set to a tuple."
   ]
  },
  {
   "cell_type": "code",
   "execution_count": null,
   "id": "99db8ed5-1fcf-429e-9387-228c8e8769e6",
   "metadata": {},
   "outputs": [],
   "source": [
    "#create a tuple\n",
    "myset = {1,2,3,4,5,1}\n",
    "print('The set is: ',myset)\n",
    "#create a tuple from set\n",
    "mytuple = tuple(myset)\n",
    "print('The tuple is: ',mytuple)"
   ]
  },
  {
   "cell_type": "markdown",
   "id": "db6a0766-6344-44c5-9665-0737b625a36f",
   "metadata": {},
   "source": [
    "Problem 38: Find the maximum value in a set."
   ]
  },
  {
   "cell_type": "code",
   "execution_count": null,
   "id": "e85e2cb2-b177-4d6b-a41d-544828864e42",
   "metadata": {},
   "outputs": [],
   "source": [
    "#create a set\n",
    "myset = {9,9,3,2,2,2,1,3,4,6}\n",
    "print('The set is: ',myset)\n",
    "#find the max element\n",
    "max_element = max(myset)\n",
    "print('The maximum element of the set is: ',max_element)"
   ]
  },
  {
   "cell_type": "markdown",
   "id": "9ec7f098-b2ba-4d8e-8af3-ac5c500a9987",
   "metadata": {},
   "source": [
    "Problem 39: Find the minimum value in a set."
   ]
  },
  {
   "cell_type": "code",
   "execution_count": null,
   "id": "6feac867-ec6c-40e6-9d50-6e92e2098c1a",
   "metadata": {},
   "outputs": [],
   "source": [
    "#create a set\n",
    "myset = {9,9,3,2,2,2,1,3,4,6}\n",
    "print('The set is: ',myset)\n",
    "#find the min element\n",
    "min_element = min(myset)\n",
    "print('The minimum element of the set is: ',min_element)"
   ]
  },
  {
   "cell_type": "markdown",
   "id": "db137425-34e7-4272-b5cf-775eee26be93",
   "metadata": {},
   "source": [
    "Problem 40: Create a set from user input."
   ]
  },
  {
   "cell_type": "code",
   "execution_count": null,
   "id": "3efdbffb-7a38-493f-b23b-d8be887c7cb1",
   "metadata": {},
   "outputs": [],
   "source": [
    "#declare an empty set\n",
    "userset = set()\n",
    "\n",
    "#get the elements of the set from user\n",
    "while True:\n",
    "    element = int(input('Enter the element of the set: '))\n",
    "    userset.add(element)\n",
    "    choice = input('Do you wish to add another element (Y/N):')\n",
    "    if choice.lower() != 'y':\n",
    "        break\n",
    "#print the set\n",
    "print('The user input set is: ',userset)"
   ]
  },
  {
   "cell_type": "markdown",
   "id": "e8340eb4-514f-4f3e-bc30-66b6f19db2d8",
   "metadata": {},
   "source": [
    "Problem 41: Check if the intersection of two sets is empty."
   ]
  },
  {
   "cell_type": "code",
   "execution_count": null,
   "id": "67ae930d-a81f-4ce1-994f-4cf28b6aca0e",
   "metadata": {},
   "outputs": [],
   "source": [
    "#create two sets\n",
    "#set1\n",
    "set1 = {1,2,3,4,5}\n",
    "print('The first set is: ',set1)\n",
    "#set2\n",
    "set2 = {4,5,6,7,8}\n",
    "print('The second set is: ',set2)\n",
    "\n",
    "#check if intersection of two sets is empty\n",
    "print('The intersection of two sets is empty: ', not bool(set1.intersection(set2)))"
   ]
  },
  {
   "cell_type": "markdown",
   "id": "ecf3929b-8f8c-43c1-ab4c-0837c928a481",
   "metadata": {},
   "source": [
    "Problem 42: Create a set of the first 5 Fibonacci numbers."
   ]
  },
  {
   "cell_type": "code",
   "execution_count": null,
   "id": "f53ef61c-4eaf-4175-a783-7577bf6aed9b",
   "metadata": {},
   "outputs": [],
   "source": [
    "#fibonacci logic\n",
    "def fibo(n):\n",
    "    if n<=1:\n",
    "        return 1\n",
    "    else:\n",
    "        return fibo(n-1) + fibo(n-2)\n",
    "    \n",
    "#cretae the set with first 5 fibonacci series\n",
    "fibo_set = set(fibo(i) for i in range(5))\n",
    "print('The set with first 5 Fibonacci series: ',fibo_set)"
   ]
  },
  {
   "cell_type": "markdown",
   "id": "68e34028-579f-4cee-a3f9-b2dfecadc485",
   "metadata": {},
   "source": [
    "Problem 43: Remove duplicates from a list using sets."
   ]
  },
  {
   "cell_type": "code",
   "execution_count": null,
   "id": "ef3627b6-ebf7-4e66-bc32-92c5900d99f1",
   "metadata": {},
   "outputs": [],
   "source": [
    "#create a list\n",
    "mylist = [1,2,3,4,5,5,3,1]\n",
    "print('The set without the duplicates: ',set(mylist))"
   ]
  },
  {
   "cell_type": "markdown",
   "id": "5d34413c-098b-4693-9fbd-1d34caf5966c",
   "metadata": {},
   "source": [
    "Problem 44: Check if two sets have the same elements, regardless of their count."
   ]
  },
  {
   "cell_type": "code",
   "execution_count": null,
   "id": "fe720e70-bef6-481c-b559-5e43c00b8d0f",
   "metadata": {},
   "outputs": [],
   "source": [
    "#set1\n",
    "set1 = {1,2,3,4,5,5,4,3}\n",
    "print('The first set is: ',set1)\n",
    "#set2\n",
    "set2 = {4,5,6,7,8}\n",
    "print('The second set is: ',set2)\n",
    "#set3\n",
    "set3 = {5,4,3,2,1,1}\n",
    "print('The third set is: ',set3)\n",
    "\n",
    "print('Set1 has same elements as Set2: ',(set1==set2))\n",
    "print('Set2 has same elements as Set3: ',(set2==set3))\n",
    "print('Set3 has same elements as Set1: ',(set3==set1))"
   ]
  },
  {
   "cell_type": "markdown",
   "id": "45a2b1f8-2009-4adf-a762-dd13a85775fd",
   "metadata": {},
   "source": [
    "Problem 45: Create a set of the first `n` powers of 2."
   ]
  },
  {
   "cell_type": "code",
   "execution_count": null,
   "id": "16215a70-3574-4cc8-a799-8c520325cfa3",
   "metadata": {},
   "outputs": [],
   "source": [
    "#get the input of n\n",
    "n = int(input('Enter the value of n:'))\n",
    "#create a set with first 'n' powers of 2\n",
    "res_set = set(2**x for x in range(1,n+1))\n",
    "print('The set with first n powers of 2: ',sorted(res_set))"
   ]
  },
  {
   "cell_type": "markdown",
   "id": "db7b09bc-ced8-4518-9ebc-d49a5005698a",
   "metadata": {},
   "source": [
    "Problem 46: Find the common elements between a set and a list."
   ]
  },
  {
   "cell_type": "code",
   "execution_count": null,
   "id": "352b3898-221a-4940-99e0-a55a9a46f5d1",
   "metadata": {},
   "outputs": [],
   "source": [
    "#create a set\n",
    "myset = {1,2,3,4,5,5,4,3}\n",
    "print('The set is: ',myset)\n",
    "\n",
    "#create a list\n",
    "mylist = [5,4,3]\n",
    "print('The list is: ',mylist)\n",
    "\n",
    "print('The common elements of the set and list: ',myset.intersection(set(mylist)))"
   ]
  },
  {
   "cell_type": "markdown",
   "id": "c5837325-61ac-48a3-9e09-312721ea0e7b",
   "metadata": {},
   "source": [
    "Problem 47: Create a set of the first `n` triangular numbers."
   ]
  },
  {
   "cell_type": "code",
   "execution_count": null,
   "id": "1026a863-f6c5-4887-87dc-f60caa449b98",
   "metadata": {},
   "outputs": [],
   "source": [
    "#take the input of n\n",
    "n = int(input('Enter the value of n: '))\n",
    "\n",
    "#create a temp list of number upto n\n",
    "temp_list = [i for i in range(1,n+1)]\n",
    "\n",
    "#logic to generate the n triangular numbers\n",
    "mylist = [sum(temp_list[:i+1]) for i in range (n)]\n",
    "\n",
    "print('The list of the first {0} Triangular numbers is: {1}'.format(n,set(mylist)))"
   ]
  },
  {
   "cell_type": "markdown",
   "id": "28064780-6139-4ebf-9c39-c82dea3e425f",
   "metadata": {},
   "source": [
    "Problem 48: Check if a set contains another set as a subset."
   ]
  },
  {
   "cell_type": "code",
   "execution_count": 9,
   "id": "45f07a90-0351-4d4c-ac14-c982f2749549",
   "metadata": {},
   "outputs": [
    {
     "name": "stdout",
     "output_type": "stream",
     "text": [
      "The subset is:  {False, True}\n",
      "The set contains another set as subset.\n"
     ]
    }
   ],
   "source": [
    "#create a set\n",
    "myset = {1,2,3,'a','b',True,False}\n",
    "print('The original set is: ',)\n",
    "#create another subset\n",
    "sub = {True,False}\n",
    "print('The subset is: ',sub)\n",
    "\n",
    "if sub.issubset(myset):\n",
    "    print('The set contains another set as subset.')\n",
    "else:\n",
    "    print('The set does not contain another set as subset.')"
   ]
  },
  {
   "cell_type": "code",
   "execution_count": null,
   "id": "b03fb15c-f099-4f98-b88c-573335b9c5a6",
   "metadata": {},
   "outputs": [],
   "source": [
    "type({1,2,3})"
   ]
  },
  {
   "cell_type": "markdown",
   "id": "feb44068-84e5-4093-b48a-6607e1374776",
   "metadata": {},
   "source": [
    "Problem 49: Create a set of alternating 1s and 0s of length `n`."
   ]
  },
  {
   "cell_type": "code",
   "execution_count": 6,
   "id": "2dfb51dc-000b-42b1-8d7e-1495a47d2004",
   "metadata": {},
   "outputs": [
    {
     "name": "stdin",
     "output_type": "stream",
     "text": [
      "Enter the value of n:  6\n"
     ]
    },
    {
     "name": "stdout",
     "output_type": "stream",
     "text": [
      "The set of alternate 0 and 1 is:  {0, 1}\n"
     ]
    }
   ],
   "source": [
    "#enter the value of n\n",
    "n = int(input('Enter the value of n: '))\n",
    "\n",
    "#create the set of alternate 1 and 0\n",
    "res_set = set (i%2 for i in range(n))\n",
    "\n",
    "print('The set of alternate 0 and 1 is: ',res_set)"
   ]
  },
  {
   "cell_type": "markdown",
   "id": "1b4f276b-c8e3-422a-b785-ea8ddfed8ca3",
   "metadata": {},
   "source": [
    "Problem 50: Merge multiple sets into one."
   ]
  },
  {
   "cell_type": "code",
   "execution_count": 7,
   "id": "46438ab5-f278-4b05-9bbe-00c66a8bce38",
   "metadata": {},
   "outputs": [
    {
     "name": "stdout",
     "output_type": "stream",
     "text": [
      "The first set is:  {1, 2, 3, 4, 5}\n",
      "The second set is:  {8, 9, 6, 7}\n",
      "The merged set is:  {1, 2, 3, 4, 5, 6, 7, 8, 9}\n"
     ]
    }
   ],
   "source": [
    "#set1\n",
    "set1 = {1,2,3,4,5}\n",
    "print('The first set is: ',set1)\n",
    "#set2\n",
    "set2 = {6,7,8,9}\n",
    "print('The second set is: ',set2)\n",
    "\n",
    "#the mergeed set\n",
    "print('The merged set is: ', set1.union(set2))"
   ]
  },
  {
   "cell_type": "code",
   "execution_count": null,
   "id": "e08a3a1b-4d4f-4451-b650-5ba9e09c6fea",
   "metadata": {},
   "outputs": [],
   "source": []
  }
 ],
 "metadata": {
  "kernelspec": {
   "display_name": "Python 3 (ipykernel)",
   "language": "python",
   "name": "python3"
  },
  "language_info": {
   "codemirror_mode": {
    "name": "ipython",
    "version": 3
   },
   "file_extension": ".py",
   "mimetype": "text/x-python",
   "name": "python",
   "nbconvert_exporter": "python",
   "pygments_lexer": "ipython3",
   "version": "3.10.8"
  }
 },
 "nbformat": 4,
 "nbformat_minor": 5
}
