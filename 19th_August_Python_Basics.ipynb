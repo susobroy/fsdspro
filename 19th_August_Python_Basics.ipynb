{
 "cells": [
  {
   "cell_type": "markdown",
   "id": "a2270f2b-1ea9-4e46-a046-8da101c318ed",
   "metadata": {},
   "source": [
    "TOPIC: Python Basics Variable"
   ]
  },
  {
   "cell_type": "markdown",
   "id": "214f878f-ae34-4cf1-8052-70afdf88c533",
   "metadata": {},
   "source": [
    "Problem 1: \n",
    "Declare two variables, `x` and `y`, and assign them integer values. Swap the values of these variables without using any temporary variable."
   ]
  },
  {
   "cell_type": "code",
   "execution_count": 7,
   "id": "7ed79c50-d1af-4612-a3ca-869cad2d2633",
   "metadata": {},
   "outputs": [
    {
     "name": "stdout",
     "output_type": "stream",
     "text": [
      "Before Swap: 10 15\n",
      "After Swap: 15 10\n"
     ]
    }
   ],
   "source": [
    "#Declare variables and assign values\n",
    "x=10\n",
    "y=15\n",
    "\n",
    "#print the values before swap\n",
    "print(\"Before Swap:\",x,y)\n",
    "\n",
    "#perform the swap of the values\n",
    "x,y=y,x\n",
    "\n",
    "#print the values after swap\n",
    "print(\"After Swap:\",x,y)"
   ]
  },
  {
   "cell_type": "markdown",
   "id": "56bd5dd6-ac21-4eef-9c1c-64ecb5bb3342",
   "metadata": {},
   "source": [
    "Problem 2: Create a program that calculates the area of a rectangle. Take the length and width as inputs from the user and store them in variables. Calculate and display the area."
   ]
  },
  {
   "cell_type": "code",
   "execution_count": 8,
   "id": "57590636-5ed6-4fec-8317-ad931b9dee9e",
   "metadata": {},
   "outputs": [
    {
     "name": "stdin",
     "output_type": "stream",
     "text": [
      "Enter the length:  10\n",
      "Enter the width:  15\n"
     ]
    },
    {
     "name": "stdout",
     "output_type": "stream",
     "text": [
      "The area of the rectangle is:  150\n"
     ]
    }
   ],
   "source": [
    "#Take input for the length\n",
    "length = int(input('Enter the length: '))\n",
    "\n",
    "#Take input for the width\n",
    "width = int(input('Enter the width: '))\n",
    "\n",
    "#calculate the area\n",
    "area = length * width\n",
    "\n",
    "#print the area\n",
    "print('The area of the rectangle is: ',area)"
   ]
  },
  {
   "cell_type": "markdown",
   "id": "cca135ed-fdc7-4d84-8302-ca4f35da1931",
   "metadata": {},
   "source": [
    "Problem 3: Write a Python program that converts temperatures from Celsius to Fahrenheit. Take the temperature in Celsius as input, store it in a variable, convert it to Fahrenheit, and display the result."
   ]
  },
  {
   "cell_type": "code",
   "execution_count": 11,
   "id": "805e3107-8dd4-4859-b9e7-859aea2607d9",
   "metadata": {},
   "outputs": [
    {
     "name": "stdin",
     "output_type": "stream",
     "text": [
      "Enter the temperature in Celsius:  15\n"
     ]
    },
    {
     "name": "stdout",
     "output_type": "stream",
     "text": [
      "The converted temperature in Fahrenhite is: 59.0\n"
     ]
    }
   ],
   "source": [
    "#Enter the temperature in Celsius\n",
    "temp_c = float(input('Enter the temperature in Celsius: '))\n",
    "\n",
    "#convert the temperature in Fahrenhite\n",
    "temp_f = (temp_c * (9/5)) + 32\n",
    "\n",
    "#print the temperature in Fahrenhite\n",
    "print('The converted temperature in Fahrenhite is:',temp_f)"
   ]
  },
  {
   "cell_type": "markdown",
   "id": "9c2cf393-ff7a-4cb4-979a-812700760466",
   "metadata": {},
   "source": [
    "TOPIC: String Based Questions"
   ]
  },
  {
   "cell_type": "markdown",
   "id": "80655449-493b-46f8-8cde-36a56023a006",
   "metadata": {},
   "source": [
    "Problem 1: Write a Python program that takes a string as input and prints the length of the string."
   ]
  },
  {
   "cell_type": "code",
   "execution_count": 12,
   "id": "6051a976-3bb5-4d7b-a002-eb8be92299a3",
   "metadata": {},
   "outputs": [
    {
     "name": "stdin",
     "output_type": "stream",
     "text": [
      "Enter your name:  My name is Susobhan\n"
     ]
    },
    {
     "name": "stdout",
     "output_type": "stream",
     "text": [
      "The length of the string:  19\n"
     ]
    }
   ],
   "source": [
    "#Take string as input\n",
    "str1 = input('Enter your name: ')\n",
    "\n",
    "#print the length of the string\n",
    "print('The length of the string: ',len(str1))"
   ]
  },
  {
   "cell_type": "markdown",
   "id": "827fb8fa-fdf1-47f4-b8f3-84c3bd413633",
   "metadata": {},
   "source": [
    "Problem 2: Create a program that takes a sentence from the user and counts the number of vowels (a, e, i, o, u) in the string."
   ]
  },
  {
   "cell_type": "code",
   "execution_count": 18,
   "id": "b5e357b6-9220-4480-8b4d-84c0862f6fcc",
   "metadata": {},
   "outputs": [
    {
     "name": "stdin",
     "output_type": "stream",
     "text": [
      "Enter your scentence:  Lets do it \n"
     ]
    },
    {
     "name": "stdout",
     "output_type": "stream",
     "text": [
      "The number of vowels:  3\n"
     ]
    }
   ],
   "source": [
    "#take the scentence as input\n",
    "sntc = input('Enter your scentence: ')\n",
    "\n",
    "#convert the string into lowercase\n",
    "sntc = sntc.lower()\n",
    "\n",
    "#initialize the iterator\n",
    "i=0\n",
    "\n",
    "#Initialize the vowel counter\n",
    "count=0\n",
    "\n",
    "#main logic\n",
    "for i in range(len(sntc)):\n",
    "    if sntc[i] in ('a','e','i','o','u'):\n",
    "        count +=1\n",
    "\n",
    "#print the number of vowels\n",
    "print('The number of vowels: ',count)"
   ]
  },
  {
   "cell_type": "markdown",
   "id": "b1a7827e-de31-4ebc-a518-ca0dd60863e9",
   "metadata": {},
   "source": [
    "Problem 3: Given a string, reverse the order of characters using string slicing and print the reversed string."
   ]
  },
  {
   "cell_type": "code",
   "execution_count": 21,
   "id": "9c04fb78-8c7e-499b-825d-f5dcdc788400",
   "metadata": {},
   "outputs": [
    {
     "name": "stdin",
     "output_type": "stream",
     "text": [
      "Enter a string:  Mango\n"
     ]
    },
    {
     "name": "stdout",
     "output_type": "stream",
     "text": [
      "The reveresed string is:  ognaM\n"
     ]
    }
   ],
   "source": [
    "#Take input for a string\n",
    "str2 = input('Enter a string: ')\n",
    "\n",
    "#reverse the string\n",
    "rev_str2 = str2[::-1]\n",
    "\n",
    "#print the reversed string\n",
    "print('The reveresed string is: ', rev_str2)"
   ]
  },
  {
   "cell_type": "markdown",
   "id": "fed775ca-b2dd-4ae1-9355-c04f4a816a4f",
   "metadata": {},
   "source": [
    "Problem 4: Write a program that takes a string as input and checks if it is a palindrome (reads the same forwards and backwards)."
   ]
  },
  {
   "cell_type": "code",
   "execution_count": 26,
   "id": "54790144-38a6-4413-b286-12d99d777d36",
   "metadata": {},
   "outputs": [
    {
     "name": "stdin",
     "output_type": "stream",
     "text": [
      "Enter the string:  Madam\n"
     ]
    },
    {
     "name": "stdout",
     "output_type": "stream",
     "text": [
      "Palindrome\n"
     ]
    }
   ],
   "source": [
    "#take input of the string\n",
    "str3 = input('Enter the string: ')\n",
    "\n",
    "#convert the string in lowercase\n",
    "str3=str3.lower()\n",
    "\n",
    "#reverse the string\n",
    "rev_str3 = str3[::-1]\n",
    "\n",
    "#logic \n",
    "if str3 == rev_str3:\n",
    "    print('Palindrome')\n",
    "else:\n",
    "    print('Not Palindrome')\n"
   ]
  },
  {
   "cell_type": "markdown",
   "id": "d4eadd80-e19a-4788-afbb-22263da55590",
   "metadata": {},
   "source": [
    "Problem 5: Create a program that takes a string as input and removes all the spaces from it. Print the modified string without spaces."
   ]
  },
  {
   "cell_type": "code",
   "execution_count": 30,
   "id": "cca5626d-111d-458c-aa5b-64bd7b17e4f0",
   "metadata": {},
   "outputs": [
    {
     "name": "stdin",
     "output_type": "stream",
     "text": [
      "Enter the string:  hello world\n"
     ]
    },
    {
     "name": "stdout",
     "output_type": "stream",
     "text": [
      "The string without spaces:  helloworld\n"
     ]
    }
   ],
   "source": [
    "#take input of the string\n",
    "str4 = input('Enter the string: ')\n",
    "\n",
    "#remove the spaces\n",
    "str5=str4.replace(\" \",\"\")\n",
    "\n",
    "#print the string without spaces\n",
    "print('The string without spaces: ', str5)"
   ]
  },
  {
   "cell_type": "code",
   "execution_count": null,
   "id": "a701903d-775a-4558-b660-4c3231daf2c4",
   "metadata": {},
   "outputs": [],
   "source": []
  }
 ],
 "metadata": {
  "kernelspec": {
   "display_name": "Python 3 (ipykernel)",
   "language": "python",
   "name": "python3"
  },
  "language_info": {
   "codemirror_mode": {
    "name": "ipython",
    "version": 3
   },
   "file_extension": ".py",
   "mimetype": "text/x-python",
   "name": "python",
   "nbconvert_exporter": "python",
   "pygments_lexer": "ipython3",
   "version": "3.10.8"
  }
 },
 "nbformat": 4,
 "nbformat_minor": 5
}
